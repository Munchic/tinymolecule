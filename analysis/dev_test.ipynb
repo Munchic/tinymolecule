{
 "cells": [
  {
   "cell_type": "code",
   "execution_count": 1,
   "metadata": {},
   "outputs": [],
   "source": [
    "import os\n",
    "import sys\n",
    "sys.path.append(\"..\")  # add top folder to path\n",
    "\n",
    "import tinymolecule\n",
    "\n",
    "import matplotlib.pyplot as plt\n",
    "from scipy.stats import percentileofscore"
   ]
  },
  {
   "cell_type": "code",
   "execution_count": 2,
   "metadata": {},
   "outputs": [],
   "source": [
    "tt = tinymolecule.TinyTrain()"
   ]
  },
  {
   "cell_type": "code",
   "execution_count": 3,
   "metadata": {},
   "outputs": [],
   "source": [
    "ta = tinymolecule.TinyAnalyze()"
   ]
  },
  {
   "cell_type": "code",
   "execution_count": 4,
   "metadata": {},
   "outputs": [
    {
     "data": {
      "text/plain": [
       "{'ec0fdc31': {'MCF_PAINS_pass': True,\n",
       "  'logP': 5.994200000000007,\n",
       "  'QED': 0.24949291816662938,\n",
       "  'SA': 2.996830627015026,\n",
       "  'weight': 577.7910000000002,\n",
       "  'n_rings': 4},\n",
       " 'e8244ede': {'MCF_PAINS_pass': True,\n",
       "  'logP': 5.825800000000007,\n",
       "  'QED': 0.3397392620058908,\n",
       "  'SA': 2.6949474504507673,\n",
       "  'weight': 490.71300000000025,\n",
       "  'n_rings': 4},\n",
       " '82301e56': {'MCF_PAINS_pass': True,\n",
       "  'logP': 6.860500000000008,\n",
       "  'QED': 0.3314178880122684,\n",
       "  'SA': 3.4677551581760913,\n",
       "  'weight': 516.7700000000003,\n",
       "  'n_rings': 5},\n",
       " '802f05ac': {'MCF_PAINS_pass': False,\n",
       "  'logP': 10.229199999999999,\n",
       "  'QED': 0.31110821186043863,\n",
       "  'SA': 6.7262359907614835,\n",
       "  'weight': 708.0189999999999,\n",
       "  'n_rings': 6},\n",
       " '1f3586a9': {'MCF_PAINS_pass': True,\n",
       "  'logP': 5.209600000000006,\n",
       "  'QED': 0.426220213403375,\n",
       "  'SA': 3.618137764509397,\n",
       "  'weight': 540.7520000000003,\n",
       "  'n_rings': 6}}"
      ]
     },
     "execution_count": 4,
     "metadata": {},
     "output_type": "execute_result"
    }
   ],
   "source": [
    "ta.get_molecular_properties([\n",
    "    \"ec0fdc31\",\n",
    "    \"e8244ede\",\n",
    "    \"82301e56\",\n",
    "    \"802f05ac\",\n",
    "    \"1f3586a9\"\n",
    "])"
   ]
  },
  {
   "cell_type": "code",
   "execution_count": 5,
   "metadata": {},
   "outputs": [
    {
     "name": "stdout",
     "output_type": "stream",
     "text": [
      "molecules prioritized, you can access at TinyAnalyze.priority_df\n"
     ]
    }
   ],
   "source": [
    "ta.prioritize()"
   ]
  },
  {
   "cell_type": "code",
   "execution_count": 7,
   "metadata": {},
   "outputs": [
    {
     "data": {
      "text/html": [
       "<div>\n",
       "<style scoped>\n",
       "    .dataframe tbody tr th:only-of-type {\n",
       "        vertical-align: middle;\n",
       "    }\n",
       "\n",
       "    .dataframe tbody tr th {\n",
       "        vertical-align: top;\n",
       "    }\n",
       "\n",
       "    .dataframe thead th {\n",
       "        text-align: right;\n",
       "    }\n",
       "</style>\n",
       "<table border=\"1\" class=\"dataframe\">\n",
       "  <thead>\n",
       "    <tr style=\"text-align: right;\">\n",
       "      <th></th>\n",
       "      <th>uuid</th>\n",
       "      <th>variants_mean</th>\n",
       "      <th>off_targets_max</th>\n",
       "      <th>objective</th>\n",
       "    </tr>\n",
       "  </thead>\n",
       "  <tbody>\n",
       "    <tr>\n",
       "      <th>4369</th>\n",
       "      <td>ec0fdc31</td>\n",
       "      <td>9.176</td>\n",
       "      <td>7.830</td>\n",
       "      <td>1.346</td>\n",
       "    </tr>\n",
       "    <tr>\n",
       "      <th>2609</th>\n",
       "      <td>e8244ede</td>\n",
       "      <td>9.328</td>\n",
       "      <td>8.040</td>\n",
       "      <td>1.288</td>\n",
       "    </tr>\n",
       "    <tr>\n",
       "      <th>3789</th>\n",
       "      <td>82301e56</td>\n",
       "      <td>9.410</td>\n",
       "      <td>8.140</td>\n",
       "      <td>1.270</td>\n",
       "    </tr>\n",
       "    <tr>\n",
       "      <th>2130</th>\n",
       "      <td>802f05ac</td>\n",
       "      <td>10.678</td>\n",
       "      <td>9.420</td>\n",
       "      <td>1.258</td>\n",
       "    </tr>\n",
       "    <tr>\n",
       "      <th>804</th>\n",
       "      <td>1f3586a9</td>\n",
       "      <td>9.654</td>\n",
       "      <td>8.410</td>\n",
       "      <td>1.244</td>\n",
       "    </tr>\n",
       "    <tr>\n",
       "      <th>...</th>\n",
       "      <td>...</td>\n",
       "      <td>...</td>\n",
       "      <td>...</td>\n",
       "      <td>...</td>\n",
       "    </tr>\n",
       "    <tr>\n",
       "      <th>1555</th>\n",
       "      <td>29fe37a2</td>\n",
       "      <td>8.672</td>\n",
       "      <td>10.610</td>\n",
       "      <td>-1.938</td>\n",
       "    </tr>\n",
       "    <tr>\n",
       "      <th>2646</th>\n",
       "      <td>8bf1eff2</td>\n",
       "      <td>8.950</td>\n",
       "      <td>10.940</td>\n",
       "      <td>-1.990</td>\n",
       "    </tr>\n",
       "    <tr>\n",
       "      <th>3940</th>\n",
       "      <td>96aa6c13</td>\n",
       "      <td>7.026</td>\n",
       "      <td>9.075</td>\n",
       "      <td>-2.049</td>\n",
       "    </tr>\n",
       "    <tr>\n",
       "      <th>1768</th>\n",
       "      <td>e97be3e0</td>\n",
       "      <td>8.482</td>\n",
       "      <td>10.550</td>\n",
       "      <td>-2.068</td>\n",
       "    </tr>\n",
       "    <tr>\n",
       "      <th>1201</th>\n",
       "      <td>8483c44e</td>\n",
       "      <td>7.074</td>\n",
       "      <td>10.050</td>\n",
       "      <td>-2.976</td>\n",
       "    </tr>\n",
       "  </tbody>\n",
       "</table>\n",
       "<p>5530 rows × 4 columns</p>\n",
       "</div>"
      ],
      "text/plain": [
       "          uuid  variants_mean  off_targets_max  objective\n",
       "4369  ec0fdc31          9.176            7.830      1.346\n",
       "2609  e8244ede          9.328            8.040      1.288\n",
       "3789  82301e56          9.410            8.140      1.270\n",
       "2130  802f05ac         10.678            9.420      1.258\n",
       "804   1f3586a9          9.654            8.410      1.244\n",
       "...        ...            ...              ...        ...\n",
       "1555  29fe37a2          8.672           10.610     -1.938\n",
       "2646  8bf1eff2          8.950           10.940     -1.990\n",
       "3940  96aa6c13          7.026            9.075     -2.049\n",
       "1768  e97be3e0          8.482           10.550     -2.068\n",
       "1201  8483c44e          7.074           10.050     -2.976\n",
       "\n",
       "[5530 rows x 4 columns]"
      ]
     },
     "execution_count": 7,
     "metadata": {},
     "output_type": "execute_result"
    }
   ],
   "source": [
    "ta.priority_df"
   ]
  },
  {
   "cell_type": "code",
   "execution_count": 6,
   "metadata": {},
   "outputs": [],
   "source": [
    "ccr5_mol_props_and_baff = ta.get_mol_props_and_baff()"
   ]
  },
  {
   "cell_type": "code",
   "execution_count": 31,
   "metadata": {},
   "outputs": [
    {
     "name": "stdout",
     "output_type": "stream",
     "text": [
      "4   33.34177856599949\n",
      "4   33.34177856599949\n",
      "5   74.20825943754751\n",
      "6   95.39523688877628\n",
      "6   95.39523688877628\n",
      "5   74.20825943754751\n",
      "4   33.34177856599949\n"
     ]
    }
   ],
   "source": [
    "\n",
    "for x in [4, 4, 5, 6, 6, 5, 4]:\n",
    "    print(x, \" \", percentileofscore(list(ccr5_mol_props_and_baff[\"n_rings\"]), x))"
   ]
  },
  {
   "cell_type": "code",
   "execution_count": 11,
   "metadata": {},
   "outputs": [
    {
     "data": {
      "image/png": "[encoded data removed]",
      "text/plain": [
       "<Figure size 432x288 with 1 Axes>"
      ]
     },
     "metadata": {
      "needs_background": "light"
     },
     "output_type": "display_data"
    }
   ],
   "source": [
    "plt.hist(ccr5_mol_props_and_baff[\"logP\"])\n",
    "plt.show()"
   ]
  },
  {
   "cell_type": "code",
   "execution_count": null,
   "metadata": {},
   "outputs": [],
   "source": [
    "ta.get_molecular_properties([\"e8244ede\")"
   ]
  },
  {
   "cell_type": "code",
   "execution_count": 8,
   "metadata": {},
   "outputs": [
    {
     "name": "stdout",
     "output_type": "stream",
     "text": [
      "assays data prepared, you can access at .assays\n"
     ]
    },
    {
     "data": {
      "text/html": [
       "<div>\n",
       "<style scoped>\n",
       "    .dataframe tbody tr th:only-of-type {\n",
       "        vertical-align: middle;\n",
       "    }\n",
       "\n",
       "    .dataframe tbody tr th {\n",
       "        vertical-align: top;\n",
       "    }\n",
       "\n",
       "    .dataframe thead th {\n",
       "        text-align: right;\n",
       "    }\n",
       "</style>\n",
       "<table border=\"1\" class=\"dataframe\">\n",
       "  <thead>\n",
       "    <tr style=\"text-align: right;\">\n",
       "      <th></th>\n",
       "      <th>activity_comment</th>\n",
       "      <th>activity_id</th>\n",
       "      <th>activity_properties</th>\n",
       "      <th>assay_chembl_id</th>\n",
       "      <th>assay_description</th>\n",
       "      <th>assay_type</th>\n",
       "      <th>bao_endpoint</th>\n",
       "      <th>bao_format</th>\n",
       "      <th>bao_label</th>\n",
       "      <th>canonical_smiles</th>\n",
       "      <th>...</th>\n",
       "      <th>target_organism</th>\n",
       "      <th>target_pref_name</th>\n",
       "      <th>target_tax_id</th>\n",
       "      <th>text_value</th>\n",
       "      <th>toid</th>\n",
       "      <th>type</th>\n",
       "      <th>units</th>\n",
       "      <th>uo_units</th>\n",
       "      <th>upper_value</th>\n",
       "      <th>value</th>\n",
       "    </tr>\n",
       "  </thead>\n",
       "  <tbody>\n",
       "    <tr>\n",
       "      <th>0</th>\n",
       "      <td>NaN</td>\n",
       "      <td>75508</td>\n",
       "      <td>[]</td>\n",
       "      <td>CHEMBL654653</td>\n",
       "      <td>Binding affinity against C-C chemokine recepto...</td>\n",
       "      <td>B</td>\n",
       "      <td>BAO_0000190</td>\n",
       "      <td>BAO_0000219</td>\n",
       "      <td>cell-based format</td>\n",
       "      <td>C=CCN(C(=O)OCc1ccc([N+](=O)[O-])cc1)C1CCN(CCC(...</td>\n",
       "      <td>...</td>\n",
       "      <td>Homo sapiens</td>\n",
       "      <td>C-C chemokine receptor type 5</td>\n",
       "      <td>9606</td>\n",
       "      <td>NaN</td>\n",
       "      <td>NaN</td>\n",
       "      <td>IC50</td>\n",
       "      <td>nM</td>\n",
       "      <td>UO_0000065</td>\n",
       "      <td>NaN</td>\n",
       "      <td>335.0</td>\n",
       "    </tr>\n",
       "    <tr>\n",
       "      <th>1</th>\n",
       "      <td>NaN</td>\n",
       "      <td>75509</td>\n",
       "      <td>[]</td>\n",
       "      <td>CHEMBL654653</td>\n",
       "      <td>Binding affinity against C-C chemokine recepto...</td>\n",
       "      <td>B</td>\n",
       "      <td>BAO_0000190</td>\n",
       "      <td>BAO_0000219</td>\n",
       "      <td>cell-based format</td>\n",
       "      <td>C=CCN(C(=O)OCc1ccc([N+](=O)[O-])cc1)C1CCN(CCC(...</td>\n",
       "      <td>...</td>\n",
       "      <td>Homo sapiens</td>\n",
       "      <td>C-C chemokine receptor type 5</td>\n",
       "      <td>9606</td>\n",
       "      <td>NaN</td>\n",
       "      <td>NaN</td>\n",
       "      <td>IC50</td>\n",
       "      <td>nM</td>\n",
       "      <td>UO_0000065</td>\n",
       "      <td>NaN</td>\n",
       "      <td>28.0</td>\n",
       "    </tr>\n",
       "    <tr>\n",
       "      <th>2</th>\n",
       "      <td>NaN</td>\n",
       "      <td>75510</td>\n",
       "      <td>[]</td>\n",
       "      <td>CHEMBL654653</td>\n",
       "      <td>Binding affinity against C-C chemokine recepto...</td>\n",
       "      <td>B</td>\n",
       "      <td>BAO_0000190</td>\n",
       "      <td>BAO_0000219</td>\n",
       "      <td>cell-based format</td>\n",
       "      <td>C=CCN(C(=O)OCc1ccc([N+](=O)[O-])cc1)C1CCN(CCC(...</td>\n",
       "      <td>...</td>\n",
       "      <td>Homo sapiens</td>\n",
       "      <td>C-C chemokine receptor type 5</td>\n",
       "      <td>9606</td>\n",
       "      <td>NaN</td>\n",
       "      <td>NaN</td>\n",
       "      <td>IC50</td>\n",
       "      <td>nM</td>\n",
       "      <td>UO_0000065</td>\n",
       "      <td>NaN</td>\n",
       "      <td>10.0</td>\n",
       "    </tr>\n",
       "    <tr>\n",
       "      <th>3</th>\n",
       "      <td>NaN</td>\n",
       "      <td>76739</td>\n",
       "      <td>[]</td>\n",
       "      <td>CHEMBL873385</td>\n",
       "      <td>Binding affinity against human CCR5 receptor s...</td>\n",
       "      <td>B</td>\n",
       "      <td>BAO_0000190</td>\n",
       "      <td>BAO_0000219</td>\n",
       "      <td>cell-based format</td>\n",
       "      <td>CN(C[C@@H](CCN1CCC2(CC1)C[S+]([O-])c1ccccc12)c...</td>\n",
       "      <td>...</td>\n",
       "      <td>Homo sapiens</td>\n",
       "      <td>C-C chemokine receptor type 5</td>\n",
       "      <td>9606</td>\n",
       "      <td>NaN</td>\n",
       "      <td>NaN</td>\n",
       "      <td>IC50</td>\n",
       "      <td>nM</td>\n",
       "      <td>UO_0000065</td>\n",
       "      <td>NaN</td>\n",
       "      <td>35.0</td>\n",
       "    </tr>\n",
       "    <tr>\n",
       "      <th>4</th>\n",
       "      <td>NaN</td>\n",
       "      <td>77749</td>\n",
       "      <td>[]</td>\n",
       "      <td>CHEMBL654653</td>\n",
       "      <td>Binding affinity against C-C chemokine recepto...</td>\n",
       "      <td>B</td>\n",
       "      <td>BAO_0000190</td>\n",
       "      <td>BAO_0000219</td>\n",
       "      <td>cell-based format</td>\n",
       "      <td>C=CCN(C(=O)OCc1ccc([N+](=O)[O-])cc1)C1CCN(CCC(...</td>\n",
       "      <td>...</td>\n",
       "      <td>Homo sapiens</td>\n",
       "      <td>C-C chemokine receptor type 5</td>\n",
       "      <td>9606</td>\n",
       "      <td>NaN</td>\n",
       "      <td>NaN</td>\n",
       "      <td>IC50</td>\n",
       "      <td>nM</td>\n",
       "      <td>UO_0000065</td>\n",
       "      <td>NaN</td>\n",
       "      <td>15.0</td>\n",
       "    </tr>\n",
       "  </tbody>\n",
       "</table>\n",
       "<p>5 rows × 43 columns</p>\n",
       "</div>"
      ],
      "text/plain": [
       "  activity_comment  activity_id activity_properties assay_chembl_id  \\\n",
       "0              NaN        75508                  []    CHEMBL654653   \n",
       "1              NaN        75509                  []    CHEMBL654653   \n",
       "2              NaN        75510                  []    CHEMBL654653   \n",
       "3              NaN        76739                  []    CHEMBL873385   \n",
       "4              NaN        77749                  []    CHEMBL654653   \n",
       "\n",
       "                                   assay_description assay_type bao_endpoint  \\\n",
       "0  Binding affinity against C-C chemokine recepto...          B  BAO_0000190   \n",
       "1  Binding affinity against C-C chemokine recepto...          B  BAO_0000190   \n",
       "2  Binding affinity against C-C chemokine recepto...          B  BAO_0000190   \n",
       "3  Binding affinity against human CCR5 receptor s...          B  BAO_0000190   \n",
       "4  Binding affinity against C-C chemokine recepto...          B  BAO_0000190   \n",
       "\n",
       "    bao_format          bao_label  \\\n",
       "0  BAO_0000219  cell-based format   \n",
       "1  BAO_0000219  cell-based format   \n",
       "2  BAO_0000219  cell-based format   \n",
       "3  BAO_0000219  cell-based format   \n",
       "4  BAO_0000219  cell-based format   \n",
       "\n",
       "                                    canonical_smiles  ... target_organism  \\\n",
       "0  C=CCN(C(=O)OCc1ccc([N+](=O)[O-])cc1)C1CCN(CCC(...  ...    Homo sapiens   \n",
       "1  C=CCN(C(=O)OCc1ccc([N+](=O)[O-])cc1)C1CCN(CCC(...  ...    Homo sapiens   \n",
       "2  C=CCN(C(=O)OCc1ccc([N+](=O)[O-])cc1)C1CCN(CCC(...  ...    Homo sapiens   \n",
       "3  CN(C[C@@H](CCN1CCC2(CC1)C[S+]([O-])c1ccccc12)c...  ...    Homo sapiens   \n",
       "4  C=CCN(C(=O)OCc1ccc([N+](=O)[O-])cc1)C1CCN(CCC(...  ...    Homo sapiens   \n",
       "\n",
       "                target_pref_name target_tax_id text_value  toid  type units  \\\n",
       "0  C-C chemokine receptor type 5          9606        NaN   NaN  IC50    nM   \n",
       "1  C-C chemokine receptor type 5          9606        NaN   NaN  IC50    nM   \n",
       "2  C-C chemokine receptor type 5          9606        NaN   NaN  IC50    nM   \n",
       "3  C-C chemokine receptor type 5          9606        NaN   NaN  IC50    nM   \n",
       "4  C-C chemokine receptor type 5          9606        NaN   NaN  IC50    nM   \n",
       "\n",
       "     uo_units upper_value  value  \n",
       "0  UO_0000065         NaN  335.0  \n",
       "1  UO_0000065         NaN   28.0  \n",
       "2  UO_0000065         NaN   10.0  \n",
       "3  UO_0000065         NaN   35.0  \n",
       "4  UO_0000065         NaN   15.0  \n",
       "\n",
       "[5 rows x 43 columns]"
      ]
     },
     "execution_count": 8,
     "metadata": {},
     "output_type": "execute_result"
    }
   ],
   "source": [
    "tt.get_assays_data(\"/Users/Munchic/Developer/Capstone/tinymolecule/data/ccr5_ic50_meta.csv\")\n",
    "tt.assays.head()"
   ]
  },
  {
   "cell_type": "code",
   "execution_count": 5,
   "metadata": {},
   "outputs": [],
   "source": [
    "# tt.write_train_csv()"
   ]
  },
  {
   "cell_type": "code",
   "execution_count": 6,
   "metadata": {},
   "outputs": [],
   "source": [
    "td = tinymolecule.TinyDock()\n",
    "# td.prepare_molecules(which_ligands=\"train\")"
   ]
  },
  {
   "cell_type": "code",
   "execution_count": 6,
   "metadata": {},
   "outputs": [
    {
     "name": "stdout",
     "output_type": "stream",
     "text": [
      ">>> DOCKING 6036 MOLECULES ON CCR2 <<< \n",
      "subsampling 6036 molecules to dock\n",
      "docking molecule 2de25107 (1/6036) ❌ subprocess error\n",
      "docking molecule edb0ba0a (2/6036) ✅ success\n",
      "docking molecule ace426bc (3/6036) ✅ success\n",
      "docking molecule af4a11ad (4/6036) ✅ success\n",
      "docking molecule e2fedb66 (5/6036) ✅ success\n",
      "docking molecule 46c9ee4a (6/6036) ✅ success\n",
      "docking molecule 05208265 (7/6036)"
     ]
    },
    {
     "ename": "KeyboardInterrupt",
     "evalue": "",
     "output_type": "error",
     "traceback": [
      "\u001b[0;31m---------------------------------------------------------------------------\u001b[0m",
      "\u001b[0;31mKeyboardInterrupt\u001b[0m                         Traceback (most recent call last)",
      "\u001b[0;32m<ipython-input-6-88efbe9a0705>\u001b[0m in \u001b[0;36m<module>\u001b[0;34m\u001b[0m\n\u001b[0;32m----> 1\u001b[0;31m \u001b[0mtd\u001b[0m\u001b[0;34m.\u001b[0m\u001b[0mdock\u001b[0m\u001b[0;34m(\u001b[0m\u001b[0mtargets\u001b[0m\u001b[0;34m=\u001b[0m\u001b[0;34m[\u001b[0m\u001b[0;34m\"CCR2\"\u001b[0m\u001b[0;34m]\u001b[0m\u001b[0;34m,\u001b[0m \u001b[0msubsample\u001b[0m\u001b[0;34m=\u001b[0m\u001b[0;36m1\u001b[0m\u001b[0;34m)\u001b[0m\u001b[0;34m\u001b[0m\u001b[0;34m\u001b[0m\u001b[0m\n\u001b[0m",
      "\u001b[0;32m~/Developer/Capstone/tinymolecule/tinymolecule/TinyDock.py\u001b[0m in \u001b[0;36mdock\u001b[0;34m(self, targets, subsample, dock_from_logs, rewrite, silent_error)\u001b[0m\n\u001b[1;32m    227\u001b[0m                         \u001b[0;34m+\u001b[0m \u001b[0;34mf\"--ligand {self.ligands_subdir / ligand} \"\u001b[0m\u001b[0;34m\u001b[0m\u001b[0;34m\u001b[0m\u001b[0m\n\u001b[1;32m    228\u001b[0m                         \u001b[0;34m+\u001b[0m \u001b[0;34mf\"--out {out_pdbqt_dir / ligand} \"\u001b[0m\u001b[0;34m\u001b[0m\u001b[0;34m\u001b[0m\u001b[0m\n\u001b[0;32m--> 229\u001b[0;31m                         \u001b[0;34m+\u001b[0m \u001b[0;34mf\"--log {out_logs_dir / change_file_ext(ligand, ext='txt')}\"\u001b[0m\u001b[0;34m\u001b[0m\u001b[0;34m\u001b[0m\u001b[0m\n\u001b[0m\u001b[1;32m    230\u001b[0m                     )\n\u001b[1;32m    231\u001b[0m                     \u001b[0mprint\u001b[0m\u001b[0;34m(\u001b[0m\u001b[0;34m\" ✅ success\"\u001b[0m\u001b[0;34m)\u001b[0m\u001b[0;34m\u001b[0m\u001b[0;34m\u001b[0m\u001b[0m\n",
      "\u001b[0;32m~/Developer/Capstone/tinymolecule/tinymolecule/utils/helper_fn.py\u001b[0m in \u001b[0;36mshell_command\u001b[0;34m(command)\u001b[0m\n\u001b[1;32m     29\u001b[0m \u001b[0;32mdef\u001b[0m \u001b[0mshell_command\u001b[0m\u001b[0;34m(\u001b[0m\u001b[0mcommand\u001b[0m\u001b[0;34m)\u001b[0m\u001b[0;34m:\u001b[0m\u001b[0;34m\u001b[0m\u001b[0;34m\u001b[0m\u001b[0m\n\u001b[1;32m     30\u001b[0m     \u001b[0mFNULL\u001b[0m \u001b[0;34m=\u001b[0m \u001b[0mopen\u001b[0m\u001b[0;34m(\u001b[0m\u001b[0mos\u001b[0m\u001b[0;34m.\u001b[0m\u001b[0mdevnull\u001b[0m\u001b[0;34m,\u001b[0m \u001b[0;34m\"w\"\u001b[0m\u001b[0;34m)\u001b[0m\u001b[0;34m\u001b[0m\u001b[0;34m\u001b[0m\u001b[0m\n\u001b[0;32m---> 31\u001b[0;31m     \u001b[0msubprocess\u001b[0m\u001b[0;34m.\u001b[0m\u001b[0mcheck_call\u001b[0m\u001b[0;34m(\u001b[0m\u001b[0mshlex\u001b[0m\u001b[0;34m.\u001b[0m\u001b[0msplit\u001b[0m\u001b[0;34m(\u001b[0m\u001b[0mcommand\u001b[0m\u001b[0;34m)\u001b[0m\u001b[0;34m,\u001b[0m \u001b[0mstdout\u001b[0m\u001b[0;34m=\u001b[0m\u001b[0mFNULL\u001b[0m\u001b[0;34m,\u001b[0m \u001b[0mstderr\u001b[0m\u001b[0;34m=\u001b[0m\u001b[0msubprocess\u001b[0m\u001b[0;34m.\u001b[0m\u001b[0mSTDOUT\u001b[0m\u001b[0;34m)\u001b[0m\u001b[0;34m\u001b[0m\u001b[0;34m\u001b[0m\u001b[0m\n\u001b[0m",
      "\u001b[0;32m~/miniconda3/envs/tinymolecule/lib/python3.6/subprocess.py\u001b[0m in \u001b[0;36mcheck_call\u001b[0;34m(*popenargs, **kwargs)\u001b[0m\n\u001b[1;32m    304\u001b[0m     \u001b[0mcheck_call\u001b[0m\u001b[0;34m(\u001b[0m\u001b[0;34m[\u001b[0m\u001b[0;34m\"ls\"\u001b[0m\u001b[0;34m,\u001b[0m \u001b[0;34m\"-l\"\u001b[0m\u001b[0;34m]\u001b[0m\u001b[0;34m)\u001b[0m\u001b[0;34m\u001b[0m\u001b[0;34m\u001b[0m\u001b[0m\n\u001b[1;32m    305\u001b[0m     \"\"\"\n\u001b[0;32m--> 306\u001b[0;31m     \u001b[0mretcode\u001b[0m \u001b[0;34m=\u001b[0m \u001b[0mcall\u001b[0m\u001b[0;34m(\u001b[0m\u001b[0;34m*\u001b[0m\u001b[0mpopenargs\u001b[0m\u001b[0;34m,\u001b[0m \u001b[0;34m**\u001b[0m\u001b[0mkwargs\u001b[0m\u001b[0;34m)\u001b[0m\u001b[0;34m\u001b[0m\u001b[0;34m\u001b[0m\u001b[0m\n\u001b[0m\u001b[1;32m    307\u001b[0m     \u001b[0;32mif\u001b[0m \u001b[0mretcode\u001b[0m\u001b[0;34m:\u001b[0m\u001b[0;34m\u001b[0m\u001b[0;34m\u001b[0m\u001b[0m\n\u001b[1;32m    308\u001b[0m         \u001b[0mcmd\u001b[0m \u001b[0;34m=\u001b[0m \u001b[0mkwargs\u001b[0m\u001b[0;34m.\u001b[0m\u001b[0mget\u001b[0m\u001b[0;34m(\u001b[0m\u001b[0;34m\"args\"\u001b[0m\u001b[0;34m)\u001b[0m\u001b[0;34m\u001b[0m\u001b[0;34m\u001b[0m\u001b[0m\n",
      "\u001b[0;32m~/miniconda3/envs/tinymolecule/lib/python3.6/subprocess.py\u001b[0m in \u001b[0;36mcall\u001b[0;34m(timeout, *popenargs, **kwargs)\u001b[0m\n\u001b[1;32m    287\u001b[0m     \u001b[0;32mwith\u001b[0m \u001b[0mPopen\u001b[0m\u001b[0;34m(\u001b[0m\u001b[0;34m*\u001b[0m\u001b[0mpopenargs\u001b[0m\u001b[0;34m,\u001b[0m \u001b[0;34m**\u001b[0m\u001b[0mkwargs\u001b[0m\u001b[0;34m)\u001b[0m \u001b[0;32mas\u001b[0m \u001b[0mp\u001b[0m\u001b[0;34m:\u001b[0m\u001b[0;34m\u001b[0m\u001b[0;34m\u001b[0m\u001b[0m\n\u001b[1;32m    288\u001b[0m         \u001b[0;32mtry\u001b[0m\u001b[0;34m:\u001b[0m\u001b[0;34m\u001b[0m\u001b[0;34m\u001b[0m\u001b[0m\n\u001b[0;32m--> 289\u001b[0;31m             \u001b[0;32mreturn\u001b[0m \u001b[0mp\u001b[0m\u001b[0;34m.\u001b[0m\u001b[0mwait\u001b[0m\u001b[0;34m(\u001b[0m\u001b[0mtimeout\u001b[0m\u001b[0;34m=\u001b[0m\u001b[0mtimeout\u001b[0m\u001b[0;34m)\u001b[0m\u001b[0;34m\u001b[0m\u001b[0;34m\u001b[0m\u001b[0m\n\u001b[0m\u001b[1;32m    290\u001b[0m         \u001b[0;32mexcept\u001b[0m\u001b[0;34m:\u001b[0m\u001b[0;34m\u001b[0m\u001b[0;34m\u001b[0m\u001b[0m\n\u001b[1;32m    291\u001b[0m             \u001b[0mp\u001b[0m\u001b[0;34m.\u001b[0m\u001b[0mkill\u001b[0m\u001b[0;34m(\u001b[0m\u001b[0;34m)\u001b[0m\u001b[0;34m\u001b[0m\u001b[0;34m\u001b[0m\u001b[0m\n",
      "\u001b[0;32m~/miniconda3/envs/tinymolecule/lib/python3.6/subprocess.py\u001b[0m in \u001b[0;36mwait\u001b[0;34m(self, timeout, endtime)\u001b[0m\n\u001b[1;32m   1475\u001b[0m                         \u001b[0;32mif\u001b[0m \u001b[0mself\u001b[0m\u001b[0;34m.\u001b[0m\u001b[0mreturncode\u001b[0m \u001b[0;32mis\u001b[0m \u001b[0;32mnot\u001b[0m \u001b[0;32mNone\u001b[0m\u001b[0;34m:\u001b[0m\u001b[0;34m\u001b[0m\u001b[0;34m\u001b[0m\u001b[0m\n\u001b[1;32m   1476\u001b[0m                             \u001b[0;32mbreak\u001b[0m  \u001b[0;31m# Another thread waited.\u001b[0m\u001b[0;34m\u001b[0m\u001b[0;34m\u001b[0m\u001b[0m\n\u001b[0;32m-> 1477\u001b[0;31m                         \u001b[0;34m(\u001b[0m\u001b[0mpid\u001b[0m\u001b[0;34m,\u001b[0m \u001b[0msts\u001b[0m\u001b[0;34m)\u001b[0m \u001b[0;34m=\u001b[0m \u001b[0mself\u001b[0m\u001b[0;34m.\u001b[0m\u001b[0m_try_wait\u001b[0m\u001b[0;34m(\u001b[0m\u001b[0;36m0\u001b[0m\u001b[0;34m)\u001b[0m\u001b[0;34m\u001b[0m\u001b[0;34m\u001b[0m\u001b[0m\n\u001b[0m\u001b[1;32m   1478\u001b[0m                         \u001b[0;31m# Check the pid and loop as waitpid has been known to\u001b[0m\u001b[0;34m\u001b[0m\u001b[0;34m\u001b[0m\u001b[0;34m\u001b[0m\u001b[0m\n\u001b[1;32m   1479\u001b[0m                         \u001b[0;31m# return 0 even without WNOHANG in odd situations.\u001b[0m\u001b[0;34m\u001b[0m\u001b[0;34m\u001b[0m\u001b[0;34m\u001b[0m\u001b[0m\n",
      "\u001b[0;32m~/miniconda3/envs/tinymolecule/lib/python3.6/subprocess.py\u001b[0m in \u001b[0;36m_try_wait\u001b[0;34m(self, wait_flags)\u001b[0m\n\u001b[1;32m   1422\u001b[0m             \u001b[0;34m\"\"\"All callers to this function MUST hold self._waitpid_lock.\"\"\"\u001b[0m\u001b[0;34m\u001b[0m\u001b[0;34m\u001b[0m\u001b[0m\n\u001b[1;32m   1423\u001b[0m             \u001b[0;32mtry\u001b[0m\u001b[0;34m:\u001b[0m\u001b[0;34m\u001b[0m\u001b[0;34m\u001b[0m\u001b[0m\n\u001b[0;32m-> 1424\u001b[0;31m                 \u001b[0;34m(\u001b[0m\u001b[0mpid\u001b[0m\u001b[0;34m,\u001b[0m \u001b[0msts\u001b[0m\u001b[0;34m)\u001b[0m \u001b[0;34m=\u001b[0m \u001b[0mos\u001b[0m\u001b[0;34m.\u001b[0m\u001b[0mwaitpid\u001b[0m\u001b[0;34m(\u001b[0m\u001b[0mself\u001b[0m\u001b[0;34m.\u001b[0m\u001b[0mpid\u001b[0m\u001b[0;34m,\u001b[0m \u001b[0mwait_flags\u001b[0m\u001b[0;34m)\u001b[0m\u001b[0;34m\u001b[0m\u001b[0;34m\u001b[0m\u001b[0m\n\u001b[0m\u001b[1;32m   1425\u001b[0m             \u001b[0;32mexcept\u001b[0m \u001b[0mChildProcessError\u001b[0m\u001b[0;34m:\u001b[0m\u001b[0;34m\u001b[0m\u001b[0;34m\u001b[0m\u001b[0m\n\u001b[1;32m   1426\u001b[0m                 \u001b[0;31m# This happens if SIGCLD is set to be ignored or waiting\u001b[0m\u001b[0;34m\u001b[0m\u001b[0;34m\u001b[0m\u001b[0;34m\u001b[0m\u001b[0m\n",
      "\u001b[0;31mKeyboardInterrupt\u001b[0m: "
     ]
    }
   ],
   "source": [
    "td.dock(targets=[\"CCR2\"], subsample=1)"
   ]
  },
  {
   "cell_type": "code",
   "execution_count": 9,
   "metadata": {},
   "outputs": [
    {
     "data": {
      "text/plain": [
       "False"
      ]
     },
     "execution_count": 9,
     "metadata": {},
     "output_type": "execute_result"
    }
   ],
   "source": []
  },
  {
   "cell_type": "code",
   "execution_count": null,
   "metadata": {},
   "outputs": [],
   "source": []
  }
 ],
 "metadata": {
  "kernelspec": {
   "display_name": "Python 3",
   "language": "python",
   "name": "python3"
  },
  "language_info": {
   "codemirror_mode": {
    "name": "ipython",
    "version": 3
   },
   "file_extension": ".py",
   "mimetype": "text/x-python",
   "name": "python",
   "nbconvert_exporter": "python",
   "pygments_lexer": "ipython3",
   "version": "3.6.12"
  }
 },
 "nbformat": 4,
 "nbformat_minor": 4
}
