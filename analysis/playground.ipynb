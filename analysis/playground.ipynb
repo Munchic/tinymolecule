{
 "cells": [
  {
   "cell_type": "code",
   "execution_count": 1,
   "metadata": {},
   "outputs": [],
   "source": [
    "import moses\n",
    "\n",
    "train = moses.get_dataset('train')\n",
    "test = moses.get_dataset('test')\n",
    "test_scaffolds = moses.get_dataset('test_scaffolds')"
   ]
  },
  {
   "cell_type": "code",
   "execution_count": 2,
   "metadata": {},
   "outputs": [
    {
     "output_type": "execute_result",
     "data": {
      "text/plain": [
       "array(['CCCS(=O)c1ccc2[nH]c(=NC(=O)OC)[nH]c2c1',\n",
       "       'CC(C)(C)C(=O)C(Oc1ccc(Cl)cc1)n1ccnc1',\n",
       "       'Cc1c(Cl)cccc1Nc1ncccc1C(=O)OCC(O)CO', ...,\n",
       "       'NC(=O)c1ccc2ccccc2c1Br',\n",
       "       'CC(=O)Nc1cccc(-c2nc3cc(C)ccc3[nH]c2=O)c1',\n",
       "       'CC(NC(=O)OC(C)(C)C)c1nc(CO)nn1Cc1ccccc1'], dtype=object)"
      ]
     },
     "metadata": {},
     "execution_count": 2
    }
   ],
   "source": [
    "train"
   ]
  },
  {
   "cell_type": "code",
   "execution_count": 4,
   "metadata": {},
   "outputs": [
    {
     "output_type": "stream",
     "name": "stdout",
     "text": [
      "[(0, 'C'), (1, 'C'), (2, 'C'), (3, 'C'), (4, 'C'), (5, 'C'), (6, 'C'), (7, 'C'), (8, 'C'), (9, 'C'), (10, 'C'), (11, 'C')]\n[[0. 1. 0. 0. 0. 1. 0. 0. 0. 0. 0. 0.]\n [1. 0. 1. 0. 0. 0. 0. 0. 0. 0. 0. 0.]\n [0. 1. 0. 1. 0. 0. 0. 0. 0. 0. 0. 0.]\n [0. 0. 1. 0. 1. 0. 0. 0. 0. 0. 0. 0.]\n [0. 0. 0. 1. 0. 1. 0. 0. 0. 0. 0. 0.]\n [1. 0. 0. 0. 1. 0. 1. 0. 0. 0. 0. 0.]\n [0. 0. 0. 0. 0. 1. 0. 1. 0. 0. 0. 1.]\n [0. 0. 0. 0. 0. 0. 1. 0. 1. 0. 0. 0.]\n [0. 0. 0. 0. 0. 0. 0. 1. 0. 1. 0. 0.]\n [0. 0. 0. 0. 0. 0. 0. 0. 1. 0. 1. 0.]\n [0. 0. 0. 0. 0. 0. 0. 0. 0. 1. 0. 1.]\n [0. 0. 0. 0. 0. 0. 1. 0. 0. 0. 1. 0.]]\n[[0 1 0 0 0 1 0 0 0 0 0 0]\n [1 0 1 0 0 0 0 0 0 0 0 0]\n [0 1 0 1 0 0 0 0 0 0 0 0]\n [0 0 1 0 1 0 0 0 0 0 0 0]\n [0 0 0 1 0 1 0 0 0 0 0 0]\n [1 0 0 0 1 0 1 0 0 0 0 0]\n [0 0 0 0 0 1 0 1 0 0 0 1]\n [0 0 0 0 0 0 1 0 1 0 0 0]\n [0 0 0 0 0 0 0 1 0 1 0 0]\n [0 0 0 0 0 0 0 0 1 0 1 0]\n [0 0 0 0 0 0 0 0 0 1 0 1]\n [0 0 0 0 0 0 1 0 0 0 1 0]]\n"
     ]
    }
   ],
   "source": [
    "from pysmiles import read_smiles\n",
    "import networkx as nx\n",
    "\n",
    "smiles = 'C1CC[13CH2]CC1C1CCCCC1'\n",
    "mol = read_smiles(smiles)\n",
    "\n",
    "# atom vector (C only)\n",
    "print(mol.nodes(data='element'))\n",
    "# adjacency matrix\n",
    "print(nx.to_numpy_matrix(mol, weight='order'))\n",
    "print(nx.adjacency_matrix(mol, weight='order').todense())"
   ]
  },
  {
   "cell_type": "code",
   "execution_count": 5,
   "metadata": {},
   "outputs": [],
   "source": [
    "from rdkit import Chem"
   ]
  },
  {
   "cell_type": "code",
   "execution_count": 6,
   "metadata": {},
   "outputs": [],
   "source": [
    "m = Chem.MolFromSmiles('c1ccncc1')"
   ]
  },
  {
   "cell_type": "code",
   "execution_count": 11,
   "metadata": {},
   "outputs": [
    {
     "output_type": "execute_result",
     "data": {
      "text/plain": [
       "123"
      ]
     },
     "metadata": {},
     "execution_count": 11
    }
   ],
   "source": [
    "len(m.ToBinary())"
   ]
  },
  {
   "cell_type": "code",
   "execution_count": 12,
   "metadata": {},
   "outputs": [
    {
     "output_type": "execute_result",
     "data": {
      "text/plain": [
       "166"
      ]
     },
     "metadata": {},
     "execution_count": 12
    }
   ],
   "source": [
    "n = Chem.MolFromSmiles('C1CCCC2C1CCCC2')\n",
    "len(n.ToBinary())"
   ]
  },
  {
   "cell_type": "code",
   "execution_count": 3,
   "metadata": {},
   "outputs": [],
   "source": [
    "# GENTRL\n",
    "\n",
    "import torch\n",
    "import re\n",
    "\n",
    "\n",
    "_atoms = ['He', 'Li', 'Be', 'Ne', 'Na', 'Mg', 'Al', 'Si', 'Cl', 'Ar',\n",
    "          'Ca', 'Ti', 'Cr', 'Fe', 'Ni', 'Cu', 'Ga', 'Ge', 'As', 'Se',\n",
    "          'Br', 'Kr', 'Rb', 'Sr', 'Zr', 'Nb', 'Mo', 'Tc', 'Ru', 'Rh',\n",
    "          'Pd', 'Ag', 'Cd', 'Sb', 'Te', 'Xe', 'Ba', 'La', 'Ce', 'Pr',\n",
    "          'Nd', 'Pm', 'Sm', 'Eu', 'Gd', 'Tb', 'Dy', 'Er', 'Tm', 'Yb',\n",
    "          'Lu', 'Hf', 'Ta', 'Re', 'Ir', 'Pt', 'Au', 'Hg', 'Tl', 'Pb',\n",
    "          'Bi', 'At', 'Fr', 'Ra', 'Ac', 'Th', 'Pa', 'Pu', 'Am', 'Cm',\n",
    "          'Bk', 'Cf', 'Es', 'Fm', 'Md', 'Lr', 'Rf', 'Db', 'Sg', 'Mt',\n",
    "          'Ds', 'Rg', 'Fl', 'Mc', 'Lv', 'Ts', 'Og']\n",
    "\n",
    "\n",
    "def get_tokenizer_re(atoms):\n",
    "    return re.compile('('+'|'.join(atoms)+r'|\\%\\d\\d|.)')\n",
    "\n",
    "\n",
    "_atoms_re = get_tokenizer_re(_atoms)\n",
    "\n",
    "\n",
    "__i2t = {\n",
    "    0: 'unused', 1: '>', 2: '<', 3: '2', 4: 'F', 5: 'Cl', 6: 'N',\n",
    "    7: '[', 8: '6', 9: 'O', 10: 'c', 11: ']', 12: '#',\n",
    "    13: '=', 14: '3', 15: ')', 16: '4', 17: '-', 18: 'n',\n",
    "    19: 'o', 20: '5', 21: 'H', 22: '(', 23: 'C',\n",
    "    24: '1', 25: 'S', 26: 's', 27: 'Br'\n",
    "}\n",
    "\n",
    "\n",
    "__t2i = {\n",
    "    '>': 1, '<': 2, '2': 3, 'F': 4, 'Cl': 5, 'N': 6, '[': 7, '6': 8,\n",
    "    'O': 9, 'c': 10, ']': 11, '#': 12, '=': 13, '3': 14, ')': 15,\n",
    "    '4': 16, '-': 17, 'n': 18, 'o': 19, '5': 20, 'H': 21, '(': 22,\n",
    "    'C': 23, '1': 24, 'S': 25, 's': 26, 'Br': 27\n",
    "}\n",
    "\n",
    "\n",
    "def smiles_tokenizer(line, atoms=None):\n",
    "    \"\"\"\n",
    "    Tokenizes SMILES string atom-wise using regular expressions. While this\n",
    "    method is fast, it may lead to some mistakes: Sn may be considered as Tin\n",
    "    or as Sulfur with Nitrogen in aromatic cycle. Because of this, you should\n",
    "    specify a set of two-letter atoms explicitly.\n",
    "    Parameters:\n",
    "         atoms: set of two-letter atoms for tokenization\n",
    "    \"\"\"\n",
    "    if atoms is not None:\n",
    "        reg = get_tokenizer_re(atoms)\n",
    "    else:\n",
    "        reg = _atoms_re\n",
    "    return reg.split(line)[1::2]\n",
    "\n",
    "\n",
    "def encode(sm_list, pad_size=50):\n",
    "    \"\"\"\n",
    "    Encoder list of smiles to tensor of tokens\n",
    "    \"\"\"\n",
    "    res = []\n",
    "    lens = []\n",
    "    for s in sm_list:\n",
    "        tokens = ([1] + [__t2i[tok]\n",
    "                  for tok in smiles_tokenizer(s)])[:pad_size - 1]\n",
    "        lens.append(len(tokens))\n",
    "        tokens += (pad_size - len(tokens)) * [2]\n",
    "        res.append(tokens)\n",
    "\n",
    "    return torch.tensor(res).long(), lens\n",
    "\n",
    "\n",
    "def decode(tokens_tensor):\n",
    "    \"\"\"\n",
    "    Decodes from tensor of tokens to list of smiles\n",
    "    \"\"\"\n",
    "\n",
    "    smiles_res = []\n",
    "\n",
    "    for i in range(tokens_tensor.shape[0]):\n",
    "        cur_sm = ''\n",
    "        for t in tokens_tensor[i].detach().cpu().numpy():\n",
    "            if t == 2:\n",
    "                break\n",
    "            elif t > 2:\n",
    "                cur_sm += __i2t[t]\n",
    "\n",
    "        smiles_res.append(cur_sm)\n",
    "\n",
    "    return smiles_res\n",
    "\n",
    "\n",
    "def get_vocab_size():\n",
    "    return len(__i2t)"
   ]
  },
  {
   "cell_type": "code",
   "execution_count": 7,
   "metadata": {},
   "outputs": [],
   "source": [
    "a = encode([\"C1CCCC2C1CCCC2\", \"c1ccncc1\", \"CC(=O)NCCC1=CNc2c1cc(OC)cc2CC(=O)NCCc1c[nH]c2ccc(OC)cc12\"])"
   ]
  },
  {
   "cell_type": "code",
   "execution_count": 11,
   "metadata": {},
   "outputs": [
    {
     "output_type": "execute_result",
     "data": {
      "text/plain": [
       "50"
      ]
     },
     "metadata": {},
     "execution_count": 11
    }
   ],
   "source": [
    "len(a[0][0])"
   ]
  },
  {
   "cell_type": "code",
   "execution_count": 37,
   "metadata": {},
   "outputs": [],
   "source": [
    "from chembl_webresource_client.new_client import new_client\n",
    "molecule = new_client.molecule\n",
    "res = molecule.search('viagra')"
   ]
  },
  {
   "cell_type": "code",
   "execution_count": 33,
   "metadata": {},
   "outputs": [
    {
     "output_type": "execute_result",
     "data": {
      "text/plain": [
       "[{'atc_classifications': ['G04BE03'], 'availability_type': 1, 'biotherapeutic': None, 'black_box_warning': 1, 'chebi_par_id': 9139, 'chirality': 2, 'cross_references': [{'xref_id': 'sildenafil%20citrate', 'xref_name': 'sildenafil citrate', 'xref_src': 'DailyMed'}, {'xref_id': '26748898', 'xref_name': 'SID: 26748898', 'xref_src': 'PubChem'}, {'xref_id': '50085897', 'xref_name': 'SID: 50085897', 'xref_src': 'PubChem'}], 'dosed_ingredient': True, 'first_approval': 1998, 'first_in_class': 0, 'helm_notation': None, 'indication_class': 'Impotence Therapy', 'inorganic_flag': 0, 'max_phase': 4, 'molecule_chembl_id': 'CHEMBL192', 'molecule_hierarchy': {'molecule_chembl_id': 'CHEMBL192', 'parent_chembl_id': 'CHEMBL192'}, 'molecule_properties': {'alogp': '1.61', 'aromatic_rings': 3, 'cx_logd': '1.16', 'cx_logp': '1.23', 'cx_most_apka': '7.63', 'cx_most_bpka': '5.98', 'full_molformula': 'C22H30N6O4S', 'full_mwt': '474.59', 'hba': 8, 'hba_lipinski': 10, 'hbd': 1, 'hbd_lipinski': 1, 'heavy_atoms': 33, 'molecular_species': 'NEUTRAL', 'mw_freebase': '474.59', 'mw_monoisotopic': '474.2049', 'num_lipinski_ro5_violations': 0, 'num_ro5_violations': 0, 'psa': '113.42', 'qed_weighted': '0.55', 'ro3_pass': 'N', 'rtb': 7}, 'molecule_structures': {'canonical_smiles': 'CCCc1nn(C)c2c(=O)[nH]c(-c3cc(S(=O)(=O)N4CCN(C)CC4)ccc3OCC)nc12', 'molfile': '\\n     RDKit          2D\\n\\n 33 36  0  0  0  0  0  0  0  0999 V2000\\n    2.1000   -0.0042    0.0000 C   0  0  0  0  0  0  0  0  0  0  0  0\\n    2.1000    0.7000    0.0000 C   0  0  0  0  0  0  0  0  0  0  0  0\\n   -1.5375   -0.0042    0.0000 S   0  0  0  0  0  0  0  0  0  0  0  0\\n    1.4917   -0.3667    0.0000 N   0  0  0  0  0  0  0  0  0  0  0  0\\n    0.8792   -0.0042    0.0000 C   0  0  0  0  0  0  0  0  0  0  0  0\\n    2.8042    0.9083    0.0000 N   0  0  0  0  0  0  0  0  0  0  0  0\\n    1.4917    1.0625    0.0000 C   0  0  0  0  0  0  0  0  0  0  0  0\\n    0.8792    0.6833    0.0000 N   0  0  0  0  0  0  0  0  0  0  0  0\\n    3.2042    0.3458    0.0000 N   0  0  0  0  0  0  0  0  0  0  0  0\\n    2.8042   -0.2417    0.0000 C   0  0  0  0  0  0  0  0  0  0  0  0\\n    0.2875   -0.3750    0.0000 C   0  0  0  0  0  0  0  0  0  0  0  0\\n   -2.1583   -0.3750    0.0000 N   0  0  0  0  0  0  0  0  0  0  0  0\\n   -0.9333   -0.3750    0.0000 C   0  0  0  0  0  0  0  0  0  0  0  0\\n   -0.3208   -0.0333    0.0000 C   0  0  0  0  0  0  0  0  0  0  0  0\\n   -1.1875    0.6083    0.0000 O   0  0  0  0  0  0  0  0  0  0  0  0\\n   -1.8958    0.6083    0.0000 O   0  0  0  0  0  0  0  0  0  0  0  0\\n   -3.3958   -1.0917    0.0000 N   0  0  0  0  0  0  0  0  0  0  0  0\\n   -2.7833   -0.0042    0.0000 C   0  0  0  0  0  0  0  0  0  0  0  0\\n   -2.1583   -1.0917    0.0000 C   0  0  0  0  0  0  0  0  0  0  0  0\\n    0.2875   -1.1125    0.0000 C   0  0  0  0  0  0  0  0  0  0  0  0\\n    1.4917    1.7708    0.0000 O   0  0  0  0  0  0  0  0  0  0  0  0\\n   -0.9333   -1.1125    0.0000 C   0  0  0  0  0  0  0  0  0  0  0  0\\n   -0.3208   -1.4542    0.0000 C   0  0  0  0  0  0  0  0  0  0  0  0\\n   -3.3958   -0.3750    0.0000 C   0  0  0  0  0  0  0  0  0  0  0  0\\n   -2.7833   -1.4417    0.0000 C   0  0  0  0  0  0  0  0  0  0  0  0\\n    3.0750    1.5750    0.0000 C   0  0  0  0  0  0  0  0  0  0  0  0\\n    2.8042   -0.9500    0.0000 C   0  0  0  0  0  0  0  0  0  0  0  0\\n    0.8792   -1.4542    0.0000 O   0  0  0  0  0  0  0  0  0  0  0  0\\n   -3.9958   -1.4292    0.0000 C   0  0  0  0  0  0  0  0  0  0  0  0\\n    1.4958   -1.1000    0.0000 C   0  0  0  0  0  0  0  0  0  0  0  0\\n    3.4167   -1.3125    0.0000 C   0  0  0  0  0  0  0  0  0  0  0  0\\n    2.1125   -1.4500    0.0000 C   0  0  0  0  0  0  0  0  0  0  0  0\\n    4.0375   -0.9542    0.0000 C   0  0  0  0  0  0  0  0  0  0  0  0\\n  2  1  2  0\\n  3 13  1  0\\n  4  1  1  0\\n  5  4  2  0\\n  6  2  1  0\\n  7  2  1  0\\n  8  5  1  0\\n  9 10  2  0\\n 10  1  1  0\\n 11  5  1  0\\n 12  3  1  0\\n 13 14  2  0\\n 14 11  1  0\\n 15  3  2  0\\n 16  3  2  0\\n 17 25  1  0\\n 18 12  1  0\\n 19 12  1  0\\n 20 11  2  0\\n 21  7  2  0\\n 22 23  2  0\\n 23 20  1  0\\n 24 18  1  0\\n 25 19  1  0\\n 26  6  1  0\\n 27 10  1  0\\n 28 20  1  0\\n 29 17  1  0\\n 30 28  1  0\\n 31 27  1  0\\n 32 30  1  0\\n 33 31  1  0\\n  9  6  1  0\\n  8  7  1  0\\n 22 13  1  0\\n 17 24  1  0\\nM  END\\n\\n> <chembl_id>\\nCHEMBL192\\n\\n> <chembl_pref_name>\\nSILDENAFIL\\n\\n', 'standard_inchi': 'InChI=1S/C22H30N6O4S/c1-5-7-17-19-20(27(4)25-17)22(29)24-21(23-19)16-14-15(8-9-18(16)32-6-2)33(30,31)28-12-10-26(3)11-13-28/h8-9,14H,5-7,10-13H2,1-4H3,(H,23,24,29)', 'standard_inchi_key': 'BNRNXUUZRGQAQC-UHFFFAOYSA-N'}, 'molecule_synonyms': [{'molecule_synonym': 'HIP0908', 'syn_type': 'RESEARCH_CODE', 'synonyms': 'HIP0908'}, {'molecule_synonym': 'HIP-0908', 'syn_type': 'RESEARCH_CODE', 'synonyms': 'HIP-0908'}, {'molecule_synonym': 'Nipatra', 'syn_type': 'TRADE_NAME', 'synonyms': 'NIPATRA'}, {'molecule_synonym': 'Revatio', 'syn_type': 'TRADE_NAME', 'synonyms': 'REVATIO'}, {'molecule_synonym': 'Sildenafil', 'syn_type': 'FDA', 'synonyms': 'Sildenafil'}, {'molecule_synonym': 'Sildenafil', 'syn_type': 'ATC', 'synonyms': 'SILDENAFIL'}, {'molecule_synonym': 'Sildenafil', 'syn_type': 'BAN', 'synonyms': 'SILDENAFIL'}, {'molecule_synonym': 'Sildenafil', 'syn_type': 'BNF', 'synonyms': 'SILDENAFIL'}, {'molecule_synonym': 'Sildenafil', 'syn_type': 'INN', 'synonyms': 'SILDENAFIL'}, {'molecule_synonym': 'Sildenafil', 'syn_type': 'MERCK_INDEX', 'synonyms': 'SILDENAFIL'}, {'molecule_synonym': 'Sildenafil', 'syn_type': 'OTHER', 'synonyms': 'SILDENAFIL'}, {'molecule_synonym': 'UK-92480', 'syn_type': 'RESEARCH_CODE', 'synonyms': 'UK-92480'}, {'molecule_synonym': 'Viagra', 'syn_type': 'TRADE_NAME', 'synonyms': 'VIAGRA'}, {'molecule_synonym': 'Vizarsin', 'syn_type': 'TRADE_NAME', 'synonyms': 'VIZARSIN'}], 'molecule_type': 'Small molecule', 'natural_product': 0, 'oral': True, 'parenteral': True, 'polymer_flag': False, 'pref_name': 'SILDENAFIL', 'prodrug': 0, 'score': 7.0, 'structure_type': 'MOL', 'therapeutic_flag': True, 'topical': False, 'usan_stem': '-afil', 'usan_stem_definition': 'PDE5 inhibitors', 'usan_substem': '-afil', 'usan_year': 1997, 'withdrawn_class': None, 'withdrawn_country': None, 'withdrawn_flag': False, 'withdrawn_reason': None, 'withdrawn_year': None}, {'atc_classifications': [], 'availability_type': 1, 'biotherapeutic': None, 'black_box_warning': 1, 'chebi_par_id': 58987, 'chirality': 2, 'cross_references': [{'xref_id': 'sildenafil%20citrate', 'xref_name': 'sildenafil citrate', 'xref_src': 'DailyMed'}, {'xref_id': '144205270', 'xref_name': 'SID: 144205270', 'xref_src': 'PubChem'}, {'xref_id': '170465285', 'xref_name': 'SID: 170465285', 'xref_src': 'PubChem'}, {'xref_id': 'Sildenafil', 'xref_name': None, 'xref_src': 'Wikipedia'}], 'dosed_ingredient': True, 'first_approval': 1998, 'first_in_class': 0, 'helm_notation': None, 'indication_class': 'Impotence Therapy', 'inorganic_flag': 0, 'max_phase': 4, 'molecule_chembl_id': 'CHEMBL1737', 'molecule_hierarchy': {'molecule_chembl_id': 'CHEMBL1737', 'parent_chembl_id': 'CHEMBL192'}, 'molecule_properties': {'alogp': '1.61', 'aromatic_rings': 3, 'cx_logd': '1.16', 'cx_logp': '1.23', 'cx_most_apka': '7.63', 'cx_most_bpka': '5.98', 'full_molformula': 'C28H38N6O11S', 'full_mwt': '666.71', 'hba': 8, 'hba_lipinski': 10, 'hbd': 1, 'hbd_lipinski': 1, 'heavy_atoms': 33, 'molecular_species': 'NEUTRAL', 'mw_freebase': '474.59', 'mw_monoisotopic': '474.2049', 'num_lipinski_ro5_violations': 0, 'num_ro5_violations': 0, 'psa': '113.42', 'qed_weighted': '0.55', 'ro3_pass': 'N', 'rtb': 7}, 'molecule_structures': {'canonical_smiles': 'CCCc1nn(C)c2c(=O)[nH]c(-c3cc(S(=O)(=O)N4CCN(C)CC4)ccc3OCC)nc12.O=C(O)CC(O)(CC(=O)O)C(=O)O', 'molfile': '\\n     RDKit          2D\\n\\n 46 48  0  0  0  0  0  0  0  0999 V2000\\n    9.2182    1.4870    0.0000 C   0  0  0  0  0  0  0  0  0  0  0  0\\n   11.8182    1.4870    0.0000 C   0  0  0  0  0  0  0  0  0  0  0  0\\n    7.9182    2.2370    0.0000 C   0  0  0  0  0  0  0  0  0  0  0  0\\n   13.1182    2.2370    0.0000 C   0  0  0  0  0  0  0  0  0  0  0  0\\n   10.5182    3.7377    0.0000 C   0  0  0  0  0  0  0  0  0  0  0  0\\n   10.5182    2.2370    0.0000 C   0  0  0  0  0  0  0  0  0  0  0  0\\n    6.8788    1.6373    0.0000 O   0  0  0  0  0  0  0  0  0  0  0  0\\n    7.9182    3.4370    0.0000 O   0  0  0  0  0  0  0  0  0  0  0  0\\n   14.1576    1.6373    0.0000 O   0  0  0  0  0  0  0  0  0  0  0  0\\n   13.1182    3.4370    0.0000 O   0  0  0  0  0  0  0  0  0  0  0  0\\n   11.5571    4.3384    0.0000 O   0  0  0  0  0  0  0  0  0  0  0  0\\n    9.4788    4.3374    0.0000 O   0  0  0  0  0  0  0  0  0  0  0  0\\n   10.5182    1.0370    0.0000 O   0  0  0  0  0  0  0  0  0  0  0  0\\n    4.0244    4.0756    0.0000 C   0  0  0  0  0  0  0  0  0  0  0  0\\n   -6.2133   -2.7101    0.0000 C   0  0  0  0  0  0  0  0  0  0  0  0\\n   -9.8661    8.0854    0.0000 C   0  0  0  0  0  0  0  0  0  0  0  0\\n    2.0907   -2.3426    0.0000 C   0  0  0  0  0  0  0  0  0  0  0  0\\n    3.6500    2.9355    0.0000 C   0  0  0  0  0  0  0  0  0  0  0  0\\n   -6.2134   -1.5101    0.0000 C   0  0  0  0  0  0  0  0  0  0  0  0\\n    2.1812    2.6271    0.0000 C   0  0  0  0  0  0  0  0  0  0  0  0\\n   -6.2185    2.9892    0.0000 C   0  0  0  0  0  0  0  0  0  0  0  0\\n   -6.2151    1.4892    0.0000 C   0  0  0  0  0  0  0  0  0  0  0  0\\n   -8.8235    5.9871    0.0000 C   0  0  0  0  0  0  0  0  0  0  0  0\\n   -7.5281    8.2391    0.0000 C   0  0  0  0  0  0  0  0  0  0  0  0\\n   -7.5233    5.2391    0.0000 C   0  0  0  0  0  0  0  0  0  0  0  0\\n   -6.2278    7.4912    0.0000 C   0  0  0  0  0  0  0  0  0  0  0  0\\n   -3.6204    2.9950    0.0000 C   0  0  0  0  0  0  0  0  0  0  0  0\\n   -4.9211    3.7421    0.0000 C   0  0  0  0  0  0  0  0  0  0  0  0\\n   -3.6168    1.4950    0.0000 C   0  0  0  0  0  0  0  0  0  0  0  0\\n    1.7138    1.2033    0.0000 C   0  0  0  0  0  0  0  0  0  0  0  0\\n   -4.9144    0.7421    0.0000 C   0  0  0  0  0  0  0  0  0  0  0  0\\n    0.2917    0.7475    0.0000 C   0  0  0  0  0  0  0  0  0  0  0  0\\n    0.2917   -0.7475    0.0000 C   0  0  0  0  0  0  0  0  0  0  0  0\\n   -2.3155    0.7475    0.0000 C   0  0  0  0  0  0  0  0  0  0  0  0\\n   -1.0028   -1.5132    0.0000 C   0  0  0  0  0  0  0  0  0  0  0  0\\n   -1.0028    1.5132    0.0000 N   0  0  0  0  0  0  0  0  0  0  0  0\\n   -2.3155   -0.7475    0.0000 N   0  0  0  0  0  0  0  0  0  0  0  0\\n    2.5889    0.0182    0.0000 N   0  0  0  0  0  0  0  0  0  0  0  0\\n   -8.8259    7.4871    0.0000 N   0  0  0  0  0  0  0  0  0  0  0  0\\n    1.7138   -1.2033    0.0000 N   0  0  0  0  0  0  0  0  0  0  0  0\\n   -6.2254    5.9912    0.0000 N   0  0  0  0  0  0  0  0  0  0  0  0\\n   -0.9991   -2.7132    0.0000 O   0  0  0  0  0  0  0  0  0  0  0  0\\n   -3.8864    5.8449    0.0000 O   0  0  0  0  0  0  0  0  0  0  0  0\\n   -3.8840    4.6451    0.0000 O   0  0  0  0  0  0  0  0  0  0  0  0\\n   -4.9142   -0.7587    0.0000 O   0  0  0  0  0  0  0  0  0  0  0  0\\n   -4.9245    5.2429    0.0000 S   0  0  0  0  0  0  0  0  0  0  0  0\\n  1  3  1  0\\n  1  6  1  0\\n  2  4  1  0\\n  2  6  1  0\\n  3  7  2  0\\n  3  8  1  0\\n  4  9  2  0\\n  4 10  1  0\\n  5  6  1  0\\n  5 11  2  0\\n  5 12  1  0\\n  6 13  1  0\\n 14 18  1  0\\n 15 19  1  0\\n 16 39  1  0\\n 17 40  1  0\\n 18 20  1  0\\n 19 45  1  0\\n 20 30  1  0\\n 21 22  2  0\\n 21 28  1  0\\n 22 31  1  0\\n 23 25  1  0\\n 23 39  1  0\\n 24 26  1  0\\n 24 39  1  0\\n 25 41  1  0\\n 26 41  1  0\\n 27 28  2  0\\n 27 29  1  0\\n 28 46  1  0\\n 29 31  2  0\\n 29 34  1  0\\n 30 32  1  0\\n 30 38  2  0\\n 31 45  1  0\\n 32 33  2  0\\n 32 36  1  0\\n 33 35  1  0\\n 33 40  1  0\\n 34 36  2  0\\n 34 37  1  0\\n 35 37  1  0\\n 35 42  2  0\\n 38 40  1  0\\n 41 46  1  0\\n 43 46  2  0\\n 44 46  2  0\\nM  END\\n\\n> <chembl_id>\\nCHEMBL1737\\n\\n> <chembl_pref_name>\\nSILDENAFIL CITRATE\\n\\n', 'standard_inchi': 'InChI=1S/C22H30N6O4S.C6H8O7/c1-5-7-17-19-20(27(4)25-17)22(29)24-21(23-19)16-14-15(8-9-18(16)32-6-2)33(30,31)28-12-10-26(3)11-13-28;7-3(8)1-6(13,5(11)12)2-4(9)10/h8-9,14H,5-7,10-13H2,1-4H3,(H,23,24,29);13H,1-2H2,(H,7,8)(H,9,10)(H,11,12)', 'standard_inchi_key': 'DEIYFTQMQPDXOT-UHFFFAOYSA-N'}, 'molecule_synonyms': [{'molecule_synonym': 'Revatio', 'syn_type': 'TRADE_NAME', 'synonyms': 'REVATIO'}, {'molecule_synonym': 'Sildenafil Citrate', 'syn_type': 'FDA', 'synonyms': 'SILDENAFIL CITRATE'}, {'molecule_synonym': 'Sildenafil Citrate', 'syn_type': 'JAN', 'synonyms': 'SILDENAFIL CITRATE'}, {'molecule_synonym': 'Sildenafil Citrate', 'syn_type': 'MERCK_INDEX', 'synonyms': 'SILDENAFIL CITRATE'}, {'molecule_synonym': 'Sildenafil Citrate', 'syn_type': 'OTHER', 'synonyms': 'SILDENAFIL CITRATE'}, {'molecule_synonym': 'Sildenafil Citrate', 'syn_type': 'TRADE_NAME', 'synonyms': 'SILDENAFIL CITRATE'}, {'molecule_synonym': 'Sildenafil Citrate', 'syn_type': 'USAN', 'synonyms': 'SILDENAFIL CITRATE'}, {'molecule_synonym': 'Sildenafil Citrate', 'syn_type': 'USP', 'synonyms': 'SILDENAFIL CITRATE'}, {'molecule_synonym': 'UK-9248010', 'syn_type': 'RESEARCH_CODE', 'synonyms': 'UK-92,480-10'}, {'molecule_synonym': 'UK-92480-10', 'syn_type': 'RESEARCH_CODE', 'synonyms': 'UK-92480-10'}, {'molecule_synonym': 'Viagra', 'syn_type': 'TRADE_NAME', 'synonyms': 'VIAGRA'}], 'molecule_type': 'Small molecule', 'natural_product': 0, 'oral': True, 'parenteral': True, 'polymer_flag': False, 'pref_name': 'SILDENAFIL CITRATE', 'prodrug': 0, 'score': 7.0, 'structure_type': 'MOL', 'therapeutic_flag': True, 'topical': False, 'usan_stem': '-afil', 'usan_stem_definition': 'PDE5 inhibitors', 'usan_substem': '-afil', 'usan_year': 1997, 'withdrawn_class': None, 'withdrawn_country': None, 'withdrawn_flag': False, 'withdrawn_reason': None, 'withdrawn_year': None}]"
      ]
     },
     "metadata": {},
     "execution_count": 33
    }
   ],
   "source": [
    "res"
   ]
  },
  {
   "cell_type": "code",
   "execution_count": 41,
   "metadata": {},
   "outputs": [],
   "source": [
    "from chembl_webresource_client.new_client import new_client\n",
    "target = new_client.target\n",
    "gene_name = 'CCR4'\n",
    "res = target.search(gene_name)"
   ]
  },
  {
   "cell_type": "code",
   "execution_count": 48,
   "metadata": {},
   "outputs": [
    {
     "output_type": "execute_result",
     "data": {
      "text/plain": [
       "[{'activity_comment': None, 'activity_id': 72026, 'activity_properties': [], 'assay_chembl_id': 'CHEMBL656318', 'assay_description': 'Inhibition of [125I]MDC binding to recombinant human C-C chemokine receptor type 4 (CCR4) expressed in murine pre-B cells', 'assay_type': 'B', 'bao_endpoint': 'BAO_0000190', 'bao_format': 'BAO_0000219', 'bao_label': 'cell-based format', 'canonical_smiles': 'O=C(C[C@H]1S[C@H](c2ccc(Cl)cc2Cl)N(CCC(=O)N2CCNCC2)C1=O)NCc1cccc2ccccc12', 'data_validity_comment': None, 'data_validity_description': None, 'document_chembl_id': 'CHEMBL1148225', 'document_journal': 'Bioorg. Med. Chem. Lett.', 'document_year': 2004, 'ligand_efficiency': {'bei': '9.32', 'le': '0.19', 'lle': '0.84', 'sei': '6.67'}, 'molecule_chembl_id': 'CHEMBL297145', 'molecule_pref_name': None, 'parent_molecule_chembl_id': 'CHEMBL297145', 'pchembl_value': '5.46', 'potential_duplicate': False, 'qudt_units': 'http://www.openphacts.org/units/Nanomolar', 'record_id': 68872, 'relation': '=', 'src_id': 1, 'standard_flag': True, 'standard_relation': '=', 'standard_text_value': None, 'standard_type': 'IC50', 'standard_units': 'nM', 'standard_upper_value': None, 'standard_value': '3500.0', 'target_chembl_id': 'CHEMBL2414', 'target_organism': 'Homo sapiens', 'target_pref_name': 'C-C chemokine receptor type 4', 'target_tax_id': '9606', 'text_value': None, 'toid': None, 'type': 'IC50', 'units': 'uM', 'uo_units': 'UO_0000065', 'upper_value': None, 'value': '3.5'}, {'activity_comment': None, 'activity_id': 72027, 'activity_properties': [], 'assay_chembl_id': 'CHEMBL656318', 'assay_description': 'Inhibition of [125I]MDC binding to recombinant human C-C chemokine receptor type 4 (CCR4) expressed in murine pre-B cells', 'assay_type': 'B', 'bao_endpoint': 'BAO_0000190', 'bao_format': 'BAO_0000219', 'bao_label': 'cell-based format', 'canonical_smiles': 'CN1CCN(CCCNC(=O)CN2C(=O)[C@@H](CC(=O)NCc3cccc4ccccc34)S[C@@H]2c2ccc(Cl)cc2Cl)CC1', 'data_validity_comment': None, 'data_validity_description': None, 'document_chembl_id': 'CHEMBL1148225', 'document_journal': 'Bioorg. Med. Chem. Lett.', 'document_year': 2004, 'ligand_efficiency': {'bei': '9.72', 'le': '0.20', 'lle': '1.69', 'sei': '7.35'}, 'molecule_chembl_id': 'CHEMBL288800', 'molecule_pref_name': None, 'parent_molecule_chembl_id': 'CHEMBL288800', 'pchembl_value': '6.24', 'potential_duplicate': False, 'qudt_units': 'http://www.openphacts.org/units/Nanomolar', 'record_id': 68860, 'relation': '=', 'src_id': 1, 'standard_flag': True, 'standard_relation': '=', 'standard_text_value': None, 'standard_type': 'IC50', 'standard_units': 'nM', 'standard_upper_value': None, 'standard_value': '570.0', 'target_chembl_id': 'CHEMBL2414', 'target_organism': 'Homo sapiens', 'target_pref_name': 'C-C chemokine receptor type 4', 'target_tax_id': '9606', 'text_value': None, 'toid': None, 'type': 'IC50', 'units': 'uM', 'uo_units': 'UO_0000065', 'upper_value': None, 'value': '0.57'}, {'activity_comment': None, 'activity_id': 72028, 'activity_properties': [], 'assay_chembl_id': 'CHEMBL656318', 'assay_description': 'Inhibition of [125I]MDC binding to recombinant human C-C chemokine receptor type 4 (CCR4) expressed in murine pre-B cells', 'assay_type': 'B', 'bao_endpoint': 'BAO_0000190', 'bao_format': 'BAO_0000219', 'bao_label': 'cell-based format', 'canonical_smiles': 'Cc1cccc(CNC(=O)C[C@H]2S[C@H](c3ccc(Cl)cc3Cl)N(CC(=O)NCCCN3CCOCC3)C2=O)c1', 'data_validity_comment': None, 'data_validity_description': None, 'document_chembl_id': 'CHEMBL1148225', 'document_journal': 'Bioorg. Med. Chem. Lett.', 'document_year': 2004, 'ligand_efficiency': {'bei': '9.50', 'le': '0.20', 'lle': '1.85', 'sei': '6.20'}, 'molecule_chembl_id': 'CHEMBL42270', 'molecule_pref_name': None, 'parent_molecule_chembl_id': 'CHEMBL42270', 'pchembl_value': '5.64', 'potential_duplicate': False, 'qudt_units': 'http://www.openphacts.org/units/Nanomolar', 'record_id': 68804, 'relation': '=', 'src_id': 1, 'standard_flag': True, 'standard_relation': '=', 'standard_text_value': None, 'standard_type': 'IC50', 'standard_units': 'nM', 'standard_upper_value': None, 'standard_value': '2300.0', 'target_chembl_id': 'CHEMBL2414', 'target_organism': 'Homo sapiens', 'target_pref_name': 'C-C chemokine receptor type 4', 'target_tax_id': '9606', 'text_value': None, 'toid': None, 'type': 'IC50', 'units': 'uM', 'uo_units': 'UO_0000065', 'upper_value': None, 'value': '2.3'}, {'activity_comment': None, 'activity_id': 72029, 'activity_properties': [], 'assay_chembl_id': 'CHEMBL656318', 'assay_description': 'Inhibition of [125I]MDC binding to recombinant human C-C chemokine receptor type 4 (CCR4) expressed in murine pre-B cells', 'assay_type': 'B', 'bao_endpoint': 'BAO_0000190', 'bao_format': 'BAO_0000219', 'bao_label': 'cell-based format', 'canonical_smiles': 'O=C(C[C@H]1S[C@H](c2ccc(Cl)cc2Cl)N(CC(=O)NCCCN2CCOCC2)C1=O)NCc1ccc2[nH]ccc2c1', 'data_validity_comment': None, 'data_validity_description': None, 'document_chembl_id': 'CHEMBL1148225', 'document_journal': 'Bioorg. Med. Chem. Lett.', 'document_year': 2004, 'ligand_efficiency': {'bei': '9.70', 'le': '0.20', 'lle': '2.04', 'sei': '5.62'}, 'molecule_chembl_id': 'CHEMBL44390', 'molecule_pref_name': None, 'parent_molecule_chembl_id': 'CHEMBL44390', 'pchembl_value': '6.00', 'potential_duplicate': False, 'qudt_units': 'http://www.openphacts.org/units/Nanomolar', 'record_id': 68819, 'relation': '=', 'src_id': 1, 'standard_flag': True, 'standard_relation': '=', 'standard_text_value': None, 'standard_type': 'IC50', 'standard_units': 'nM', 'standard_upper_value': None, 'standard_value': '1000.0', 'target_chembl_id': 'CHEMBL2414', 'target_organism': 'Homo sapiens', 'target_pref_name': 'C-C chemokine receptor type 4', 'target_tax_id': '9606', 'text_value': None, 'toid': None, 'type': 'IC50', 'units': 'uM', 'uo_units': 'UO_0000065', 'upper_value': None, 'value': '1.0'}, '...(remaining elements truncated)...']"
      ]
     },
     "metadata": {},
     "execution_count": 48
    }
   ],
   "source": [
    "from chembl_webresource_client.new_client import new_client\n",
    "activities = new_client.activity\n",
    "activities.filter(target_chembl_id=\"CHEMBL2414\",\n",
    "                  pchembl_value__isnull=False, standard_type=\"IC50\")"
   ]
  },
  {
   "cell_type": "code",
   "execution_count": 50,
   "metadata": {},
   "outputs": [
    {
     "output_type": "execute_result",
     "data": {
      "text/plain": [
       "dict_keys(['activity_comment', 'activity_id', 'activity_properties', 'assay_chembl_id', 'assay_description', 'assay_type', 'bao_endpoint', 'bao_format', 'bao_label', 'canonical_smiles', 'data_validity_comment', 'data_validity_description', 'document_chembl_id', 'document_journal', 'document_year', 'ligand_efficiency', 'molecule_chembl_id', 'molecule_pref_name', 'parent_molecule_chembl_id', 'pchembl_value', 'potential_duplicate', 'qudt_units', 'record_id', 'relation', 'src_id', 'standard_flag', 'standard_relation', 'standard_text_value', 'standard_type', 'standard_units', 'standard_upper_value', 'standard_value', 'target_chembl_id', 'target_organism', 'target_pref_name', 'target_tax_id', 'text_value', 'toid', 'type', 'units', 'uo_units', 'upper_value', 'value'])"
      ]
     },
     "metadata": {},
     "execution_count": 50
    }
   ],
   "source": [
    "activities[0].keys()"
   ]
  },
  {
   "cell_type": "code",
   "execution_count": 53,
   "metadata": {},
   "outputs": [
    {
     "output_type": "stream",
     "name": "stdout",
     "text": [
      "I/O error\n"
     ]
    }
   ],
   "source": [
    "from pathlib import Path\n",
    "import csv\n",
    "\n",
    "DATA_DIR = Path(\"../data\")\n",
    "\n",
    "activities = new_client.activity\n",
    "activities.filter(\n",
    "    target_chembl_id=\"CHEMBL2414\", pchembl_value__isnull=False, standard_type=\"IC50\"\n",
    ")\n",
    "\n",
    "columns = activities[0].keys()\n",
    "csv_file = DATA_DIR / \"ccr4_ic50_meta.csv\"\n",
    "try:\n",
    "    with open(csv_file, \"w\") as csvfile:\n",
    "        writer = csv.DictWriter(csvfile, fieldnames=columns)\n",
    "        writer.writeheader()\n",
    "        for data in activities:\n",
    "            writer.writerow(data)\n",
    "except IOError:\n",
    "    print(\"I/O error\")\n"
   ]
  },
  {
   "cell_type": "code",
   "execution_count": null,
   "metadata": {},
   "outputs": [],
   "source": []
  }
 ],
 "metadata": {
  "kernelspec": {
   "display_name": "Python 3",
   "language": "python",
   "name": "python3"
  },
  "language_info": {
   "codemirror_mode": {
    "name": "ipython",
    "version": 3
   },
   "file_extension": ".py",
   "mimetype": "text/x-python",
   "name": "python",
   "nbconvert_exporter": "python",
   "pygments_lexer": "ipython3",
   "version": "3.6.12-final"
  }
 },
 "nbformat": 4,
 "nbformat_minor": 4
}