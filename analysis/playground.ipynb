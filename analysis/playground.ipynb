{
 "cells": [
  {
   "cell_type": "code",
   "execution_count": 5,
   "metadata": {},
   "outputs": [],
   "source": [
    "import moses\n",
    "\n",
    "train = moses.get_dataset('train')\n",
    "test = moses.get_dataset('test')\n",
    "test_scaffolds = moses.get_dataset('test_scaffolds')"
   ]
  },
  {
   "cell_type": "code",
   "execution_count": 2,
   "metadata": {},
   "outputs": [
    {
     "output_type": "execute_result",
     "data": {
      "text/plain": [
       "array(['CCCS(=O)c1ccc2[nH]c(=NC(=O)OC)[nH]c2c1',\n",
       "       'CC(C)(C)C(=O)C(Oc1ccc(Cl)cc1)n1ccnc1',\n",
       "       'Cc1c(Cl)cccc1Nc1ncccc1C(=O)OCC(O)CO', ...,\n",
       "       'NC(=O)c1ccc2ccccc2c1Br',\n",
       "       'CC(=O)Nc1cccc(-c2nc3cc(C)ccc3[nH]c2=O)c1',\n",
       "       'CC(NC(=O)OC(C)(C)C)c1nc(CO)nn1Cc1ccccc1'], dtype=object)"
      ]
     },
     "metadata": {},
     "execution_count": 2
    }
   ],
   "source": [
    "train"
   ]
  },
  {
   "cell_type": "code",
   "execution_count": 4,
   "metadata": {},
   "outputs": [
    {
     "output_type": "stream",
     "name": "stdout",
     "text": [
      "[(0, 'C'), (1, 'C'), (2, 'C'), (3, 'C'), (4, 'C'), (5, 'C'), (6, 'C'), (7, 'C'), (8, 'C'), (9, 'C'), (10, 'C'), (11, 'C')]\n[[0. 1. 0. 0. 0. 1. 0. 0. 0. 0. 0. 0.]\n [1. 0. 1. 0. 0. 0. 0. 0. 0. 0. 0. 0.]\n [0. 1. 0. 1. 0. 0. 0. 0. 0. 0. 0. 0.]\n [0. 0. 1. 0. 1. 0. 0. 0. 0. 0. 0. 0.]\n [0. 0. 0. 1. 0. 1. 0. 0. 0. 0. 0. 0.]\n [1. 0. 0. 0. 1. 0. 1. 0. 0. 0. 0. 0.]\n [0. 0. 0. 0. 0. 1. 0. 1. 0. 0. 0. 1.]\n [0. 0. 0. 0. 0. 0. 1. 0. 1. 0. 0. 0.]\n [0. 0. 0. 0. 0. 0. 0. 1. 0. 1. 0. 0.]\n [0. 0. 0. 0. 0. 0. 0. 0. 1. 0. 1. 0.]\n [0. 0. 0. 0. 0. 0. 0. 0. 0. 1. 0. 1.]\n [0. 0. 0. 0. 0. 0. 1. 0. 0. 0. 1. 0.]]\n[[0 1 0 0 0 1 0 0 0 0 0 0]\n [1 0 1 0 0 0 0 0 0 0 0 0]\n [0 1 0 1 0 0 0 0 0 0 0 0]\n [0 0 1 0 1 0 0 0 0 0 0 0]\n [0 0 0 1 0 1 0 0 0 0 0 0]\n [1 0 0 0 1 0 1 0 0 0 0 0]\n [0 0 0 0 0 1 0 1 0 0 0 1]\n [0 0 0 0 0 0 1 0 1 0 0 0]\n [0 0 0 0 0 0 0 1 0 1 0 0]\n [0 0 0 0 0 0 0 0 1 0 1 0]\n [0 0 0 0 0 0 0 0 0 1 0 1]\n [0 0 0 0 0 0 1 0 0 0 1 0]]\n"
     ]
    }
   ],
   "source": [
    "from pysmiles import read_smiles\n",
    "import networkx as nx\n",
    "\n",
    "smiles = 'C1CC[13CH2]CC1C1CCCCC1'\n",
    "mol = read_smiles(smiles)\n",
    "\n",
    "# atom vector (C only)\n",
    "print(mol.nodes(data='element'))\n",
    "# adjacency matrix\n",
    "print(nx.to_numpy_matrix(mol, weight='order'))\n",
    "print(nx.adjacency_matrix(mol, weight='order').todense())"
   ]
  },
  {
   "cell_type": "code",
   "execution_count": 2,
   "metadata": {},
   "outputs": [],
   "source": [
    "from rdkit import Chem"
   ]
  },
  {
   "cell_type": "code",
   "execution_count": 6,
   "metadata": {},
   "outputs": [],
   "source": [
    "m = Chem.MolFromSmiles('c1ccncc1')"
   ]
  },
  {
   "cell_type": "code",
   "execution_count": 11,
   "metadata": {},
   "outputs": [
    {
     "output_type": "execute_result",
     "data": {
      "text/plain": [
       "123"
      ]
     },
     "metadata": {},
     "execution_count": 11
    }
   ],
   "source": [
    "len(m.ToBinary())"
   ]
  },
  {
   "cell_type": "code",
   "execution_count": 12,
   "metadata": {},
   "outputs": [
    {
     "output_type": "execute_result",
     "data": {
      "text/plain": [
       "166"
      ]
     },
     "metadata": {},
     "execution_count": 12
    }
   ],
   "source": [
    "n = Chem.MolFromSmiles('C1CCCC2C1CCCC2')\n",
    "len(n.ToBinary())"
   ]
  },
  {
   "cell_type": "code",
   "execution_count": 3,
   "metadata": {},
   "outputs": [],
   "source": [
    "# GENTRL\n",
    "\n",
    "import torch\n",
    "import re\n",
    "\n",
    "\n",
    "_atoms = ['He', 'Li', 'Be', 'Ne', 'Na', 'Mg', 'Al', 'Si', 'Cl', 'Ar',\n",
    "          'Ca', 'Ti', 'Cr', 'Fe', 'Ni', 'Cu', 'Ga', 'Ge', 'As', 'Se',\n",
    "          'Br', 'Kr', 'Rb', 'Sr', 'Zr', 'Nb', 'Mo', 'Tc', 'Ru', 'Rh',\n",
    "          'Pd', 'Ag', 'Cd', 'Sb', 'Te', 'Xe', 'Ba', 'La', 'Ce', 'Pr',\n",
    "          'Nd', 'Pm', 'Sm', 'Eu', 'Gd', 'Tb', 'Dy', 'Er', 'Tm', 'Yb',\n",
    "          'Lu', 'Hf', 'Ta', 'Re', 'Ir', 'Pt', 'Au', 'Hg', 'Tl', 'Pb',\n",
    "          'Bi', 'At', 'Fr', 'Ra', 'Ac', 'Th', 'Pa', 'Pu', 'Am', 'Cm',\n",
    "          'Bk', 'Cf', 'Es', 'Fm', 'Md', 'Lr', 'Rf', 'Db', 'Sg', 'Mt',\n",
    "          'Ds', 'Rg', 'Fl', 'Mc', 'Lv', 'Ts', 'Og']\n",
    "\n",
    "\n",
    "def get_tokenizer_re(atoms):\n",
    "    return re.compile('('+'|'.join(atoms)+r'|\\%\\d\\d|.)')\n",
    "\n",
    "\n",
    "_atoms_re = get_tokenizer_re(_atoms)\n",
    "\n",
    "\n",
    "__i2t = {\n",
    "    0: 'unused', 1: '>', 2: '<', 3: '2', 4: 'F', 5: 'Cl', 6: 'N',\n",
    "    7: '[', 8: '6', 9: 'O', 10: 'c', 11: ']', 12: '#',\n",
    "    13: '=', 14: '3', 15: ')', 16: '4', 17: '-', 18: 'n',\n",
    "    19: 'o', 20: '5', 21: 'H', 22: '(', 23: 'C',\n",
    "    24: '1', 25: 'S', 26: 's', 27: 'Br'\n",
    "}\n",
    "\n",
    "\n",
    "__t2i = {\n",
    "    '>': 1, '<': 2, '2': 3, 'F': 4, 'Cl': 5, 'N': 6, '[': 7, '6': 8,\n",
    "    'O': 9, 'c': 10, ']': 11, '#': 12, '=': 13, '3': 14, ')': 15,\n",
    "    '4': 16, '-': 17, 'n': 18, 'o': 19, '5': 20, 'H': 21, '(': 22,\n",
    "    'C': 23, '1': 24, 'S': 25, 's': 26, 'Br': 27\n",
    "}\n",
    "\n",
    "\n",
    "def smiles_tokenizer(line, atoms=None):\n",
    "    \"\"\"\n",
    "    Tokenizes SMILES string atom-wise using regular expressions. While this\n",
    "    method is fast, it may lead to some mistakes: Sn may be considered as Tin\n",
    "    or as Sulfur with Nitrogen in aromatic cycle. Because of this, you should\n",
    "    specify a set of two-letter atoms explicitly.\n",
    "    Parameters:\n",
    "         atoms: set of two-letter atoms for tokenization\n",
    "    \"\"\"\n",
    "    if atoms is not None:\n",
    "        reg = get_tokenizer_re(atoms)\n",
    "    else:\n",
    "        reg = _atoms_re\n",
    "    return reg.split(line)[1::2]\n",
    "\n",
    "\n",
    "def encode(sm_list, pad_size=50):\n",
    "    \"\"\"\n",
    "    Encoder list of smiles to tensor of tokens\n",
    "    \"\"\"\n",
    "    res = []\n",
    "    lens = []\n",
    "    for s in sm_list:\n",
    "        tokens = ([1] + [__t2i[tok]\n",
    "                  for tok in smiles_tokenizer(s)])[:pad_size - 1]\n",
    "        lens.append(len(tokens))\n",
    "        tokens += (pad_size - len(tokens)) * [2]\n",
    "        res.append(tokens)\n",
    "\n",
    "    return torch.tensor(res).long(), lens\n",
    "\n",
    "\n",
    "def decode(tokens_tensor):\n",
    "    \"\"\"\n",
    "    Decodes from tensor of tokens to list of smiles\n",
    "    \"\"\"\n",
    "\n",
    "    smiles_res = []\n",
    "\n",
    "    for i in range(tokens_tensor.shape[0]):\n",
    "        cur_sm = ''\n",
    "        for t in tokens_tensor[i].detach().cpu().numpy():\n",
    "            if t == 2:\n",
    "                break\n",
    "            elif t > 2:\n",
    "                cur_sm += __i2t[t]\n",
    "\n",
    "        smiles_res.append(cur_sm)\n",
    "\n",
    "    return smiles_res\n",
    "\n",
    "\n",
    "def get_vocab_size():\n",
    "    return len(__i2t)"
   ]
  },
  {
   "cell_type": "code",
   "execution_count": 7,
   "metadata": {},
   "outputs": [],
   "source": [
    "a = encode([\"C1CCCC2C1CCCC2\", \"c1ccncc1\", \"CC(=O)NCCC1=CNc2c1cc(OC)cc2CC(=O)NCCc1c[nH]c2ccc(OC)cc12\"])"
   ]
  },
  {
   "cell_type": "code",
   "execution_count": 11,
   "metadata": {},
   "outputs": [
    {
     "output_type": "execute_result",
     "data": {
      "text/plain": [
       "50"
      ]
     },
     "metadata": {},
     "execution_count": 11
    }
   ],
   "source": [
    "len(a[0][0])"
   ]
  },
  {
   "cell_type": "code",
   "execution_count": 37,
   "metadata": {},
   "outputs": [],
   "source": [
    "from chembl_webresource_client.new_client import new_client\n",
    "molecule = new_client.molecule\n",
    "res = molecule.search('viagra')"
   ]
  },
  {
   "cell_type": "code",
   "execution_count": 33,
   "metadata": {},
   "outputs": [
    {
     "output_type": "execute_result",
     "data": {
      "text/plain": [
       "[{'atc_classifications': ['G04BE03'], 'availability_type': 1, 'biotherapeutic': None, 'black_box_warning': 1, 'chebi_par_id': 9139, 'chirality': 2, 'cross_references': [{'xref_id': 'sildenafil%20citrate', 'xref_name': 'sildenafil citrate', 'xref_src': 'DailyMed'}, {'xref_id': '26748898', 'xref_name': 'SID: 26748898', 'xref_src': 'PubChem'}, {'xref_id': '50085897', 'xref_name': 'SID: 50085897', 'xref_src': 'PubChem'}], 'dosed_ingredient': True, 'first_approval': 1998, 'first_in_class': 0, 'helm_notation': None, 'indication_class': 'Impotence Therapy', 'inorganic_flag': 0, 'max_phase': 4, 'molecule_chembl_id': 'CHEMBL192', 'molecule_hierarchy': {'molecule_chembl_id': 'CHEMBL192', 'parent_chembl_id': 'CHEMBL192'}, 'molecule_properties': {'alogp': '1.61', 'aromatic_rings': 3, 'cx_logd': '1.16', 'cx_logp': '1.23', 'cx_most_apka': '7.63', 'cx_most_bpka': '5.98', 'full_molformula': 'C22H30N6O4S', 'full_mwt': '474.59', 'hba': 8, 'hba_lipinski': 10, 'hbd': 1, 'hbd_lipinski': 1, 'heavy_atoms': 33, 'molecular_species': 'NEUTRAL', 'mw_freebase': '474.59', 'mw_monoisotopic': '474.2049', 'num_lipinski_ro5_violations': 0, 'num_ro5_violations': 0, 'psa': '113.42', 'qed_weighted': '0.55', 'ro3_pass': 'N', 'rtb': 7}, 'molecule_structures': {'canonical_smiles': 'CCCc1nn(C)c2c(=O)[nH]c(-c3cc(S(=O)(=O)N4CCN(C)CC4)ccc3OCC)nc12', 'molfile': '\\n     RDKit          2D\\n\\n 33 36  0  0  0  0  0  0  0  0999 V2000\\n    2.1000   -0.0042    0.0000 C   0  0  0  0  0  0  0  0  0  0  0  0\\n    2.1000    0.7000    0.0000 C   0  0  0  0  0  0  0  0  0  0  0  0\\n   -1.5375   -0.0042    0.0000 S   0  0  0  0  0  0  0  0  0  0  0  0\\n    1.4917   -0.3667    0.0000 N   0  0  0  0  0  0  0  0  0  0  0  0\\n    0.8792   -0.0042    0.0000 C   0  0  0  0  0  0  0  0  0  0  0  0\\n    2.8042    0.9083    0.0000 N   0  0  0  0  0  0  0  0  0  0  0  0\\n    1.4917    1.0625    0.0000 C   0  0  0  0  0  0  0  0  0  0  0  0\\n    0.8792    0.6833    0.0000 N   0  0  0  0  0  0  0  0  0  0  0  0\\n    3.2042    0.3458    0.0000 N   0  0  0  0  0  0  0  0  0  0  0  0\\n    2.8042   -0.2417    0.0000 C   0  0  0  0  0  0  0  0  0  0  0  0\\n    0.2875   -0.3750    0.0000 C   0  0  0  0  0  0  0  0  0  0  0  0\\n   -2.1583   -0.3750    0.0000 N   0  0  0  0  0  0  0  0  0  0  0  0\\n   -0.9333   -0.3750    0.0000 C   0  0  0  0  0  0  0  0  0  0  0  0\\n   -0.3208   -0.0333    0.0000 C   0  0  0  0  0  0  0  0  0  0  0  0\\n   -1.1875    0.6083    0.0000 O   0  0  0  0  0  0  0  0  0  0  0  0\\n   -1.8958    0.6083    0.0000 O   0  0  0  0  0  0  0  0  0  0  0  0\\n   -3.3958   -1.0917    0.0000 N   0  0  0  0  0  0  0  0  0  0  0  0\\n   -2.7833   -0.0042    0.0000 C   0  0  0  0  0  0  0  0  0  0  0  0\\n   -2.1583   -1.0917    0.0000 C   0  0  0  0  0  0  0  0  0  0  0  0\\n    0.2875   -1.1125    0.0000 C   0  0  0  0  0  0  0  0  0  0  0  0\\n    1.4917    1.7708    0.0000 O   0  0  0  0  0  0  0  0  0  0  0  0\\n   -0.9333   -1.1125    0.0000 C   0  0  0  0  0  0  0  0  0  0  0  0\\n   -0.3208   -1.4542    0.0000 C   0  0  0  0  0  0  0  0  0  0  0  0\\n   -3.3958   -0.3750    0.0000 C   0  0  0  0  0  0  0  0  0  0  0  0\\n   -2.7833   -1.4417    0.0000 C   0  0  0  0  0  0  0  0  0  0  0  0\\n    3.0750    1.5750    0.0000 C   0  0  0  0  0  0  0  0  0  0  0  0\\n    2.8042   -0.9500    0.0000 C   0  0  0  0  0  0  0  0  0  0  0  0\\n    0.8792   -1.4542    0.0000 O   0  0  0  0  0  0  0  0  0  0  0  0\\n   -3.9958   -1.4292    0.0000 C   0  0  0  0  0  0  0  0  0  0  0  0\\n    1.4958   -1.1000    0.0000 C   0  0  0  0  0  0  0  0  0  0  0  0\\n    3.4167   -1.3125    0.0000 C   0  0  0  0  0  0  0  0  0  0  0  0\\n    2.1125   -1.4500    0.0000 C   0  0  0  0  0  0  0  0  0  0  0  0\\n    4.0375   -0.9542    0.0000 C   0  0  0  0  0  0  0  0  0  0  0  0\\n  2  1  2  0\\n  3 13  1  0\\n  4  1  1  0\\n  5  4  2  0\\n  6  2  1  0\\n  7  2  1  0\\n  8  5  1  0\\n  9 10  2  0\\n 10  1  1  0\\n 11  5  1  0\\n 12  3  1  0\\n 13 14  2  0\\n 14 11  1  0\\n 15  3  2  0\\n 16  3  2  0\\n 17 25  1  0\\n 18 12  1  0\\n 19 12  1  0\\n 20 11  2  0\\n 21  7  2  0\\n 22 23  2  0\\n 23 20  1  0\\n 24 18  1  0\\n 25 19  1  0\\n 26  6  1  0\\n 27 10  1  0\\n 28 20  1  0\\n 29 17  1  0\\n 30 28  1  0\\n 31 27  1  0\\n 32 30  1  0\\n 33 31  1  0\\n  9  6  1  0\\n  8  7  1  0\\n 22 13  1  0\\n 17 24  1  0\\nM  END\\n\\n> <chembl_id>\\nCHEMBL192\\n\\n> <chembl_pref_name>\\nSILDENAFIL\\n\\n', 'standard_inchi': 'InChI=1S/C22H30N6O4S/c1-5-7-17-19-20(27(4)25-17)22(29)24-21(23-19)16-14-15(8-9-18(16)32-6-2)33(30,31)28-12-10-26(3)11-13-28/h8-9,14H,5-7,10-13H2,1-4H3,(H,23,24,29)', 'standard_inchi_key': 'BNRNXUUZRGQAQC-UHFFFAOYSA-N'}, 'molecule_synonyms': [{'molecule_synonym': 'HIP0908', 'syn_type': 'RESEARCH_CODE', 'synonyms': 'HIP0908'}, {'molecule_synonym': 'HIP-0908', 'syn_type': 'RESEARCH_CODE', 'synonyms': 'HIP-0908'}, {'molecule_synonym': 'Nipatra', 'syn_type': 'TRADE_NAME', 'synonyms': 'NIPATRA'}, {'molecule_synonym': 'Revatio', 'syn_type': 'TRADE_NAME', 'synonyms': 'REVATIO'}, {'molecule_synonym': 'Sildenafil', 'syn_type': 'FDA', 'synonyms': 'Sildenafil'}, {'molecule_synonym': 'Sildenafil', 'syn_type': 'ATC', 'synonyms': 'SILDENAFIL'}, {'molecule_synonym': 'Sildenafil', 'syn_type': 'BAN', 'synonyms': 'SILDENAFIL'}, {'molecule_synonym': 'Sildenafil', 'syn_type': 'BNF', 'synonyms': 'SILDENAFIL'}, {'molecule_synonym': 'Sildenafil', 'syn_type': 'INN', 'synonyms': 'SILDENAFIL'}, {'molecule_synonym': 'Sildenafil', 'syn_type': 'MERCK_INDEX', 'synonyms': 'SILDENAFIL'}, {'molecule_synonym': 'Sildenafil', 'syn_type': 'OTHER', 'synonyms': 'SILDENAFIL'}, {'molecule_synonym': 'UK-92480', 'syn_type': 'RESEARCH_CODE', 'synonyms': 'UK-92480'}, {'molecule_synonym': 'Viagra', 'syn_type': 'TRADE_NAME', 'synonyms': 'VIAGRA'}, {'molecule_synonym': 'Vizarsin', 'syn_type': 'TRADE_NAME', 'synonyms': 'VIZARSIN'}], 'molecule_type': 'Small molecule', 'natural_product': 0, 'oral': True, 'parenteral': True, 'polymer_flag': False, 'pref_name': 'SILDENAFIL', 'prodrug': 0, 'score': 7.0, 'structure_type': 'MOL', 'therapeutic_flag': True, 'topical': False, 'usan_stem': '-afil', 'usan_stem_definition': 'PDE5 inhibitors', 'usan_substem': '-afil', 'usan_year': 1997, 'withdrawn_class': None, 'withdrawn_country': None, 'withdrawn_flag': False, 'withdrawn_reason': None, 'withdrawn_year': None}, {'atc_classifications': [], 'availability_type': 1, 'biotherapeutic': None, 'black_box_warning': 1, 'chebi_par_id': 58987, 'chirality': 2, 'cross_references': [{'xref_id': 'sildenafil%20citrate', 'xref_name': 'sildenafil citrate', 'xref_src': 'DailyMed'}, {'xref_id': '144205270', 'xref_name': 'SID: 144205270', 'xref_src': 'PubChem'}, {'xref_id': '170465285', 'xref_name': 'SID: 170465285', 'xref_src': 'PubChem'}, {'xref_id': 'Sildenafil', 'xref_name': None, 'xref_src': 'Wikipedia'}], 'dosed_ingredient': True, 'first_approval': 1998, 'first_in_class': 0, 'helm_notation': None, 'indication_class': 'Impotence Therapy', 'inorganic_flag': 0, 'max_phase': 4, 'molecule_chembl_id': 'CHEMBL1737', 'molecule_hierarchy': {'molecule_chembl_id': 'CHEMBL1737', 'parent_chembl_id': 'CHEMBL192'}, 'molecule_properties': {'alogp': '1.61', 'aromatic_rings': 3, 'cx_logd': '1.16', 'cx_logp': '1.23', 'cx_most_apka': '7.63', 'cx_most_bpka': '5.98', 'full_molformula': 'C28H38N6O11S', 'full_mwt': '666.71', 'hba': 8, 'hba_lipinski': 10, 'hbd': 1, 'hbd_lipinski': 1, 'heavy_atoms': 33, 'molecular_species': 'NEUTRAL', 'mw_freebase': '474.59', 'mw_monoisotopic': '474.2049', 'num_lipinski_ro5_violations': 0, 'num_ro5_violations': 0, 'psa': '113.42', 'qed_weighted': '0.55', 'ro3_pass': 'N', 'rtb': 7}, 'molecule_structures': {'canonical_smiles': 'CCCc1nn(C)c2c(=O)[nH]c(-c3cc(S(=O)(=O)N4CCN(C)CC4)ccc3OCC)nc12.O=C(O)CC(O)(CC(=O)O)C(=O)O', 'molfile': '\\n     RDKit          2D\\n\\n 46 48  0  0  0  0  0  0  0  0999 V2000\\n    9.2182    1.4870    0.0000 C   0  0  0  0  0  0  0  0  0  0  0  0\\n   11.8182    1.4870    0.0000 C   0  0  0  0  0  0  0  0  0  0  0  0\\n    7.9182    2.2370    0.0000 C   0  0  0  0  0  0  0  0  0  0  0  0\\n   13.1182    2.2370    0.0000 C   0  0  0  0  0  0  0  0  0  0  0  0\\n   10.5182    3.7377    0.0000 C   0  0  0  0  0  0  0  0  0  0  0  0\\n   10.5182    2.2370    0.0000 C   0  0  0  0  0  0  0  0  0  0  0  0\\n    6.8788    1.6373    0.0000 O   0  0  0  0  0  0  0  0  0  0  0  0\\n    7.9182    3.4370    0.0000 O   0  0  0  0  0  0  0  0  0  0  0  0\\n   14.1576    1.6373    0.0000 O   0  0  0  0  0  0  0  0  0  0  0  0\\n   13.1182    3.4370    0.0000 O   0  0  0  0  0  0  0  0  0  0  0  0\\n   11.5571    4.3384    0.0000 O   0  0  0  0  0  0  0  0  0  0  0  0\\n    9.4788    4.3374    0.0000 O   0  0  0  0  0  0  0  0  0  0  0  0\\n   10.5182    1.0370    0.0000 O   0  0  0  0  0  0  0  0  0  0  0  0\\n    4.0244    4.0756    0.0000 C   0  0  0  0  0  0  0  0  0  0  0  0\\n   -6.2133   -2.7101    0.0000 C   0  0  0  0  0  0  0  0  0  0  0  0\\n   -9.8661    8.0854    0.0000 C   0  0  0  0  0  0  0  0  0  0  0  0\\n    2.0907   -2.3426    0.0000 C   0  0  0  0  0  0  0  0  0  0  0  0\\n    3.6500    2.9355    0.0000 C   0  0  0  0  0  0  0  0  0  0  0  0\\n   -6.2134   -1.5101    0.0000 C   0  0  0  0  0  0  0  0  0  0  0  0\\n    2.1812    2.6271    0.0000 C   0  0  0  0  0  0  0  0  0  0  0  0\\n   -6.2185    2.9892    0.0000 C   0  0  0  0  0  0  0  0  0  0  0  0\\n   -6.2151    1.4892    0.0000 C   0  0  0  0  0  0  0  0  0  0  0  0\\n   -8.8235    5.9871    0.0000 C   0  0  0  0  0  0  0  0  0  0  0  0\\n   -7.5281    8.2391    0.0000 C   0  0  0  0  0  0  0  0  0  0  0  0\\n   -7.5233    5.2391    0.0000 C   0  0  0  0  0  0  0  0  0  0  0  0\\n   -6.2278    7.4912    0.0000 C   0  0  0  0  0  0  0  0  0  0  0  0\\n   -3.6204    2.9950    0.0000 C   0  0  0  0  0  0  0  0  0  0  0  0\\n   -4.9211    3.7421    0.0000 C   0  0  0  0  0  0  0  0  0  0  0  0\\n   -3.6168    1.4950    0.0000 C   0  0  0  0  0  0  0  0  0  0  0  0\\n    1.7138    1.2033    0.0000 C   0  0  0  0  0  0  0  0  0  0  0  0\\n   -4.9144    0.7421    0.0000 C   0  0  0  0  0  0  0  0  0  0  0  0\\n    0.2917    0.7475    0.0000 C   0  0  0  0  0  0  0  0  0  0  0  0\\n    0.2917   -0.7475    0.0000 C   0  0  0  0  0  0  0  0  0  0  0  0\\n   -2.3155    0.7475    0.0000 C   0  0  0  0  0  0  0  0  0  0  0  0\\n   -1.0028   -1.5132    0.0000 C   0  0  0  0  0  0  0  0  0  0  0  0\\n   -1.0028    1.5132    0.0000 N   0  0  0  0  0  0  0  0  0  0  0  0\\n   -2.3155   -0.7475    0.0000 N   0  0  0  0  0  0  0  0  0  0  0  0\\n    2.5889    0.0182    0.0000 N   0  0  0  0  0  0  0  0  0  0  0  0\\n   -8.8259    7.4871    0.0000 N   0  0  0  0  0  0  0  0  0  0  0  0\\n    1.7138   -1.2033    0.0000 N   0  0  0  0  0  0  0  0  0  0  0  0\\n   -6.2254    5.9912    0.0000 N   0  0  0  0  0  0  0  0  0  0  0  0\\n   -0.9991   -2.7132    0.0000 O   0  0  0  0  0  0  0  0  0  0  0  0\\n   -3.8864    5.8449    0.0000 O   0  0  0  0  0  0  0  0  0  0  0  0\\n   -3.8840    4.6451    0.0000 O   0  0  0  0  0  0  0  0  0  0  0  0\\n   -4.9142   -0.7587    0.0000 O   0  0  0  0  0  0  0  0  0  0  0  0\\n   -4.9245    5.2429    0.0000 S   0  0  0  0  0  0  0  0  0  0  0  0\\n  1  3  1  0\\n  1  6  1  0\\n  2  4  1  0\\n  2  6  1  0\\n  3  7  2  0\\n  3  8  1  0\\n  4  9  2  0\\n  4 10  1  0\\n  5  6  1  0\\n  5 11  2  0\\n  5 12  1  0\\n  6 13  1  0\\n 14 18  1  0\\n 15 19  1  0\\n 16 39  1  0\\n 17 40  1  0\\n 18 20  1  0\\n 19 45  1  0\\n 20 30  1  0\\n 21 22  2  0\\n 21 28  1  0\\n 22 31  1  0\\n 23 25  1  0\\n 23 39  1  0\\n 24 26  1  0\\n 24 39  1  0\\n 25 41  1  0\\n 26 41  1  0\\n 27 28  2  0\\n 27 29  1  0\\n 28 46  1  0\\n 29 31  2  0\\n 29 34  1  0\\n 30 32  1  0\\n 30 38  2  0\\n 31 45  1  0\\n 32 33  2  0\\n 32 36  1  0\\n 33 35  1  0\\n 33 40  1  0\\n 34 36  2  0\\n 34 37  1  0\\n 35 37  1  0\\n 35 42  2  0\\n 38 40  1  0\\n 41 46  1  0\\n 43 46  2  0\\n 44 46  2  0\\nM  END\\n\\n> <chembl_id>\\nCHEMBL1737\\n\\n> <chembl_pref_name>\\nSILDENAFIL CITRATE\\n\\n', 'standard_inchi': 'InChI=1S/C22H30N6O4S.C6H8O7/c1-5-7-17-19-20(27(4)25-17)22(29)24-21(23-19)16-14-15(8-9-18(16)32-6-2)33(30,31)28-12-10-26(3)11-13-28;7-3(8)1-6(13,5(11)12)2-4(9)10/h8-9,14H,5-7,10-13H2,1-4H3,(H,23,24,29);13H,1-2H2,(H,7,8)(H,9,10)(H,11,12)', 'standard_inchi_key': 'DEIYFTQMQPDXOT-UHFFFAOYSA-N'}, 'molecule_synonyms': [{'molecule_synonym': 'Revatio', 'syn_type': 'TRADE_NAME', 'synonyms': 'REVATIO'}, {'molecule_synonym': 'Sildenafil Citrate', 'syn_type': 'FDA', 'synonyms': 'SILDENAFIL CITRATE'}, {'molecule_synonym': 'Sildenafil Citrate', 'syn_type': 'JAN', 'synonyms': 'SILDENAFIL CITRATE'}, {'molecule_synonym': 'Sildenafil Citrate', 'syn_type': 'MERCK_INDEX', 'synonyms': 'SILDENAFIL CITRATE'}, {'molecule_synonym': 'Sildenafil Citrate', 'syn_type': 'OTHER', 'synonyms': 'SILDENAFIL CITRATE'}, {'molecule_synonym': 'Sildenafil Citrate', 'syn_type': 'TRADE_NAME', 'synonyms': 'SILDENAFIL CITRATE'}, {'molecule_synonym': 'Sildenafil Citrate', 'syn_type': 'USAN', 'synonyms': 'SILDENAFIL CITRATE'}, {'molecule_synonym': 'Sildenafil Citrate', 'syn_type': 'USP', 'synonyms': 'SILDENAFIL CITRATE'}, {'molecule_synonym': 'UK-9248010', 'syn_type': 'RESEARCH_CODE', 'synonyms': 'UK-92,480-10'}, {'molecule_synonym': 'UK-92480-10', 'syn_type': 'RESEARCH_CODE', 'synonyms': 'UK-92480-10'}, {'molecule_synonym': 'Viagra', 'syn_type': 'TRADE_NAME', 'synonyms': 'VIAGRA'}], 'molecule_type': 'Small molecule', 'natural_product': 0, 'oral': True, 'parenteral': True, 'polymer_flag': False, 'pref_name': 'SILDENAFIL CITRATE', 'prodrug': 0, 'score': 7.0, 'structure_type': 'MOL', 'therapeutic_flag': True, 'topical': False, 'usan_stem': '-afil', 'usan_stem_definition': 'PDE5 inhibitors', 'usan_substem': '-afil', 'usan_year': 1997, 'withdrawn_class': None, 'withdrawn_country': None, 'withdrawn_flag': False, 'withdrawn_reason': None, 'withdrawn_year': None}]"
      ]
     },
     "metadata": {},
     "execution_count": 33
    }
   ],
   "source": [
    "res"
   ]
  },
  {
   "cell_type": "code",
   "execution_count": 41,
   "metadata": {},
   "outputs": [],
   "source": [
    "from chembl_webresource_client.new_client import new_client\n",
    "target = new_client.target\n",
    "gene_name = 'CCR4'\n",
    "res = target.search(gene_name)"
   ]
  },
  {
   "cell_type": "code",
   "execution_count": 12,
   "metadata": {},
   "outputs": [
    {
     "output_type": "execute_result",
     "data": {
      "text/plain": [
       "[{'activity_comment': None, 'activity_id': 72026, 'activity_properties': [], 'assay_chembl_id': 'CHEMBL656318', 'assay_description': 'Inhibition of [125I]MDC binding to recombinant human C-C chemokine receptor type 4 (CCR4) expressed in murine pre-B cells', 'assay_type': 'B', 'bao_endpoint': 'BAO_0000190', 'bao_format': 'BAO_0000219', 'bao_label': 'cell-based format', 'canonical_smiles': 'O=C(C[C@H]1S[C@H](c2ccc(Cl)cc2Cl)N(CCC(=O)N2CCNCC2)C1=O)NCc1cccc2ccccc12', 'data_validity_comment': None, 'data_validity_description': None, 'document_chembl_id': 'CHEMBL1148225', 'document_journal': 'Bioorg. Med. Chem. Lett.', 'document_year': 2004, 'ligand_efficiency': {'bei': '9.32', 'le': '0.19', 'lle': '0.84', 'sei': '6.67'}, 'molecule_chembl_id': 'CHEMBL297145', 'molecule_pref_name': None, 'parent_molecule_chembl_id': 'CHEMBL297145', 'pchembl_value': '5.46', 'potential_duplicate': False, 'qudt_units': 'http://www.openphacts.org/units/Nanomolar', 'record_id': 68872, 'relation': '=', 'src_id': 1, 'standard_flag': True, 'standard_relation': '=', 'standard_text_value': None, 'standard_type': 'IC50', 'standard_units': 'nM', 'standard_upper_value': None, 'standard_value': '3500.0', 'target_chembl_id': 'CHEMBL2414', 'target_organism': 'Homo sapiens', 'target_pref_name': 'C-C chemokine receptor type 4', 'target_tax_id': '9606', 'text_value': None, 'toid': None, 'type': 'IC50', 'units': 'uM', 'uo_units': 'UO_0000065', 'upper_value': None, 'value': '3.5'}, {'activity_comment': None, 'activity_id': 72027, 'activity_properties': [], 'assay_chembl_id': 'CHEMBL656318', 'assay_description': 'Inhibition of [125I]MDC binding to recombinant human C-C chemokine receptor type 4 (CCR4) expressed in murine pre-B cells', 'assay_type': 'B', 'bao_endpoint': 'BAO_0000190', 'bao_format': 'BAO_0000219', 'bao_label': 'cell-based format', 'canonical_smiles': 'CN1CCN(CCCNC(=O)CN2C(=O)[C@@H](CC(=O)NCc3cccc4ccccc34)S[C@@H]2c2ccc(Cl)cc2Cl)CC1', 'data_validity_comment': None, 'data_validity_description': None, 'document_chembl_id': 'CHEMBL1148225', 'document_journal': 'Bioorg. Med. Chem. Lett.', 'document_year': 2004, 'ligand_efficiency': {'bei': '9.72', 'le': '0.20', 'lle': '1.69', 'sei': '7.35'}, 'molecule_chembl_id': 'CHEMBL288800', 'molecule_pref_name': None, 'parent_molecule_chembl_id': 'CHEMBL288800', 'pchembl_value': '6.24', 'potential_duplicate': False, 'qudt_units': 'http://www.openphacts.org/units/Nanomolar', 'record_id': 68860, 'relation': '=', 'src_id': 1, 'standard_flag': True, 'standard_relation': '=', 'standard_text_value': None, 'standard_type': 'IC50', 'standard_units': 'nM', 'standard_upper_value': None, 'standard_value': '570.0', 'target_chembl_id': 'CHEMBL2414', 'target_organism': 'Homo sapiens', 'target_pref_name': 'C-C chemokine receptor type 4', 'target_tax_id': '9606', 'text_value': None, 'toid': None, 'type': 'IC50', 'units': 'uM', 'uo_units': 'UO_0000065', 'upper_value': None, 'value': '0.57'}, {'activity_comment': None, 'activity_id': 72028, 'activity_properties': [], 'assay_chembl_id': 'CHEMBL656318', 'assay_description': 'Inhibition of [125I]MDC binding to recombinant human C-C chemokine receptor type 4 (CCR4) expressed in murine pre-B cells', 'assay_type': 'B', 'bao_endpoint': 'BAO_0000190', 'bao_format': 'BAO_0000219', 'bao_label': 'cell-based format', 'canonical_smiles': 'Cc1cccc(CNC(=O)C[C@H]2S[C@H](c3ccc(Cl)cc3Cl)N(CC(=O)NCCCN3CCOCC3)C2=O)c1', 'data_validity_comment': None, 'data_validity_description': None, 'document_chembl_id': 'CHEMBL1148225', 'document_journal': 'Bioorg. Med. Chem. Lett.', 'document_year': 2004, 'ligand_efficiency': {'bei': '9.50', 'le': '0.20', 'lle': '1.85', 'sei': '6.20'}, 'molecule_chembl_id': 'CHEMBL42270', 'molecule_pref_name': None, 'parent_molecule_chembl_id': 'CHEMBL42270', 'pchembl_value': '5.64', 'potential_duplicate': False, 'qudt_units': 'http://www.openphacts.org/units/Nanomolar', 'record_id': 68804, 'relation': '=', 'src_id': 1, 'standard_flag': True, 'standard_relation': '=', 'standard_text_value': None, 'standard_type': 'IC50', 'standard_units': 'nM', 'standard_upper_value': None, 'standard_value': '2300.0', 'target_chembl_id': 'CHEMBL2414', 'target_organism': 'Homo sapiens', 'target_pref_name': 'C-C chemokine receptor type 4', 'target_tax_id': '9606', 'text_value': None, 'toid': None, 'type': 'IC50', 'units': 'uM', 'uo_units': 'UO_0000065', 'upper_value': None, 'value': '2.3'}, {'activity_comment': None, 'activity_id': 72029, 'activity_properties': [], 'assay_chembl_id': 'CHEMBL656318', 'assay_description': 'Inhibition of [125I]MDC binding to recombinant human C-C chemokine receptor type 4 (CCR4) expressed in murine pre-B cells', 'assay_type': 'B', 'bao_endpoint': 'BAO_0000190', 'bao_format': 'BAO_0000219', 'bao_label': 'cell-based format', 'canonical_smiles': 'O=C(C[C@H]1S[C@H](c2ccc(Cl)cc2Cl)N(CC(=O)NCCCN2CCOCC2)C1=O)NCc1ccc2[nH]ccc2c1', 'data_validity_comment': None, 'data_validity_description': None, 'document_chembl_id': 'CHEMBL1148225', 'document_journal': 'Bioorg. Med. Chem. Lett.', 'document_year': 2004, 'ligand_efficiency': {'bei': '9.70', 'le': '0.20', 'lle': '2.04', 'sei': '5.62'}, 'molecule_chembl_id': 'CHEMBL44390', 'molecule_pref_name': None, 'parent_molecule_chembl_id': 'CHEMBL44390', 'pchembl_value': '6.00', 'potential_duplicate': False, 'qudt_units': 'http://www.openphacts.org/units/Nanomolar', 'record_id': 68819, 'relation': '=', 'src_id': 1, 'standard_flag': True, 'standard_relation': '=', 'standard_text_value': None, 'standard_type': 'IC50', 'standard_units': 'nM', 'standard_upper_value': None, 'standard_value': '1000.0', 'target_chembl_id': 'CHEMBL2414', 'target_organism': 'Homo sapiens', 'target_pref_name': 'C-C chemokine receptor type 4', 'target_tax_id': '9606', 'text_value': None, 'toid': None, 'type': 'IC50', 'units': 'uM', 'uo_units': 'UO_0000065', 'upper_value': None, 'value': '1.0'}, '...(remaining elements truncated)...']"
      ]
     },
     "metadata": {},
     "execution_count": 12
    }
   ],
   "source": [
    "from chembl_webresource_client.new_client import new_client\n",
    "activities = new_client.activity\n",
    "activities.filter(target_chembl_id=\"CHEMBL2414\").filter(standard_type=\"IC50\")"
   ]
  },
  {
   "cell_type": "code",
   "execution_count": 35,
   "metadata": {},
   "outputs": [
    {
     "output_type": "execute_result",
     "data": {
      "text/plain": [
       "'CHEMBL3879801'"
      ]
     },
     "metadata": {},
     "execution_count": 35
    }
   ],
   "source": [
    "activities[2]['target_chembl_id']"
   ]
  },
  {
   "cell_type": "code",
   "execution_count": 22,
   "metadata": {},
   "outputs": [
    {
     "output_type": "execute_result",
     "data": {
      "text/plain": [
       "'CHEMBL1806'"
      ]
     },
     "metadata": {},
     "execution_count": 22
    }
   ],
   "source": [
    "activities[0]['target_chembl_id']"
   ]
  },
  {
   "cell_type": "code",
   "execution_count": 1,
   "metadata": {},
   "outputs": [],
   "source": [
    "from chembl_webresource_client.new_client import new_client\n",
    "# target = new_client.target\n",
    "# activity = new_client.activity\n",
    "# herg = target.search('herg')[0]\n",
    "# herg_activities = activity.filter(target_chembl_id=herg['target_chembl_id']).filter(standard_type=\"Ki\")"
   ]
  },
  {
   "cell_type": "code",
   "execution_count": 12,
   "metadata": {},
   "outputs": [],
   "source": [
    "target = new_client.target\n",
    "activity = new_client.activity\n",
    "\n",
    "target = new_client.target\n",
    "activity = new_client.activity\n",
    "ccr5 = target.search('C-C chemokine receptor type 5')[0]"
   ]
  },
  {
   "cell_type": "code",
   "execution_count": 13,
   "metadata": {},
   "outputs": [
    {
     "output_type": "execute_result",
     "data": {
      "text/plain": [
       "'CHEMBL274'"
      ]
     },
     "metadata": {},
     "execution_count": 13
    }
   ],
   "source": [
    "ccr5['target_chembl_id']"
   ]
  },
  {
   "cell_type": "code",
   "execution_count": 20,
   "metadata": {},
   "outputs": [],
   "source": [
    "ccr5_activities = activity.filter(target_chembl_id=\"CHEMBL274\").filter(standard_type=\"IC50\")"
   ]
  },
  {
   "cell_type": "code",
   "execution_count": 21,
   "metadata": {},
   "outputs": [
    {
     "output_type": "execute_result",
     "data": {
      "text/plain": [
       "3813"
      ]
     },
     "metadata": {},
     "execution_count": 21
    }
   ],
   "source": [
    "len(ccr5_activities)"
   ]
  },
  {
   "cell_type": "code",
   "execution_count": 69,
   "metadata": {},
   "outputs": [
    {
     "output_type": "execute_result",
     "data": {
      "text/plain": [
       "'CHEMBL240'"
      ]
     },
     "metadata": {},
     "execution_count": 69
    }
   ],
   "source": [
    "herg['target_chembl_id']"
   ]
  },
  {
   "cell_type": "code",
   "execution_count": 70,
   "metadata": {},
   "outputs": [
    {
     "output_type": "execute_result",
     "data": {
      "text/plain": [
       "'CHEMBL240'"
      ]
     },
     "metadata": {},
     "execution_count": 70
    }
   ],
   "source": [
    "herg_activities[1000]['target_chembl_id']"
   ]
  },
  {
   "cell_type": "code",
   "execution_count": 29,
   "metadata": {},
   "outputs": [
    {
     "output_type": "execute_result",
     "data": {
      "text/plain": [
       "2620"
      ]
     },
     "metadata": {},
     "execution_count": 29
    }
   ],
   "source": [
    "len(herg_activities)"
   ]
  },
  {
   "cell_type": "code",
   "execution_count": 53,
   "metadata": {},
   "outputs": [
    {
     "output_type": "stream",
     "name": "stdout",
     "text": [
      "I/O error\n"
     ]
    }
   ],
   "source": [
    "from pathlib import Path\n",
    "import csv\n",
    "\n",
    "DATA_DIR = Path(\"../data\")\n",
    "\n",
    "activities = new_client.activity\n",
    "activities.filter(\n",
    "    target_chembl_id=\"CHEMBL2414\", pchembl_value__isnull=False, standard_type=\"IC50\"\n",
    ")\n",
    "\n",
    "columns = activities[0].keys()\n",
    "csv_file = DATA_DIR / \"ccr4_ic50_meta.csv\"\n",
    "try:\n",
    "    with open(csv_file, \"w\") as csvfile:\n",
    "        writer = csv.DictWriter(csvfile, fieldnames=columns)\n",
    "        writer.writeheader()\n",
    "        for data in activities:\n",
    "            writer.writerow(data)\n",
    "except IOError:\n",
    "    print(\"I/O error\")\n"
   ]
  },
  {
   "cell_type": "code",
   "execution_count": 22,
   "metadata": {},
   "outputs": [
    {
     "output_type": "error",
     "ename": "NameError",
     "evalue": "name 'moses' is not defined",
     "traceback": [
      "\u001b[0;31m---------------------------------------------------------------------------\u001b[0m",
      "\u001b[0;31mNameError\u001b[0m                                 Traceback (most recent call last)",
      "\u001b[0;32m<ipython-input-22-9a4470eb087b>\u001b[0m in \u001b[0;36m<module>\u001b[0;34m\u001b[0m\n\u001b[0;32m----> 1\u001b[0;31m \u001b[0mmoses\u001b[0m\u001b[0;34m\u001b[0m\u001b[0;34m\u001b[0m\u001b[0m\n\u001b[0m",
      "\u001b[0;31mNameError\u001b[0m: name 'moses' is not defined"
     ]
    }
   ],
   "source": [
    "moses"
   ]
  },
  {
   "cell_type": "code",
   "execution_count": null,
   "metadata": {},
   "outputs": [],
   "source": []
  },
  {
   "cell_type": "code",
   "execution_count": 36,
   "metadata": {},
   "outputs": [],
   "source": [
    "a = moses.utils.get_mol(\"c1cc(CN2CCCNCCNCCCNCC2)ccc1CN1CCCNCCNCCCNCC1\")"
   ]
  },
  {
   "cell_type": "code",
   "execution_count": 37,
   "metadata": {},
   "outputs": [
    {
     "output_type": "stream",
     "name": "stdout",
     "text": [
      "<rdkit.Chem.rdchem.Mol object at 0x7fbe28ef40d0>\n"
     ]
    }
   ],
   "source": [
    "print(a)"
   ]
  },
  {
   "cell_type": "code",
   "execution_count": 6,
   "metadata": {},
   "outputs": [],
   "source": [
    "import pandas as pd\n",
    "\n",
    "def filter_valid(gen_path, save_path=None):\n",
    "    gen = pd.read_csv(gen_path)\n",
    "\n",
    "    valid = [moses.utils.get_mol(molec) != None for molec in gen[\"SMILES\"]]\n",
    "    gen_valid = gen[valid].reset_index(drop=True)\n",
    "\n",
    "    return gen_valid"
   ]
  },
  {
   "cell_type": "code",
   "execution_count": 64,
   "metadata": {
    "tags": [
     "outputPrepend"
    ]
   },
   "outputs": [
    {
     "output_type": "stream",
     "name": "stderr",
     "text": [
      "MILES Parse Error: extra open parentheses for input: 'CNC(=O)c1ccc(-c2ccc(CNC2c3ccc(Cl)cc3)ccc1S2C(=O)N2'\n",
      "RDKit ERROR: [11:50:01] SMILES Parse Error: unclosed ring for input: 'CNc1nc(Nc2c(O)ccc3ns(N)F)nc2C'\n",
      "RDKit ERROR: [11:50:01] SMILES Parse Error: syntax error while parsing: CCCCCCCCCCCCCCCC[C@HH(Cc1cc(N)cc1OCCN1C(=O)Nc1ccc(-c2ccc(Oc3C-c3ccc(c2)c3-c3cccc(n(C)cc2)CC1\n",
      "RDKit ERROR: [11:50:01] SMILES Parse Error: Failed parsing SMILES 'CCCCCCCCCCCCCCCC[C@HH(Cc1cc(N)cc1OCCN1C(=O)Nc1ccc(-c2ccc(Oc3C-c3ccc(c2)c3-c3cccc(n(C)cc2)CC1' for input: 'CCCCCCCCCCCCCCCC[C@HH(Cc1cc(N)cc1OCCN1C(=O)Nc1ccc(-c2ccc(Oc3C-c3ccc(c2)c3-c3cccc(n(C)cc2)CC1'\n",
      "RDKit ERROR: [11:50:01] SMILES Parse Error: extra close parentheses while parsing: Cc1cccnc1/N=C1\\c2ncncc3c2C(O)(=O)=O)c1c[nH]1\n",
      "RDKit ERROR: [11:50:01] SMILES Parse Error: Failed parsing SMILES 'Cc1cccnc1/N=C1\\c2ncncc3c2C(O)(=O)=O)c1c[nH]1' for input: 'Cc1cccnc1/N=C1\\c2ncncc3c2C(O)(=O)=O)c1c[nH]1'\n",
      "RDKit ERROR: [11:50:01] SMILES Parse Error: syntax error while parsing: O=C1C(=O)Nc1ccc3[nH]cc(-c2ccc3c4.nc5c4F)c(Cr)ccc2[nH]2)CC1\n",
      "RDKit ERROR: [11:50:01] SMILES Parse Error: Failed parsing SMILES 'O=C1C(=O)Nc1ccc3[nH]cc(-c2ccc3c4.nc5c4F)c(Cr)ccc2[nH]2)CC1' for input: 'O=C1C(=O)Nc1ccc3[nH]cc(-c2ccc3c4.nc5c4F)c(Cr)ccc2[nH]2)CC1'\n",
      "RDKit ERROR: [11:50:01] SMILES Parse Error: extra close parentheses while parsing: OC(C)[C@]11C(=O)(=O)=O)[C@@H]2C(=O)N[C@@H]2CCC(=O)O)C(=O)O\n",
      "RDKit ERROR: [11:50:01] SMILES Parse Error: Failed parsing SMILES 'OC(C)[C@]11C(=O)(=O)=O)[C@@H]2C(=O)N[C@@H]2CCC(=O)O)C(=O)O' for input: 'OC(C)[C@]11C(=O)(=O)=O)[C@@H]2C(=O)N[C@@H]2CCC(=O)O)C(=O)O'\n",
      "RDKit ERROR: [11:50:01] SMILES Parse Error: extra open parentheses for input: 'CCC(CC(C)N)CSS(c2ccc(F)cc2)C(=O)[C@@H](C)NC(=O)N[C@@H]([C@H](Cc1ccccc1)N(C(=O)N2CCN(C)[C@H](C)Cc1cc'\n",
      "RDKit ERROR: [11:50:01] SMILES Parse Error: unclosed ring for input: 'O=C(O)[C@H]1CCCCNc1cnc2O'\n",
      "RDKit ERROR: [11:50:01] SMILES Parse Error: syntax error while parsing: Cc1cc(NC(=O)C23)cc1ClC(=O)c2cc(C])cc1c1OC)c1\n",
      "RDKit ERROR: [11:50:01] SMILES Parse Error: Failed parsing SMILES 'Cc1cc(NC(=O)C23)cc1ClC(=O)c2cc(C])cc1c1OC)c1' for input: 'Cc1cc(NC(=O)C23)cc1ClC(=O)c2cc(C])cc1c1OC)c1'\n",
      "RDKit ERROR: [11:50:01] SMILES Parse Error: extra open parentheses for input: 'C[C@@H](NC(=O)[C@H](Cc2ccccc2)NC(=O)[C@H](CCN(C)CO)C(=O)[C@@H](NC(=O)C[C@@H](O)CCC3)c1'\n",
      "RDKit ERROR: [11:50:01] Can't kekulize mol.  Unkekulized atoms: 8 9 10 11 12\n",
      "RDKit ERROR: \n",
      "RDKit ERROR: [11:50:01] SMILES Parse Error: syntax error while parsing: O=C(NOCCc1ccccc1Nc1ccc(S(=O)(=O)O)c1ccc2[N@@]](C1)C(=O)O\n",
      "RDKit ERROR: [11:50:01] SMILES Parse Error: Failed parsing SMILES 'O=C(NOCCc1ccccc1Nc1ccc(S(=O)(=O)O)c1ccc2[N@@]](C1)C(=O)O' for input: 'O=C(NOCCc1ccccc1Nc1ccc(S(=O)(=O)O)c1ccc2[N@@]](C1)C(=O)O'\n",
      "RDKit ERROR: [11:50:01] SMILES Parse Error: syntax error while parsing: CC(=O)c1cc(NC(=O)/C=C/c3ccc(O)cc3c1O[C@@H](O)[C@H]2O[C@H](C(=O)N[C@@H](Cc1ccccc1)N(CCCNCC1)C(=O)N[C\n",
      "RDKit ERROR: [11:50:01] SMILES Parse Error: Failed parsing SMILES 'CC(=O)c1cc(NC(=O)/C=C/c3ccc(O)cc3c1O[C@@H](O)[C@H]2O[C@H](C(=O)N[C@@H](Cc1ccccc1)N(CCCNCC1)C(=O)N[C' for input: 'CC(=O)c1cc(NC(=O)/C=C/c3ccc(O)cc3c1O[C@@H](O)[C@H]2O[C@H](C(=O)N[C@@H](Cc1ccccc1)N(CCCNCC1)C(=O)N[C'\n",
      "RDKit ERROR: [11:50:01] SMILES Parse Error: unclosed ring for input: 'NOC(=O)Cc1cc(Nc2ccc(F)cc3)c(-c3ccccc2-c4ccccc2)cc1'\n",
      "RDKit ERROR: [11:50:01] SMILES Parse Error: extra close parentheses while parsing: COc2ccc(C(=O)(N)Cc3cccc(F)c2)O=O)cc1\n",
      "RDKit ERROR: [11:50:01] SMILES Parse Error: Failed parsing SMILES 'COc2ccc(C(=O)(N)Cc3cccc(F)c2)O=O)cc1' for input: 'COc2ccc(C(=O)(N)Cc3cccc(F)c2)O=O)cc1'\n",
      "RDKit ERROR: [11:50:01] SMILES Parse Error: unclosed ring for input: 'CC/C(C)CCCC[C@H](CCCN[N@@H]1C(=O)N[C@H](NC(=O)O)C(C)C)c1C[C@]5(N)CS(=O)NC2'\n",
      "RDKit ERROR: [11:50:01] SMILES Parse Error: extra close parentheses while parsing: CCN(CC)CCOc(c(O)c1)c1c(Oc3cc(Cl)c(Cl)c3c2)c3cc(-c3ccc(OC)cc3)cc2)c1\n",
      "RDKit ERROR: [11:50:01] SMILES Parse Error: Failed parsing SMILES 'CCN(CC)CCOc(c(O)c1)c1c(Oc3cc(Cl)c(Cl)c3c2)c3cc(-c3ccc(OC)cc3)cc2)c1' for input: 'CCN(CC)CCOc(c(O)c1)c1c(Oc3cc(Cl)c(Cl)c3c2)c3cc(-c3ccc(OC)cc3)cc2)c1'\n",
      "RDKit ERROR: [11:50:01] SMILES Parse Error: extra open parentheses for input: 'Cl.CC/C(O)C1CN2NC(=O)OCC1=C(\\O)C2c1cccc(-c2ccc(O)cc3C2=O'\n",
      "RDKit ERROR: [11:50:01] SMILES Parse Error: unclosed ring for input: 'Cl.CCc1ccc(Nc2ccnc2cnc2oc(C(=O)NOCCN(C)C)cc1)C1'\n",
      "RDKit ERROR: [11:50:01] SMILES Parse Error: extra close parentheses while parsing: CCC(=O)Nc1ccc(S(=O)(=O)N3(CCCCN)CCN(C)C)c2c2[nH]c4c(NC(O)F)nc2-c2ccc(F)cc23)n1\n",
      "RDKit ERROR: [11:50:01] SMILES Parse Error: Failed parsing SMILES 'CCC(=O)Nc1ccc(S(=O)(=O)N3(CCCCN)CCN(C)C)c2c2[nH]c4c(NC(O)F)nc2-c2ccc(F)cc23)n1' for input: 'CCC(=O)Nc1ccc(S(=O)(=O)N3(CCCCN)CCN(C)C)c2c2[nH]c4c(NC(O)F)nc2-c2ccc(F)cc23)n1'\n",
      "RDKit ERROR: [11:50:01] SMILES Parse Error: extra open parentheses for input: 'Cc1ccc2c(=O)n(Cc4ccc(/N=C(/O=O)[C@H](C(=O)Nc3ccc(C(=O)O)CC3)cc2s1'\n",
      "RDKit ERROR: [11:50:01] SMILES Parse Error: unclosed ring for input: 'CCCCN#CCCCC(=O)N[C@@H](Cc1cccc(Cl)c1)C(=O)N1C(=O)NO'\n",
      "RDKit ERROR: [11:50:01] SMILES Parse Error: extra close parentheses while parsing: CCC(C)CCS(C(=O)Nc1n[nH]c(C)=CC(C)(C3)[C@@H](O)O)C[C@@H]2O3)c2C1=O)O[C@H]2O.Cl\n",
      "RDKit ERROR: [11:50:01] SMILES Parse Error: Failed parsing SMILES 'CCC(C)CCS(C(=O)Nc1n[nH]c(C)=CC(C)(C3)[C@@H](O)O)C[C@@H]2O3)c2C1=O)O[C@H]2O.Cl' for input: 'CCC(C)CCS(C(=O)Nc1n[nH]c(C)=CC(C)(C3)[C@@H](O)O)C[C@@H]2O3)c2C1=O)O[C@H]2O.Cl'\n",
      "RDKit ERROR: [11:50:01] SMILES Parse Error: extra close parentheses while parsing: C#C(N)C)C1=O)c1ccc1-Cc2ccc(C(=O)N(C(=O)Nc4ccc(C(F)=O)cc2)c1\n",
      "RDKit ERROR: [11:50:01] SMILES Parse Error: Failed parsing SMILES 'C#C(N)C)C1=O)c1ccc1-Cc2ccc(C(=O)N(C(=O)Nc4ccc(C(F)=O)cc2)c1' for input: 'C#C(N)C)C1=O)c1ccc1-Cc2ccc(C(=O)N(C(=O)Nc4ccc(C(F)=O)cc2)c1'\n",
      "RDKit ERROR: [11:50:01] SMILES Parse Error: extra close parentheses while parsing: FC(=O)[C@@H]1C(C)C)C(=O)Oc2ccccc3)CC1CCNC2=O\n",
      "RDKit ERROR: [11:50:01] SMILES Parse Error: Failed parsing SMILES 'FC(=O)[C@@H]1C(C)C)C(=O)Oc2ccccc3)CC1CCNC2=O' for input: 'FC(=O)[C@@H]1C(C)C)C(=O)Oc2ccccc3)CC1CCNC2=O'\n",
      "RDKit ERROR: [11:50:01] SMILES Parse Error: extra close parentheses while parsing: NC(=O)(=O)c1cc2cc(CCN(CCCC)CCC2)ccc(O)cc1)c1ccccc21\n",
      "RDKit ERROR: [11:50:01] SMILES Parse Error: Failed parsing SMILES 'NC(=O)(=O)c1cc2cc(CCN(CCCC)CCC2)ccc(O)cc1)c1ccccc21' for input: 'NC(=O)(=O)c1cc2cc(CCN(CCCC)CCC2)ccc(O)cc1)c1ccccc21'\n",
      "RDKit ERROR: [11:50:01] SMILES Parse Error: syntax error while parsing: O=C(c2ccc2c(Cl)ccc1C#=O)C1\n",
      "RDKit ERROR: [11:50:01] SMILES Parse Error: Failed parsing SMILES 'O=C(c2ccc2c(Cl)ccc1C#=O)C1' for input: 'O=C(c2ccc2c(Cl)ccc1C#=O)C1'\n",
      "RDKit ERROR: [11:50:01] SMILES Parse Error: duplicated ring closure 2 bonds atom 29 to itself for input: 'BO.S1NCCCc1ccc(S(=O)c3ccc(S(C)C)cc2)cnc2ccccc222'\n",
      "RDKit ERROR: [11:50:01] SMILES Parse Error: syntax error while parsing: CNC(=O)C(c2cc2c3[nH]c3c(-(C)Cc4ccc(F)c3[Nl\n",
      "RDKit ERROR: [11:50:01] SMILES Parse Error: Failed parsing SMILES 'CNC(=O)C(c2cc2c3[nH]c3c(-(C)Cc4ccc(F)c3[Nl' for input: 'CNC(=O)C(c2cc2c3[nH]c3c(-(C)Cc4ccc(F)c3[Nl'\n",
      "RDKit ERROR: [11:50:01] SMILES Parse Error: extra open parentheses for input: 'CCCC[C@](NC(=O)cc1[C@@H](C)C[C@H](NC(=O)CNC(=O)[C@H](C)c1ccccc1N(Cc3ccc(Cl)3CCNCC3)[C@@H](C)N)C3C35'\n",
      "RDKit ERROR: [11:50:01] SMILES Parse Error: extra close parentheses while parsing: CCCCc1nc(-c2c[nH]c(-c4ccccc3[C@@H](CO)C(=O)O)=C(/O)C4CC1)c2cc(=O)c(C2)=C-4(C(O)(C)C)cn3)c1ccccc12\n",
      "RDKit ERROR: [11:50:01] SMILES Parse Error: Failed parsing SMILES 'CCCCc1nc(-c2c[nH]c(-c4ccccc3[C@@H](CO)C(=O)O)=C(/O)C4CC1)c2cc(=O)c(C2)=C-4(C(O)(C)C)cn3)c1ccccc12' for input: 'CCCCc1nc(-c2c[nH]c(-c4ccccc3[C@@H](CO)C(=O)O)=C(/O)C4CC1)c2cc(=O)c(C2)=C-4(C(O)(C)C)cn3)c1ccccc12'\n",
      "RDKit ERROR: [11:50:01] SMILES Parse Error: extra open parentheses for input: 'CCN(CC)c2ccc(Cl)cc2C(=O)=N2c1ccc(Oc3ccc(C(F)C(Nc5ccc(Cn3cc3c[nH]3)c3cccc(N35CC=C/c2nc(-c6ccc4[nH]c3'\n",
      "RDKit ERROR: [11:50:01] SMILES Parse Error: extra close parentheses while parsing: Cc1ccc(C(=O)N2CCO)cc2s1C)c1\n",
      "RDKit ERROR: [11:50:01] SMILES Parse Error: Failed parsing SMILES 'Cc1ccc(C(=O)N2CCO)cc2s1C)c1' for input: 'Cc1ccc(C(=O)N2CCO)cc2s1C)c1'\n",
      "RDKit ERROR: [11:50:01] SMILES Parse Error: extra close parentheses while parsing: O=C(c2cc(C(C)C)n(C)c(Cl)4)nc3nc3cc(OC)c(=O)[N@@H](CC(=O)O[C@@H]4C(O)O)c2)C[C@@H]2C(=O)OC\n",
      "RDKit ERROR: [11:50:01] SMILES Parse Error: Failed parsing SMILES 'O=C(c2cc(C(C)C)n(C)c(Cl)4)nc3nc3cc(OC)c(=O)[N@@H](CC(=O)O[C@@H]4C(O)O)c2)C[C@@H]2C(=O)OC' for input: 'O=C(c2cc(C(C)C)n(C)c(Cl)4)nc3nc3cc(OC)c(=O)[N@@H](CC(=O)O[C@@H]4C(O)O)c2)C[C@@H]2C(=O)OC'\n",
      "RDKit ERROR: [11:50:01] SMILES Parse Error: extra open parentheses for input: 'NOc1nc(OCCCNCS(C(=O)Nc3ccc(C(C)(=O)=O)ccn22)CC1=O'\n",
      "RDKit ERROR: [11:50:01] SMILES Parse Error: extra open parentheses for input: 'Oc1cc(-c(OC)c(OC)c2OCCCC(C)(=O'\n",
      "RDKit ERROR: [11:50:01] SMILES Parse Error: extra open parentheses for input: 'O=C1c2ccccc2c(c23Oc2ccc(Cl)c3c(=O)c1o1'\n",
      "RDKit ERROR: [11:50:01] SMILES Parse Error: extra open parentheses for input: 'O=C(CO'\n",
      "RDKit ERROR: [11:50:01] SMILES Parse Error: extra open parentheses for input: 'CCOCCc1c(Cc3cnnc2c(c43)CCN(C)CC3)n2cc(-c5ccc4ccc(c4-c(-c4cccc5s4)Fc3c(Cl)ccnc3o2)cc1N1CC=C(\\Cl'\n",
      "RDKit ERROR: [11:50:01] SMILES Parse Error: unclosed ring for input: 'Cc1cc(CS2)N(C(=O)N2CCN(CC2)CCC(=O)NC(C)Cc3ccccc43)CCn22'\n",
      "RDKit ERROR: [11:50:01] SMILES Parse Error: unclosed ring for input: 'O=C(c2ncccc2)c2ccccc2c1.Cl'\n",
      "RDKit ERROR: [11:50:01] Explicit valence for atom # 16 C, 5, is greater than permitted\n",
      "RDKit ERROR: [11:50:01] SMILES Parse Error: syntax error while parsing: CCc1cc(OC)c(NC(F)(F)(F)F)c2c(-(C)cc1\n",
      "RDKit ERROR: [11:50:01] SMILES Parse Error: Failed parsing SMILES 'CCc1cc(OC)c(NC(F)(F)(F)F)c2c(-(C)cc1' for input: 'CCc1cc(OC)c(NC(F)(F)(F)F)c2c(-(C)cc1'\n",
      "RDKit ERROR: [11:50:01] SMILES Parse Error: extra open parentheses for input: 'Cc1cc(N(CC(Cc2c[nH]c3ccnc3c4c3)cc2C1'\n",
      "RDKit ERROR: [11:50:01] SMILES Parse Error: extra open parentheses for input: 'c.c12CCCCCC(C)C(=N)C1CN2C(=C2CCOC'\n",
      "RDKit ERROR: [11:50:01] SMILES Parse Error: extra open parentheses for input: 'Nc1cc(Cc2ccnc2)cc(CCCCCCNc1c(Cl)cc3c(=O)Sc12'\n",
      "RDKit ERROR: [11:50:01] SMILES Parse Error: extra close parentheses while parsing: COc1cc([N+](=O)[C@@H]2CCC[C@@H](O)[C@H](O)[C@H](O)C(=N)N)CC[N@@H]6C[C@H](C)O)cc2)C(=O)O\n",
      "RDKit ERROR: [11:50:01] SMILES Parse Error: Failed parsing SMILES 'COc1cc([N+](=O)[C@@H]2CCC[C@@H](O)[C@H](O)[C@H](O)C(=N)N)CC[N@@H]6C[C@H](C)O)cc2)C(=O)O' for input: 'COc1cc([N+](=O)[C@@H]2CCC[C@@H](O)[C@H](O)[C@H](O)C(=N)N)CC[N@@H]6C[C@H](C)O)cc2)C(=O)O'\n",
      "RDKit ERROR: [11:50:01] SMILES Parse Error: unclosed ring for input: 'CN1CCNC(=O)CNC(=O)N1CCC([N-]c1nc(Nc3cc(O)cc3)[C@H]1O)c1'\n",
      "RDKit ERROR: [11:50:01] SMILES Parse Error: ring closure 2 duplicates bond between atom 16 and atom 17 for input: 'CC(c1ccccc1)c1ccc(C(C)C)cc2c2nnc3c1-c2ccccc23C'\n",
      "RDKit ERROR: [11:50:01] SMILES Parse Error: extra open parentheses for input: 'O=C(CO)C1Cc1ccc(/CC(=O)N3CCC(C(=O)OCc3cccc(c2C)n(C)c11'\n",
      "RDKit ERROR: [11:50:01] SMILES Parse Error: extra close parentheses while parsing: CS(=O)(=O)c3cc(NC(=O)NCCCS(=O)O)ccn2)cn1-c1ccccc1\n",
      "RDKit ERROR: [11:50:01] SMILES Parse Error: Failed parsing SMILES 'CS(=O)(=O)c3cc(NC(=O)NCCCS(=O)O)ccn2)cn1-c1ccccc1' for input: 'CS(=O)(=O)c3cc(NC(=O)NCCCS(=O)O)ccn2)cn1-c1ccccc1'\n",
      "RDKit ERROR: [11:50:01] SMILES Parse Error: extra open parentheses for input: 'COc1ccn(OCC(=O)C(C(=O)CO)NCO)c1cc(CCc2ccc(cc3Cl)ccc7ccc(O)cc1C1=N'\n",
      "RDKit ERROR: [11:50:01] SMILES Parse Error: extra close parentheses while parsing: COc1nc(C(=O)(=O)=O)C(=O)NO)c(S(=O)(=O)[O-])Cc2ccc(N(C)(C)=O)c2)nc2o1\n",
      "RDKit ERROR: [11:50:01] SMILES Parse Error: Failed parsing SMILES 'COc1nc(C(=O)(=O)=O)C(=O)NO)c(S(=O)(=O)[O-])Cc2ccc(N(C)(C)=O)c2)nc2o1' for input: 'COc1nc(C(=O)(=O)=O)C(=O)NO)c(S(=O)(=O)[O-])Cc2ccc(N(C)(C)=O)c2)nc2o1'\n",
      "RDKit ERROR: [11:50:01] SMILES Parse Error: extra open parentheses for input: 'CC(C)C(CCCN=C2\\N1CCN(Cc1ccccc12)C(=O)N[C@H]1C(=O)NC(C)C'\n",
      "RDKit ERROR: [11:50:01] SMILES Parse Error: extra open parentheses for input: 'CCCCNC(=O)C(=O)C(C(=O)CC(C(=O)N1CCCCCCCC2CC3)c1'\n",
      "RDKit ERROR: [11:50:01] SMILES Parse Error: extra close parentheses while parsing: CN[C@H](C)[C@@H](NCCc1ccc(Cl)cc1)NC(=O)c1cccc2C[C@H](C(=O)NO)NC(=O)[C@H](Cc2c[nH]2)CCN1C(=O)O)CCC(=\n",
      "RDKit ERROR: [11:50:01] SMILES Parse Error: Failed parsing SMILES 'CN[C@H](C)[C@@H](NCCc1ccc(Cl)cc1)NC(=O)c1cccc2C[C@H](C(=O)NO)NC(=O)[C@H](Cc2c[nH]2)CCN1C(=O)O)CCC(=' for input: 'CN[C@H](C)[C@@H](NCCc1ccc(Cl)cc1)NC(=O)c1cccc2C[C@H](C(=O)NO)NC(=O)[C@H](Cc2c[nH]2)CCN1C(=O)O)CCC(='\n",
      "RDKit ERROR: [11:50:01] SMILES Parse Error: syntax error while parsing: NC(=O)C2c1ncnc2c(c2cKcc[nH]n21)OCC1\n",
      "RDKit ERROR: [11:50:01] SMILES Parse Error: Failed parsing SMILES 'NC(=O)C2c1ncnc2c(c2cKcc[nH]n21)OCC1' for input: 'NC(=O)C2c1ncnc2c(c2cKcc[nH]n21)OCC1'\n",
      "RDKit ERROR: [11:50:01] SMILES Parse Error: extra close parentheses while parsing: Cc1nc2c(SC)cncc2c(c1)CCC(CC(C)C)c1C#c1ccnc(O)c1)C2C1\n",
      "RDKit ERROR: [11:50:01] SMILES Parse Error: Failed parsing SMILES 'Cc1nc2c(SC)cncc2c(c1)CCC(CC(C)C)c1C#c1ccnc(O)c1)C2C1' for input: 'Cc1nc2c(SC)cncc2c(c1)CCC(CC(C)C)c1C#c1ccnc(O)c1)C2C1'\n",
      "RDKit ERROR: [11:50:01] SMILES Parse Error: extra open parentheses for input: 'COc1[nH]c(O)cc1CCN1C(=O'\n",
      "RDKit ERROR: [11:50:01] SMILES Parse Error: unclosed ring for input: 'CN1CCCCCCCc2ccnc8cc(C(C)O)nc3c(C(=O)OCCC(=O)O)cc3c1[C@@H]1O'\n",
      "RDKit ERROR: [11:50:01] SMILES Parse Error: unclosed ring for input: 'ClC1=O[C@@H](O)(C(C)O2)C(=O)N1CCCCc1ccccc1'\n",
      "RDKit ERROR: [11:50:01] SMILES Parse Error: extra open parentheses for input: 'c1ccc(OCCC(NC2=OCN(NCCl)c5ccccc33)CC1'\n",
      "RDKit ERROR: [11:50:01] SMILES Parse Error: extra close parentheses while parsing: O=C(NC(=O)CCCC[C@H]2CC[C@@]1(C)(=O)=O)[C@H](Cc2c[nH]co3c2)cc2)N1CNCC1CCN(C(=O)N[C@H](C(=O)N[C@@H](C\n",
      "RDKit ERROR: [11:50:01] SMILES Parse Error: Failed parsing SMILES 'O=C(NC(=O)CCCC[C@H]2CC[C@@]1(C)(=O)=O)[C@H](Cc2c[nH]co3c2)cc2)N1CNCC1CCN(C(=O)N[C@H](C(=O)N[C@@H](C' for input: 'O=C(NC(=O)CCCC[C@H]2CC[C@@]1(C)(=O)=O)[C@H](Cc2c[nH]co3c2)cc2)N1CNCC1CCN(C(=O)N[C@H](C(=O)N[C@@H](C'\n",
      "RDKit ERROR: [11:50:01] SMILES Parse Error: extra close parentheses while parsing: O=C1c2c[C@@H](C)CCNCCO)Cl)C1O=O)cc1)[nH]1\n",
      "RDKit ERROR: [11:50:01] SMILES Parse Error: Failed parsing SMILES 'O=C1c2c[C@@H](C)CCNCCO)Cl)C1O=O)cc1)[nH]1' for input: 'O=C1c2c[C@@H](C)CCNCCO)Cl)C1O=O)cc1)[nH]1'\n",
      "RDKit ERROR: [11:50:01] SMILES Parse Error: unclosed ring for input: 'CCCCNC(=O)[C@H](CCCC=C/N(C)N)C(=O)N[C@@H](NC(=O)[C@@H](CC[C@H](NC(=O)O)C(N)O)[C@H]4[C@H](N)CCCCO)o1'\n",
      "RDKit ERROR: [11:50:01] SMILES Parse Error: extra close parentheses while parsing: Cc1cc(Cc1nc(-c2ccccc3)c(-c3cccc5O)CC1)cc2N1CCO)n1\n",
      "RDKit ERROR: [11:50:01] SMILES Parse Error: Failed parsing SMILES 'Cc1cc(Cc1nc(-c2ccccc3)c(-c3cccc5O)CC1)cc2N1CCO)n1' for input: 'Cc1cc(Cc1nc(-c2ccccc3)c(-c3cccc5O)CC1)cc2N1CCO)n1'\n",
      "RDKit ERROR: [11:50:01] SMILES Parse Error: syntax error while parsing: O=C1[N/C(=O)c1cccc(C(=O)O)c1)O.c1\n",
      "RDKit ERROR: [11:50:01] SMILES Parse Error: Failed parsing SMILES 'O=C1[N/C(=O)c1cccc(C(=O)O)c1)O.c1' for input: 'O=C1[N/C(=O)c1cccc(C(=O)O)c1)O.c1'\n",
      "RDKit ERROR: [11:50:01] SMILES Parse Error: extra open parentheses for input: 'OC(C)(C[C@H](OC1O)[C@@H](CC(N)C)c1c(c1)Oc1ccc(c2)-c2ccc(Oc3ccccc3s2)cc1.Cl'\n",
      "RDKit ERROR: [11:50:01] SMILES Parse Error: extra close parentheses while parsing: O=C1N(N)F)c1[nH]c(O)cc1)CCC(=O)N2C(=O)C2NC(=O)C(Nc2ccccc2)cc1)cc1\n",
      "RDKit ERROR: [11:50:01] SMILES Parse Error: Failed parsing SMILES 'O=C1N(N)F)c1[nH]c(O)cc1)CCC(=O)N2C(=O)C2NC(=O)C(Nc2ccccc2)cc1)cc1' for input: 'O=C1N(N)F)c1[nH]c(O)cc1)CCC(=O)N2C(=O)C2NC(=O)C(Nc2ccccc2)cc1)cc1'\n",
      "RDKit ERROR: [11:50:01] SMILES Parse Error: extra open parentheses for input: 'CCc1cccc(-c1nc(C(N)(=C/C(=O)Nc3ccccc3)c1'\n",
      "RDKit ERROR: [11:50:01] SMILES Parse Error: syntax error while parsing: COc1ccc3ccc2c1[N(@O-(O)CC[C@@H](NO)C(=O)O\n",
      "RDKit ERROR: [11:50:01] SMILES Parse Error: Failed parsing SMILES 'COc1ccc3ccc2c1[N(@O-(O)CC[C@@H](NO)C(=O)O' for input: 'COc1ccc3ccc2c1[N(@O-(O)CC[C@@H](NO)C(=O)O'\n",
      "RDKit ERROR: [11:50:01] SMILES Parse Error: unclosed ring for input: 'CNSCCCCCCc1cnc1[N@H]1CCO(C(=O)c1ccccc2)Cn1CCC1CC1'\n",
      "RDKit ERROR: [11:50:01] SMILES Parse Error: extra close parentheses while parsing: CC(N)Cc1ccc(C(=O)2CCCO)cc1=O)c1cccc1O\n",
      "RDKit ERROR: [11:50:01] SMILES Parse Error: Failed parsing SMILES 'CC(N)Cc1ccc(C(=O)2CCCO)cc1=O)c1cccc1O' for input: 'CC(N)Cc1ccc(C(=O)2CCCO)cc1=O)c1cccc1O'\n",
      "RDKit ERROR: [11:50:01] SMILES Parse Error: extra close parentheses while parsing: O=c1cc(NC(=O)[C@@H](O)[C@H](O)[C@@H](OP(=O)NO))C(=O)OC(C)c3cnccc2)C[C@@H]3C(=O)O)c1\n",
      "RDKit ERROR: [11:50:01] SMILES Parse Error: Failed parsing SMILES 'O=c1cc(NC(=O)[C@@H](O)[C@H](O)[C@@H](OP(=O)NO))C(=O)OC(C)c3cnccc2)C[C@@H]3C(=O)O)c1' for input: 'O=c1cc(NC(=O)[C@@H](O)[C@H](O)[C@@H](OP(=O)NO))C(=O)OC(C)c3cnccc2)C[C@@H]3C(=O)O)c1'\n",
      "RDKit ERROR: [11:50:01] SMILES Parse Error: syntax error while parsing: C(Cc1cnc2n1C(=O)c3ccc(N(C)==r)(O)c4ccc(Br)cc3)[nH]2)cc1Cl\n",
      "RDKit ERROR: [11:50:01] SMILES Parse Error: Failed parsing SMILES 'C(Cc1cnc2n1C(=O)c3ccc(N(C)==r)(O)c4ccc(Br)cc3)[nH]2)cc1Cl' for input: 'C(Cc1cnc2n1C(=O)c3ccc(N(C)==r)(O)c4ccc(Br)cc3)[nH]2)cc1Cl'\n",
      "RDKit ERROR: [11:50:01] SMILES Parse Error: extra close parentheses while parsing: COC(=O)c1cc2c(Oc3ccc(Cl)cc3)ccc2[nH]6nc(=O)(F)F)ccn23.Cl\n",
      "RDKit ERROR: [11:50:01] SMILES Parse Error: Failed parsing SMILES 'COC(=O)c1cc2c(Oc3ccc(Cl)cc3)ccc2[nH]6nc(=O)(F)F)ccn23.Cl' for input: 'COC(=O)c1cc2c(Oc3ccc(Cl)cc3)ccc2[nH]6nc(=O)(F)F)ccn23.Cl'\n",
      "RDKit ERROR: [11:50:01] SMILES Parse Error: extra close parentheses while parsing: CCCO=O)C(=O)c2ccc2cc(c(Cl)c3)cc(/C=C/C(=O)O)C(=O)N(=O)(=O)=O)c3cc(OC)cc(N)c3c1\n",
      "RDKit ERROR: [11:50:01] SMILES Parse Error: Failed parsing SMILES 'CCCO=O)C(=O)c2ccc2cc(c(Cl)c3)cc(/C=C/C(=O)O)C(=O)N(=O)(=O)=O)c3cc(OC)cc(N)c3c1' for input: 'CCCO=O)C(=O)c2ccc2cc(c(Cl)c3)cc(/C=C/C(=O)O)C(=O)N(=O)(=O)=O)c3cc(OC)cc(N)c3c1'\n",
      "RDKit ERROR: [11:50:01] SMILES Parse Error: extra open parentheses for input: 'NOOC(=O=C2C(NC1=NCC1=C(C#C)=C2c2ccccc1)N1CCCC1'\n",
      "RDKit ERROR: [11:50:01] SMILES Parse Error: syntax error while parsing: CC(C)(C[C@H](O)[C@@H](CCC(=O)C[C@H](NCCNN(S)CC1)C(=O)OC(O)CCC(=O)N[C@@H](CCC[C@]23O)c1)CC(=O)O)[C@@\n",
      "RDKit ERROR: [11:50:01] SMILES Parse Error: Failed parsing SMILES 'CC(C)(C[C@H](O)[C@@H](CCC(=O)C[C@H](NCCNN(S)CC1)C(=O)OC(O)CCC(=O)N[C@@H](CCC[C@]23O)c1)CC(=O)O)[C@@' for input: 'CC(C)(C[C@H](O)[C@@H](CCC(=O)C[C@H](NCCNN(S)CC1)C(=O)OC(O)CCC(=O)N[C@@H](CCC[C@]23O)c1)CC(=O)O)[C@@'\n",
      "RDKit ERROR: [11:50:01] SMILES Parse Error: extra close parentheses while parsing: CCC(=O)c1cc(NC(=C)C(=O)(=O)c2cc3cc3cccnc4cc3cc5c(Nc4ccc(-c3ccccc5)CC3)cc3Cl)nc4ccccc23)snc1n1\n",
      "RDKit ERROR: [11:50:01] SMILES Parse Error: Failed parsing SMILES 'CCC(=O)c1cc(NC(=C)C(=O)(=O)c2cc3cc3cccnc4cc3cc5c(Nc4ccc(-c3ccccc5)CC3)cc3Cl)nc4ccccc23)snc1n1' for input: 'CCC(=O)c1cc(NC(=C)C(=O)(=O)c2cc3cc3cccnc4cc3cc5c(Nc4ccc(-c3ccccc5)CC3)cc3Cl)nc4ccccc23)snc1n1'\n",
      "RDKit ERROR: [11:50:01] SMILES Parse Error: syntax error while parsing: CC[C@H]([C@H](NC(=O)N[C@@H](Cc1ccc(Nc4ccccc2)[C@#](O)[C@@H]1O\n",
      "RDKit ERROR: [11:50:01] SMILES Parse Error: Failed parsing SMILES 'CC[C@H]([C@H](NC(=O)N[C@@H](Cc1ccc(Nc4ccccc2)[C@#](O)[C@@H]1O' for input: 'CC[C@H]([C@H](NC(=O)N[C@@H](Cc1ccc(Nc4ccccc2)[C@#](O)[C@@H]1O'\n",
      "RDKit ERROR: [11:50:01] SMILES Parse Error: extra close parentheses while parsing: COc1ccccc2c1)c1nc(N)nc2[CH]([C-]2\n",
      "RDKit ERROR: [11:50:01] SMILES Parse Error: Failed parsing SMILES 'COc1ccccc2c1)c1nc(N)nc2[CH]([C-]2' for input: 'COc1ccccc2c1)c1nc(N)nc2[CH]([C-]2'\n",
      "RDKit ERROR: [11:50:01] SMILES Parse Error: syntax error while parsing: CNC(=O)(c4nc(-)ccc3cc7ccccc2)cc2o1\n",
      "RDKit ERROR: [11:50:01] SMILES Parse Error: Failed parsing SMILES 'CNC(=O)(c4nc(-)ccc3cc7ccccc2)cc2o1' for input: 'CNC(=O)(c4nc(-)ccc3cc7ccccc2)cc2o1'\n",
      "RDKit ERROR: [11:50:01] SMILES Parse Error: extra close parentheses while parsing: COc1nc(/C(N)N)cc2)cc1\n",
      "RDKit ERROR: [11:50:01] SMILES Parse Error: Failed parsing SMILES 'COc1nc(/C(N)N)cc2)cc1' for input: 'COc1nc(/C(N)N)cc2)cc1'\n"
     ]
    }
   ],
   "source": [
    "a = filter_valid(\"/Users/Munchic/Developer/Capstone/moses/tinymolecule-out/samples/sample_2000.csv\", save_path=None)"
   ]
  },
  {
   "cell_type": "code",
   "execution_count": 65,
   "metadata": {},
   "outputs": [
    {
     "output_type": "execute_result",
     "data": {
      "text/plain": [
       "                                              SMILES\n",
       "0  CCCCCCCCCCCC(=O)N[C@@H](Cc1ccccc1)NC(=O)[C@H](...\n",
       "1                                 CC/C=C/CC(CC)CO.Cl\n",
       "2              OC(=O)c1ccc(C(=C2C(=O)O)c2c1)C1CCCCC1\n",
       "3                                      N#CCCN1CCOCC1\n",
       "4        CC(=O)[C@@H]1NC(=O)[C@H](CC(N)C)[C@@H]1O.Cl"
      ],
      "text/html": "<div>\n<style scoped>\n    .dataframe tbody tr th:only-of-type {\n        vertical-align: middle;\n    }\n\n    .dataframe tbody tr th {\n        vertical-align: top;\n    }\n\n    .dataframe thead th {\n        text-align: right;\n    }\n</style>\n<table border=\"1\" class=\"dataframe\">\n  <thead>\n    <tr style=\"text-align: right;\">\n      <th></th>\n      <th>SMILES</th>\n    </tr>\n  </thead>\n  <tbody>\n    <tr>\n      <th>0</th>\n      <td>CCCCCCCCCCCC(=O)N[C@@H](Cc1ccccc1)NC(=O)[C@H](...</td>\n    </tr>\n    <tr>\n      <th>1</th>\n      <td>CC/C=C/CC(CC)CO.Cl</td>\n    </tr>\n    <tr>\n      <th>2</th>\n      <td>OC(=O)c1ccc(C(=C2C(=O)O)c2c1)C1CCCCC1</td>\n    </tr>\n    <tr>\n      <th>3</th>\n      <td>N#CCCN1CCOCC1</td>\n    </tr>\n    <tr>\n      <th>4</th>\n      <td>CC(=O)[C@@H]1NC(=O)[C@H](CC(N)C)[C@@H]1O.Cl</td>\n    </tr>\n  </tbody>\n</table>\n</div>"
     },
     "metadata": {},
     "execution_count": 65
    }
   ],
   "source": [
    "a.head()"
   ]
  },
  {
   "cell_type": "code",
   "execution_count": 138,
   "metadata": {},
   "outputs": [
    {
     "output_type": "execute_result",
     "data": {
      "text/plain": [
       "False"
      ]
     },
     "metadata": {},
     "execution_count": 138
    }
   ],
   "source": [
    "pd.isna(\"hi\")"
   ]
  },
  {
   "cell_type": "code",
   "execution_count": 142,
   "metadata": {},
   "outputs": [
    {
     "output_type": "execute_result",
     "data": {
      "text/plain": [
       "nan"
      ]
     },
     "metadata": {},
     "execution_count": 142
    }
   ],
   "source": [
    "import numpy as np\n",
    "\n",
    "np.nan"
   ]
  },
  {
   "cell_type": "code",
   "execution_count": 56,
   "metadata": {},
   "outputs": [
    {
     "output_type": "execute_result",
     "data": {
      "text/plain": [
       "<rdkit.Chem.rdchem.Mol at 0x7fd7a2a74a80>"
      ],
      "image/png": "[encoded data removed]"
     },
     "metadata": {},
     "execution_count": 56
    }
   ],
   "source": [
    "moses.utils.get_mol(a[\"SMILES\"][9])"
   ]
  },
  {
   "cell_type": "code",
   "execution_count": 128,
   "metadata": {},
   "outputs": [
    {
     "output_type": "execute_result",
     "data": {
      "text/plain": [
       "0     1116378f\n",
       "1     0e7d5523\n",
       "2     2252b48c\n",
       "3     a467a99e\n",
       "4     48add6eb\n",
       "5     670c30ec\n",
       "6     c4c35725\n",
       "7     ce15163a\n",
       "8     0c9a4888\n",
       "9     56707c6c\n",
       "10    6e2a76f1\n",
       "11    763304a3\n",
       "12    e233a982\n",
       "13    cbe30797\n",
       "14    c60d3038\n",
       "15    7ca19e43\n",
       "16    9ffe9c99\n",
       "17    3fb24752\n",
       "18    46636dd3\n",
       "19    cb97c340\n",
       "20    32b93508\n",
       "21    216865a5\n",
       "22    e01002dd\n",
       "23    378bde04\n",
       "24    ad90bea8\n",
       "25    179e4140\n",
       "26    ad66899c\n",
       "27    f0ef6648\n",
       "28    6c17732e\n",
       "29    9a6c8f98\n",
       "30    036ae82f\n",
       "31    44dc0b03\n",
       "32    6c3c9d72\n",
       "33    d6e6c867\n",
       "Name: SMILES, dtype: object"
      ]
     },
     "metadata": {},
     "execution_count": 128
    }
   ],
   "source": [
    "def hash_smiles(smiles, hash_crop=8):\n",
    "    namespace = uuid.NAMESPACE_URL\n",
    "    hash_val = uuid.uuid5(uuid.NAMESPACE_URL, name=smiles)\n",
    "    cropped_hash_val = str(hash_val)[:hash_crop]\n",
    "\n",
    "    return cropped_hash_val\n",
    "\n",
    "a[\"SMILES\"].apply(hash_smiles)"
   ]
  },
  {
   "cell_type": "code",
   "execution_count": 119,
   "metadata": {},
   "outputs": [
    {
     "output_type": "execute_result",
     "data": {
      "text/plain": [
       "'56707c6c-00a4-5f24-ae1f-d9ad2c2e90cf'"
      ]
     },
     "metadata": {},
     "execution_count": 119
    }
   ],
   "source": [
    "import base64\n",
    "import uuid\n",
    "\n",
    "base64.urlsafe_b64encode(bytes(a[\"SMILES\"][11], \"utf-8\"))[:8].decode()\n",
    "\n",
    "str(uuid.uuid5(uuid.NAMESPACE_URL, name=a[\"SMILES\"][9]))"
   ]
  },
  {
   "cell_type": "code",
   "execution_count": 54,
   "metadata": {},
   "outputs": [
    {
     "output_type": "error",
     "ename": "KeyError",
     "evalue": "\"None of [Int64Index([1], dtype='int64')] are in the [columns]\"",
     "traceback": [
      "\u001b[0;31m---------------------------------------------------------------------------\u001b[0m",
      "\u001b[0;31mKeyError\u001b[0m                                  Traceback (most recent call last)",
      "\u001b[0;32m<ipython-input-54-2cff107a7920>\u001b[0m in \u001b[0;36m<module>\u001b[0;34m\u001b[0m\n\u001b[0;32m----> 1\u001b[0;31m \u001b[0ma\u001b[0m\u001b[0;34m[\u001b[0m\u001b[0;34m[\u001b[0m\u001b[0;36m1\u001b[0m\u001b[0;34m]\u001b[0m\u001b[0;34m]\u001b[0m\u001b[0;34m\u001b[0m\u001b[0;34m\u001b[0m\u001b[0m\n\u001b[0m",
      "\u001b[0;32m~/miniconda3/envs/tinymolecule/lib/python3.6/site-packages/pandas/core/frame.py\u001b[0m in \u001b[0;36m__getitem__\u001b[0;34m(self, key)\u001b[0m\n\u001b[1;32m   2906\u001b[0m             \u001b[0;32mif\u001b[0m \u001b[0mis_iterator\u001b[0m\u001b[0;34m(\u001b[0m\u001b[0mkey\u001b[0m\u001b[0;34m)\u001b[0m\u001b[0;34m:\u001b[0m\u001b[0;34m\u001b[0m\u001b[0;34m\u001b[0m\u001b[0m\n\u001b[1;32m   2907\u001b[0m                 \u001b[0mkey\u001b[0m \u001b[0;34m=\u001b[0m \u001b[0mlist\u001b[0m\u001b[0;34m(\u001b[0m\u001b[0mkey\u001b[0m\u001b[0;34m)\u001b[0m\u001b[0;34m\u001b[0m\u001b[0;34m\u001b[0m\u001b[0m\n\u001b[0;32m-> 2908\u001b[0;31m             \u001b[0mindexer\u001b[0m \u001b[0;34m=\u001b[0m \u001b[0mself\u001b[0m\u001b[0;34m.\u001b[0m\u001b[0mloc\u001b[0m\u001b[0;34m.\u001b[0m\u001b[0m_get_listlike_indexer\u001b[0m\u001b[0;34m(\u001b[0m\u001b[0mkey\u001b[0m\u001b[0;34m,\u001b[0m \u001b[0maxis\u001b[0m\u001b[0;34m=\u001b[0m\u001b[0;36m1\u001b[0m\u001b[0;34m,\u001b[0m \u001b[0mraise_missing\u001b[0m\u001b[0;34m=\u001b[0m\u001b[0;32mTrue\u001b[0m\u001b[0;34m)\u001b[0m\u001b[0;34m[\u001b[0m\u001b[0;36m1\u001b[0m\u001b[0;34m]\u001b[0m\u001b[0;34m\u001b[0m\u001b[0;34m\u001b[0m\u001b[0m\n\u001b[0m\u001b[1;32m   2909\u001b[0m \u001b[0;34m\u001b[0m\u001b[0m\n\u001b[1;32m   2910\u001b[0m         \u001b[0;31m# take() does not accept boolean indexers\u001b[0m\u001b[0;34m\u001b[0m\u001b[0;34m\u001b[0m\u001b[0;34m\u001b[0m\u001b[0m\n",
      "\u001b[0;32m~/miniconda3/envs/tinymolecule/lib/python3.6/site-packages/pandas/core/indexing.py\u001b[0m in \u001b[0;36m_get_listlike_indexer\u001b[0;34m(self, key, axis, raise_missing)\u001b[0m\n\u001b[1;32m   1252\u001b[0m             \u001b[0mkeyarr\u001b[0m\u001b[0;34m,\u001b[0m \u001b[0mindexer\u001b[0m\u001b[0;34m,\u001b[0m \u001b[0mnew_indexer\u001b[0m \u001b[0;34m=\u001b[0m \u001b[0max\u001b[0m\u001b[0;34m.\u001b[0m\u001b[0m_reindex_non_unique\u001b[0m\u001b[0;34m(\u001b[0m\u001b[0mkeyarr\u001b[0m\u001b[0;34m)\u001b[0m\u001b[0;34m\u001b[0m\u001b[0;34m\u001b[0m\u001b[0m\n\u001b[1;32m   1253\u001b[0m \u001b[0;34m\u001b[0m\u001b[0m\n\u001b[0;32m-> 1254\u001b[0;31m         \u001b[0mself\u001b[0m\u001b[0;34m.\u001b[0m\u001b[0m_validate_read_indexer\u001b[0m\u001b[0;34m(\u001b[0m\u001b[0mkeyarr\u001b[0m\u001b[0;34m,\u001b[0m \u001b[0mindexer\u001b[0m\u001b[0;34m,\u001b[0m \u001b[0maxis\u001b[0m\u001b[0;34m,\u001b[0m \u001b[0mraise_missing\u001b[0m\u001b[0;34m=\u001b[0m\u001b[0mraise_missing\u001b[0m\u001b[0;34m)\u001b[0m\u001b[0;34m\u001b[0m\u001b[0;34m\u001b[0m\u001b[0m\n\u001b[0m\u001b[1;32m   1255\u001b[0m         \u001b[0;32mreturn\u001b[0m \u001b[0mkeyarr\u001b[0m\u001b[0;34m,\u001b[0m \u001b[0mindexer\u001b[0m\u001b[0;34m\u001b[0m\u001b[0;34m\u001b[0m\u001b[0m\n\u001b[1;32m   1256\u001b[0m \u001b[0;34m\u001b[0m\u001b[0m\n",
      "\u001b[0;32m~/miniconda3/envs/tinymolecule/lib/python3.6/site-packages/pandas/core/indexing.py\u001b[0m in \u001b[0;36m_validate_read_indexer\u001b[0;34m(self, key, indexer, axis, raise_missing)\u001b[0m\n\u001b[1;32m   1296\u001b[0m             \u001b[0;32mif\u001b[0m \u001b[0mmissing\u001b[0m \u001b[0;34m==\u001b[0m \u001b[0mlen\u001b[0m\u001b[0;34m(\u001b[0m\u001b[0mindexer\u001b[0m\u001b[0;34m)\u001b[0m\u001b[0;34m:\u001b[0m\u001b[0;34m\u001b[0m\u001b[0;34m\u001b[0m\u001b[0m\n\u001b[1;32m   1297\u001b[0m                 \u001b[0maxis_name\u001b[0m \u001b[0;34m=\u001b[0m \u001b[0mself\u001b[0m\u001b[0;34m.\u001b[0m\u001b[0mobj\u001b[0m\u001b[0;34m.\u001b[0m\u001b[0m_get_axis_name\u001b[0m\u001b[0;34m(\u001b[0m\u001b[0maxis\u001b[0m\u001b[0;34m)\u001b[0m\u001b[0;34m\u001b[0m\u001b[0;34m\u001b[0m\u001b[0m\n\u001b[0;32m-> 1298\u001b[0;31m                 \u001b[0;32mraise\u001b[0m \u001b[0mKeyError\u001b[0m\u001b[0;34m(\u001b[0m\u001b[0;34mf\"None of [{key}] are in the [{axis_name}]\"\u001b[0m\u001b[0;34m)\u001b[0m\u001b[0;34m\u001b[0m\u001b[0;34m\u001b[0m\u001b[0m\n\u001b[0m\u001b[1;32m   1299\u001b[0m \u001b[0;34m\u001b[0m\u001b[0m\n\u001b[1;32m   1300\u001b[0m             \u001b[0;31m# We (temporarily) allow for some missing keys with .loc, except in\u001b[0m\u001b[0;34m\u001b[0m\u001b[0;34m\u001b[0m\u001b[0;34m\u001b[0m\u001b[0m\n",
      "\u001b[0;31mKeyError\u001b[0m: \"None of [Int64Index([1], dtype='int64')] are in the [columns]\""
     ]
    }
   ],
   "source": [
    "a"
   ]
  },
  {
   "cell_type": "code",
   "execution_count": 15,
   "metadata": {},
   "outputs": [
    {
     "output_type": "error",
     "ename": "TypeError",
     "evalue": "uuid5() missing 1 required positional argument: 'name'",
     "traceback": [
      "\u001b[0;31m---------------------------------------------------------------------------\u001b[0m",
      "\u001b[0;31mTypeError\u001b[0m                                 Traceback (most recent call last)",
      "\u001b[0;32m<ipython-input-15-195778571533>\u001b[0m in \u001b[0;36m<module>\u001b[0;34m\u001b[0m\n\u001b[1;32m      1\u001b[0m \u001b[0;32mimport\u001b[0m \u001b[0muuid\u001b[0m\u001b[0;34m\u001b[0m\u001b[0;34m\u001b[0m\u001b[0m\n\u001b[1;32m      2\u001b[0m \u001b[0;34m\u001b[0m\u001b[0m\n\u001b[0;32m----> 3\u001b[0;31m \u001b[0muuid\u001b[0m\u001b[0;34m.\u001b[0m\u001b[0muuid5\u001b[0m\u001b[0;34m(\u001b[0m\u001b[0;34m\"hi\"\u001b[0m\u001b[0;34m)\u001b[0m\u001b[0;34m\u001b[0m\u001b[0;34m\u001b[0m\u001b[0m\n\u001b[0m",
      "\u001b[0;31mTypeError\u001b[0m: uuid5() missing 1 required positional argument: 'name'"
     ]
    }
   ],
   "source": [
    "import uuid\n",
    "\n",
    "uuid.uuid5(\"hi\")"
   ]
  },
  {
   "cell_type": "code",
   "execution_count": 92,
   "metadata": {},
   "outputs": [
    {
     "output_type": "error",
     "ename": "AttributeError",
     "evalue": "module 'pybel' has no attribute 'readstring'",
     "traceback": [
      "\u001b[0;31m---------------------------------------------------------------------------\u001b[0m",
      "\u001b[0;31mAttributeError\u001b[0m                            Traceback (most recent call last)",
      "\u001b[0;32m<ipython-input-92-5ee692238781>\u001b[0m in \u001b[0;36m<module>\u001b[0;34m\u001b[0m\n\u001b[1;32m      2\u001b[0m \u001b[0;34m\u001b[0m\u001b[0m\n\u001b[1;32m      3\u001b[0m \u001b[0minput\u001b[0m \u001b[0;34m=\u001b[0m \u001b[0;34m\"C1=CC=CS1\"\u001b[0m\u001b[0;34m\u001b[0m\u001b[0;34m\u001b[0m\u001b[0m\n\u001b[0;32m----> 4\u001b[0;31m \u001b[0mmymol\u001b[0m \u001b[0;34m=\u001b[0m \u001b[0mpybel\u001b[0m\u001b[0;34m.\u001b[0m\u001b[0mreadstring\u001b[0m\u001b[0;34m(\u001b[0m\u001b[0;34m\"smi\"\u001b[0m\u001b[0;34m,\u001b[0m \u001b[0minput\u001b[0m\u001b[0;34m)\u001b[0m\u001b[0;34m\u001b[0m\u001b[0;34m\u001b[0m\u001b[0m\n\u001b[0m",
      "\u001b[0;31mAttributeError\u001b[0m: module 'pybel' has no attribute 'readstring'"
     ]
    }
   ],
   "source": [
    "import pybel\n",
    "\n",
    "input = \"C1=CC=CS1\"\n",
    "mymol = pybel.readstring(\"smi\", input)"
   ]
  },
  {
   "cell_type": "code",
   "execution_count": 93,
   "metadata": {},
   "outputs": [
    {
     "output_type": "execute_result",
     "data": {
      "text/plain": [
       "'pybel'"
      ]
     },
     "metadata": {},
     "execution_count": 93
    }
   ],
   "source": [
    "pybel.__package__"
   ]
  },
  {
   "cell_type": "code",
   "execution_count": 94,
   "metadata": {},
   "outputs": [
    {
     "output_type": "error",
     "ename": "AttributeError",
     "evalue": "module 'pybel' has no attribute 'from_url'",
     "traceback": [
      "\u001b[0;31m---------------------------------------------------------------------------\u001b[0m",
      "\u001b[0;31mAttributeError\u001b[0m                            Traceback (most recent call last)",
      "\u001b[0;32m<ipython-input-94-afe8363412f9>\u001b[0m in \u001b[0;36m<module>\u001b[0;34m\u001b[0m\n\u001b[1;32m      1\u001b[0m \u001b[0;32mimport\u001b[0m \u001b[0mpybel\u001b[0m\u001b[0;34m\u001b[0m\u001b[0;34m\u001b[0m\u001b[0m\n\u001b[1;32m      2\u001b[0m \u001b[0murl\u001b[0m \u001b[0;34m=\u001b[0m \u001b[0;34m'https://raw.githubusercontent.com/pharmacome/knowledge/master/hbp_knowledge/proteostasis/kim2013.bel'\u001b[0m\u001b[0;34m\u001b[0m\u001b[0;34m\u001b[0m\u001b[0m\n\u001b[0;32m----> 3\u001b[0;31m \u001b[0mgraph\u001b[0m \u001b[0;34m=\u001b[0m \u001b[0mpybel\u001b[0m\u001b[0;34m.\u001b[0m\u001b[0mfrom_url\u001b[0m\u001b[0;34m(\u001b[0m\u001b[0murl\u001b[0m\u001b[0;34m)\u001b[0m\u001b[0;34m\u001b[0m\u001b[0;34m\u001b[0m\u001b[0m\n\u001b[0m",
      "\u001b[0;31mAttributeError\u001b[0m: module 'pybel' has no attribute 'from_url'"
     ]
    }
   ],
   "source": [
    "import pybel\n",
    "url = 'https://raw.githubusercontent.com/pharmacome/knowledge/master/hbp_knowledge/proteostasis/kim2013.bel'\n",
    "graph = pybel.from_url(url)"
   ]
  },
  {
   "cell_type": "code",
   "execution_count": 150,
   "metadata": {},
   "outputs": [
    {
     "output_type": "execute_result",
     "data": {
      "text/plain": [
       "2"
      ]
     },
     "metadata": {},
     "execution_count": 150
    }
   ],
   "source": [
    "import openbabel\n",
    "\n",
    "conv = openbabel.OBConversion()\n",
    "conv.SetOneObjectOnly(True)\n",
    "conv.OpenInAndOutFiles(\"/Users/Munchic/Developer/Capstone/tinymolecule/data/pdb/test.smi\", \"/Users/Munchic/Developer/Capstone/tinymolecule/data/pdb/test.pdbqt\")\n",
    "conv.SetInAndOutFormats(\"smi\", \"pdbqt\")\n",
    "conv.AddOption(\"gen3d\", conv.GENOPTIONS)\n",
    "conv.AddOption(\"h\", conv.GENOPTIONS)\n",
    "conv.Convert()\n",
    "\n",
    "conv.OpenInAndOutFiles(\"/Users/Munchic/Developer/Capstone/tinymolecule/data/pdb/test.smi\", \"/Users/Munchic/Developer/Capstone/tinymolecule/data/pdb/test-2.pdbqt\")\n",
    "conv.Convert()"
   ]
  },
  {
   "cell_type": "code",
   "execution_count": 149,
   "metadata": {},
   "outputs": [
    {
     "output_type": "execute_result",
     "data": {
      "text/plain": [
       "['ALL',\n",
       " 'AddChemObject',\n",
       " 'AddOption',\n",
       " 'CloseOutFile',\n",
       " 'Convert',\n",
       " 'CopyOptions',\n",
       " 'Description',\n",
       " 'FindFormat',\n",
       " 'FormatFromExt',\n",
       " 'FormatFromMIME',\n",
       " 'FullConvert',\n",
       " 'GENOPTIONS',\n",
       " 'GetAuxConv',\n",
       " 'GetChemObject',\n",
       " 'GetCount',\n",
       " 'GetDefaultFormat',\n",
       " 'GetInFilename',\n",
       " 'GetInFormat',\n",
       " 'GetInGzipped',\n",
       " 'GetInLen',\n",
       " 'GetInPos',\n",
       " 'GetInStream',\n",
       " 'GetOptionParams',\n",
       " 'GetOptions',\n",
       " 'GetOutFilename',\n",
       " 'GetOutFormat',\n",
       " 'GetOutGzipped',\n",
       " 'GetOutStream',\n",
       " 'GetOutputIndex',\n",
       " 'GetSupportedInputFormat',\n",
       " 'GetSupportedOutputFormat',\n",
       " 'GetTitle',\n",
       " 'INOPTIONS',\n",
       " 'IsFirstInput',\n",
       " 'IsLast',\n",
       " 'IsLastFile',\n",
       " 'IsOption',\n",
       " 'NumInputObjects',\n",
       " 'OUTOPTIONS',\n",
       " 'OpenInAndOutFiles',\n",
       " 'Read',\n",
       " 'ReadFile',\n",
       " 'ReadString',\n",
       " 'RegisterFormat',\n",
       " 'RegisterOptionParam',\n",
       " 'RemoveOption',\n",
       " 'ReportNumberConverted',\n",
       " 'SetAuxConv',\n",
       " 'SetFirstInput',\n",
       " 'SetInAndOutFormats',\n",
       " 'SetInFormat',\n",
       " 'SetInStream',\n",
       " 'SetLast',\n",
       " 'SetMoreFilesToCome',\n",
       " 'SetOneObjectOnly',\n",
       " 'SetOptions',\n",
       " 'SetOutFormat',\n",
       " 'SetOutStream',\n",
       " 'SetOutputIndex',\n",
       " 'Write',\n",
       " 'WriteFile',\n",
       " 'WriteString',\n",
       " '__class__',\n",
       " '__delattr__',\n",
       " '__dict__',\n",
       " '__dir__',\n",
       " '__doc__',\n",
       " '__eq__',\n",
       " '__format__',\n",
       " '__ge__',\n",
       " '__getattribute__',\n",
       " '__gt__',\n",
       " '__hash__',\n",
       " '__init__',\n",
       " '__init_subclass__',\n",
       " '__le__',\n",
       " '__lt__',\n",
       " '__module__',\n",
       " '__ne__',\n",
       " '__new__',\n",
       " '__reduce__',\n",
       " '__reduce_ex__',\n",
       " '__repr__',\n",
       " '__setattr__',\n",
       " '__sizeof__',\n",
       " '__str__',\n",
       " '__subclasshook__',\n",
       " '__swig_destroy__',\n",
       " '__weakref__',\n",
       " 'this',\n",
       " 'thisown']"
      ]
     },
     "metadata": {},
     "execution_count": 149
    }
   ],
   "source": [
    "dir(conv)"
   ]
  },
  {
   "cell_type": "code",
   "execution_count": 148,
   "metadata": {},
   "outputs": [
    {
     "output_type": "execute_result",
     "data": {
      "text/plain": [
       "True"
      ]
     },
     "metadata": {},
     "execution_count": 148
    }
   ],
   "source": [
    "import openbabel\n",
    "\n",
    "conv = openbabel.OBConversion()\n",
    "mol = openbabel.OBMol()\n",
    "conv.SetInAndOutFormats(\"smi\", \"pdb\")\n",
    "conv.ReadString(mol, \"CNc1c(Oc2cccc(Br)oc2[n+]2)cc(Cl)soc21\")\n",
    "\n",
    "conv.AddOption(\"gen3d\", conv.GENOPTIONS)\n",
    "conv.AddOption(\"h\", conv.GENOPTIONS)\n",
    "conv.Convert()\n",
    "\n",
    "conv.WriteFile(mol, \"/Users/Munchic/Developer/Capstone/tinymolecule/data/pdb/test.pdb\")"
   ]
  },
  {
   "cell_type": "code",
   "execution_count": null,
   "metadata": {},
   "outputs": [],
   "source": [
    "conv.OpenInAndOutFiles"
   ]
  },
  {
   "cell_type": "code",
   "execution_count": 111,
   "metadata": {},
   "outputs": [
    {
     "output_type": "execute_result",
     "data": {
      "text/plain": [
       "<openbabel.openbabel.OBMol; proxy of <Swig Object of type 'OpenBabel::OBMol *' at 0x7fbe1a1f66c0> >"
      ]
     },
     "metadata": {},
     "execution_count": 111
    }
   ],
   "source": [
    "mol"
   ]
  },
  {
   "cell_type": "code",
   "execution_count": 131,
   "metadata": {},
   "outputs": [
    {
     "output_type": "execute_result",
     "data": {
      "text/plain": [
       "2"
      ]
     },
     "metadata": {},
     "execution_count": 131
    }
   ],
   "source": [
    "conv.GENOPTIONS"
   ]
  },
  {
   "cell_type": "code",
   "execution_count": 113,
   "metadata": {},
   "outputs": [
    {
     "output_type": "execute_result",
     "data": {
      "text/plain": [
       "True"
      ]
     },
     "metadata": {},
     "execution_count": 113
    }
   ],
   "source": [
    "obConversion.WriteFile(mol, \"/Users/Munchic/Developer/Capstone/tinymolecule/data/pdb/test.pdb\")"
   ]
  },
  {
   "cell_type": "code",
   "execution_count": 112,
   "metadata": {},
   "outputs": [
    {
     "output_type": "execute_result",
     "data": {
      "text/plain": [
       "0"
      ]
     },
     "metadata": {},
     "execution_count": 112
    }
   ],
   "source": [
    "obConversion.Convert()"
   ]
  },
  {
   "cell_type": "code",
   "execution_count": 192,
   "metadata": {},
   "outputs": [],
   "source": [
    "with open(\"/Users/Munchic/Developer/Capstone/tinymolecule/data/pdb_out/valid_sample_1e5/logs/778c67fc.txt\") as log:\n",
    "    lines = log.readlines()"
   ]
  },
  {
   "cell_type": "code",
   "execution_count": 193,
   "metadata": {},
   "outputs": [],
   "source": [
    "all_positions = lines[-11:-1]\n",
    "for i in range(len(all_positions)):\n",
    "    all_positions[i] = list(map(float, all_positions[i].split()))"
   ]
  },
  {
   "cell_type": "code",
   "execution_count": null,
   "metadata": {},
   "outputs": [],
   "source": []
  },
  {
   "cell_type": "code",
   "execution_count": 194,
   "metadata": {},
   "outputs": [],
   "source": [
    "import numpy as np\n",
    "\n",
    "a = np.array(all_positions)"
   ]
  },
  {
   "cell_type": "code",
   "execution_count": 86,
   "metadata": {},
   "outputs": [],
   "source": [
    "colnames = list(map(lambda x: [f\"affin_kcal_mol-1_{x}\", f\"best_dist_rmsd_lb_{x}\", f\"best_dist_rmsd_ub_{x}\"], range(1, 11)))"
   ]
  },
  {
   "cell_type": "code",
   "execution_count": 173,
   "metadata": {},
   "outputs": [],
   "source": [
    "import itertools\n",
    "\n",
    "a = sorted(list(itertools.chain.from_iterable(colnames)), key=lambda x: int(x[-x[::-1].find(\"_\"):]))\n",
    "a = np.array(sorted(a, key=lambda x: x[:-x[::-1].find(\"_\")]))"
   ]
  },
  {
   "cell_type": "code",
   "execution_count": 191,
   "metadata": {},
   "outputs": [
    {
     "output_type": "execute_result",
     "data": {
      "text/plain": [
       "(30,)"
      ]
     },
     "metadata": {},
     "execution_count": 191
    }
   ],
   "source": [
    "a.shape"
   ]
  },
  {
   "cell_type": "code",
   "execution_count": 175,
   "metadata": {},
   "outputs": [],
   "source": [
    "with open(\"/Users/Munchic/Developer/Capstone/tinymolecule/data/pdb/test_log.txt\") as log:\n",
    "    lines = log.readlines()\n",
    "\n",
    "if len(lines) > 27:  # where\n",
    "    all_positions = lines[-lines[::-1].index('\\n')+3:-1]\n",
    "for i in range(len(all_positions)):\n",
    "    all_positions[i] = list(map(float, all_positions[i].split()))\n",
    "\n",
    "def create_empty_entry():\n",
    "    filler = np.ones((10, 3)) * np.nan\n",
    "\n",
    "    return filler"
   ]
  },
  {
   "cell_type": "code",
   "execution_count": 190,
   "metadata": {},
   "outputs": [
    {
     "output_type": "execute_result",
     "data": {
      "text/plain": [
       "['   1         -9.1      0.000      0.000\\n',\n",
       " '   2         -9.0      4.255      9.536\\n',\n",
       " '   3         -8.9      4.263      6.959\\n',\n",
       " '   4         -8.9      4.354      6.927\\n',\n",
       " '   5         -8.6      4.307     10.204\\n',\n",
       " '   6         -8.6      5.080     10.036\\n',\n",
       " '   7         -8.4      4.932      8.650\\n',\n",
       " '   8         -8.3      1.923      2.310\\n',\n",
       " '   9         -8.3      2.307      8.139\\n',\n",
       " '  10         -8.2      3.176      5.846\\n']"
      ]
     },
     "metadata": {},
     "execution_count": 190
    }
   ],
   "source": [
    "lines[-lines[::-1].index('\\n')+3:-1]"
   ]
  },
  {
   "cell_type": "code",
   "execution_count": 184,
   "metadata": {},
   "outputs": [
    {
     "output_type": "execute_result",
     "data": {
      "text/plain": [
       "['Writing output ... done.\\n',\n",
       " '  10         -8.2      3.176      5.846\\n',\n",
       " '   9         -8.3      2.307      8.139\\n',\n",
       " '   8         -8.3      1.923      2.310\\n',\n",
       " '   7         -8.4      4.932      8.650\\n',\n",
       " '   6         -8.6      5.080     10.036\\n',\n",
       " '   5         -8.6      4.307     10.204\\n',\n",
       " '   4         -8.9      4.354      6.927\\n',\n",
       " '   3         -8.9      4.263      6.959\\n',\n",
       " '   2         -9.0      4.255      9.536\\n',\n",
       " '   1         -9.1      0.000      0.000\\n',\n",
       " '-----+------------+----------+----------\\n',\n",
       " '     | (kcal/mol) | rmsd l.b.| rmsd u.b.\\n',\n",
       " 'mode |   affinity | dist from best mode\\n',\n",
       " '\\n',\n",
       " 'Refining results ... done.\\n',\n",
       " 'Performing search ... done.\\n',\n",
       " 'Using random seed: 1224363035\\n',\n",
       " 'Analyzing the binding site ... done.\\n',\n",
       " 'Setting up the scoring function ... done.\\n',\n",
       " 'Reading input ... done.\\n',\n",
       " 'WARNING: at low exhaustiveness, it may be impossible to utilize all CPUs\\n',\n",
       " 'Detected 12 CPUs\\n',\n",
       " 'Output will be /Users/Munchic/Developer/Capstone/tinymolecule/data/pdb/valid_sample_1e5/8064ea65_out.pdbqt\\n',\n",
       " 'WARNING: The search space volume > 27000 Angstrom^3 (See FAQ)\\n',\n",
       " '\\n',\n",
       " '#################################################################\\n',\n",
       " '# Please see http://vina.scripps.edu for more information.      #\\n',\n",
       " '#                                                               #\\n',\n",
       " '# DOI 10.1002/jcc.21334                                         #\\n',\n",
       " '#                                                               #\\n',\n",
       " '# 455-461                                                       #\\n',\n",
       " '# multithreading, Journal of Computational Chemistry 31 (2010)  #\\n',\n",
       " '# with a new scoring function, efficient optimization and       #\\n',\n",
       " '# AutoDock Vina: improving the speed and accuracy of docking    #\\n',\n",
       " '# O. Trott, A. J. Olson,                                        #\\n',\n",
       " '#                                                               #\\n',\n",
       " '# If you used AutoDock Vina in your work, please cite:          #\\n',\n",
       " '#################################################################\\n']"
      ]
     },
     "metadata": {},
     "execution_count": 184
    }
   ],
   "source": []
  },
  {
   "cell_type": "code",
   "execution_count": 183,
   "metadata": {},
   "outputs": [
    {
     "output_type": "execute_result",
     "data": {
      "text/plain": [
       "['#################################################################\\n',\n",
       " '# If you used AutoDock Vina in your work, please cite:          #\\n',\n",
       " '#                                                               #\\n',\n",
       " '# O. Trott, A. J. Olson,                                        #\\n',\n",
       " '# AutoDock Vina: improving the speed and accuracy of docking    #\\n',\n",
       " '# with a new scoring function, efficient optimization and       #\\n',\n",
       " '# multithreading, Journal of Computational Chemistry 31 (2010)  #\\n',\n",
       " '# 455-461                                                       #\\n',\n",
       " '#                                                               #\\n',\n",
       " '# DOI 10.1002/jcc.21334                                         #\\n',\n",
       " '#                                                               #\\n',\n",
       " '# Please see http://vina.scripps.edu for more information.      #\\n',\n",
       " '#################################################################\\n',\n",
       " '\\n',\n",
       " 'WARNING: The search space volume > 27000 Angstrom^3 (See FAQ)\\n',\n",
       " 'Output will be /Users/Munchic/Developer/Capstone/tinymolecule/data/pdb/valid_sample_1e5/8064ea65_out.pdbqt\\n',\n",
       " 'Detected 12 CPUs\\n',\n",
       " 'WARNING: at low exhaustiveness, it may be impossible to utilize all CPUs\\n',\n",
       " 'Reading input ... done.\\n',\n",
       " 'Setting up the scoring function ... done.\\n',\n",
       " 'Analyzing the binding site ... done.\\n',\n",
       " 'Using random seed: 1224363035\\n',\n",
       " 'Performing search ... done.\\n',\n",
       " 'Refining results ... done.\\n',\n",
       " '\\n',\n",
       " 'mode |   affinity | dist from best mode\\n',\n",
       " '     | (kcal/mol) | rmsd l.b.| rmsd u.b.\\n',\n",
       " '-----+------------+----------+----------\\n',\n",
       " '   1         -9.1      0.000      0.000\\n',\n",
       " '   2         -9.0      4.255      9.536\\n',\n",
       " '   3         -8.9      4.263      6.959\\n',\n",
       " '   4         -8.9      4.354      6.927\\n',\n",
       " '   5         -8.6      4.307     10.204\\n',\n",
       " '   6         -8.6      5.080     10.036\\n',\n",
       " '   7         -8.4      4.932      8.650\\n',\n",
       " '   8         -8.3      1.923      2.310\\n',\n",
       " '   9         -8.3      2.307      8.139\\n',\n",
       " '  10         -8.2      3.176      5.846\\n',\n",
       " 'Writing output ... done.\\n']"
      ]
     },
     "metadata": {},
     "execution_count": 183
    }
   ],
   "source": [
    "lines"
   ]
  },
  {
   "cell_type": "code",
   "execution_count": 178,
   "metadata": {},
   "outputs": [
    {
     "output_type": "execute_result",
     "data": {
      "text/plain": [
       "39"
      ]
     },
     "metadata": {},
     "execution_count": 178
    }
   ],
   "source": []
  },
  {
   "cell_type": "code",
   "execution_count": 176,
   "metadata": {},
   "outputs": [],
   "source": [
    "log = np.array(all_positions)[:5, 1:]\n",
    "if log.shape == ():\n",
    "    log = create_empty_entry()\n",
    "elif log.shape[0] < 10:\n",
    "    filler = np.ones((10 - log.shape[0], 3)) * np.nan\n",
    "    log = np.vstack((log, filler))\n",
    "entry = log.flatten(order='F')"
   ]
  },
  {
   "cell_type": "code",
   "execution_count": 177,
   "metadata": {},
   "outputs": [
    {
     "output_type": "execute_result",
     "data": {
      "text/plain": [
       "array([-9.1  , -9.   , -8.9  , -8.9  , -8.6  ,    nan,    nan,    nan,\n",
       "          nan,    nan,  0.   ,  4.255,  4.263,  4.354,  4.307,    nan,\n",
       "          nan,    nan,    nan,    nan,  0.   ,  9.536,  6.959,  6.927,\n",
       "       10.204,    nan,    nan,    nan,    nan,    nan])"
      ]
     },
     "metadata": {},
     "execution_count": 177
    }
   ],
   "source": [
    "entry"
   ]
  },
  {
   "cell_type": "code",
   "execution_count": 172,
   "metadata": {},
   "outputs": [
    {
     "output_type": "execute_result",
     "data": {
      "text/plain": [
       "array([[-9.1  ,  0.   ,  0.   ],\n",
       "       [-9.   ,  4.255,  9.536],\n",
       "       [-8.9  ,  4.263,  6.959],\n",
       "       [-8.9  ,  4.354,  6.927],\n",
       "       [-8.6  ,  4.307, 10.204],\n",
       "       [   nan,    nan,    nan],\n",
       "       [   nan,    nan,    nan],\n",
       "       [   nan,    nan,    nan],\n",
       "       [   nan,    nan,    nan],\n",
       "       [   nan,    nan,    nan]])"
      ]
     },
     "metadata": {},
     "execution_count": 172
    }
   ],
   "source": [
    "log"
   ]
  },
  {
   "cell_type": "code",
   "execution_count": 155,
   "metadata": {},
   "outputs": [
    {
     "output_type": "execute_result",
     "data": {
      "text/plain": [
       "array([-9.1  ,  0.   ,  0.   , -9.   ,  4.255,  9.536, -8.9  ,  4.263,\n",
       "        6.959, -8.9  ,  4.354,  6.927, -8.6  ,  4.307, 10.204, -8.6  ,\n",
       "        5.08 , 10.036, -8.4  ,  4.932,  8.65 , -8.3  ,  1.923,  2.31 ,\n",
       "       -8.3  ,  2.307,  8.139, -8.2  ,  3.176,  5.846])"
      ]
     },
     "metadata": {},
     "execution_count": 155
    }
   ],
   "source": [
    "entry"
   ]
  },
  {
   "cell_type": "code",
   "execution_count": 137,
   "metadata": {},
   "outputs": [
    {
     "output_type": "execute_result",
     "data": {
      "text/plain": [
       "array([[nan, nan, nan, nan, nan],\n",
       "       [nan, nan, nan, nan, nan],\n",
       "       [nan, nan, nan, nan, nan],\n",
       "       [nan, nan, nan, nan, nan],\n",
       "       [nan, nan, nan, nan, nan]])"
      ]
     },
     "metadata": {},
     "execution_count": 137
    }
   ],
   "source": [
    "np.ones((5, 5)) * np.nan"
   ]
  },
  {
   "cell_type": "code",
   "execution_count": 140,
   "metadata": {},
   "outputs": [
    {
     "output_type": "execute_result",
     "data": {
      "text/plain": [
       "True"
      ]
     },
     "metadata": {},
     "execution_count": 140
    }
   ],
   "source": [
    "np.array(None).shape == "
   ]
  },
  {
   "cell_type": "code",
   "execution_count": 4,
   "metadata": {},
   "outputs": [],
   "source": [
    "\n",
    "def change_file_ext(filename, ext=None):\n",
    "    ext_pos = filename.find(\".\")\n",
    "    new_filename = filename[:ext_pos]\n",
    "    if ext:\n",
    "        new_filename += f\".{ext}\"\n",
    "\n",
    "    return new_filename"
   ]
  },
  {
   "cell_type": "code",
   "execution_count": 6,
   "metadata": {},
   "outputs": [
    {
     "output_type": "execute_result",
     "data": {
      "text/plain": [
       "'12345678.txt'"
      ]
     },
     "metadata": {},
     "execution_count": 6
    }
   ],
   "source": [
    "change_file_ext(\"12345678.pdbqt\", ext=\"txt\")"
   ]
  },
  {
   "cell_type": "code",
   "execution_count": 217,
   "metadata": {},
   "outputs": [],
   "source": [
    "from pathlib import Path\n",
    "\n",
    "import pandas as pd\n",
    "import numpy as np\n",
    "\n",
    "import matplotlib.pyplot as plt\n",
    "\n",
    "def get_vina_header():\n",
    "    colnames = list(\n",
    "        map(\n",
    "            lambda x: [\n",
    "                f\"affin_kcal_mol-1_{x}\",\n",
    "                f\"best_dist_rmsd_lb_{x}\",\n",
    "                f\"best_dist_rmsd_ub_{x}\",\n",
    "            ],\n",
    "            range(1, 11),\n",
    "        )\n",
    "    )\n",
    "\n",
    "    num_sorted = sorted(\n",
    "        list(itertools.chain.from_iterable(colnames)),\n",
    "        key=lambda x: int(x[-x[::-1].find(\"_\") :]),\n",
    "    )\n",
    "    cols_sorted = np.array(sorted(num_sorted, key=lambda x: x[: -x[::-1].find(\"_\")]))\n",
    "\n",
    "    return cols_sorted\n",
    "\n",
    "\n",
    "def generate_logs_table(logs_path):\n",
    "    all_logs = os.listdir(logs_path)\n",
    "    logs_table = get_vina_header()  # get header of log entries\n",
    "\n",
    "    for logfile in all_logs:\n",
    "        with open(logs_path / logfile) as _log:\n",
    "            lines = _log.readlines()\n",
    "\n",
    "        if len(lines) > 27:  # where the table starts\n",
    "            all_positions = lines[\n",
    "                -lines[::-1].index(\"\\n\") + 3 : -1\n",
    "            ]  # binding positions log\n",
    "        else:\n",
    "            continue\n",
    "\n",
    "        for i in range(len(all_positions)):\n",
    "            all_positions[i] = list(map(float, all_positions[i].split()))\n",
    "\n",
    "        log = np.array(all_positions)[:, 1:]\n",
    "        if log.shape == ():\n",
    "            log = create_empty_entry()\n",
    "        elif log.shape[0] < 10:\n",
    "            filler = np.ones((10 - log.shape[0], 3)) * np.nan\n",
    "            log = np.vstack((log, filler))\n",
    "        entry = log.flatten(order=\"F\")\n",
    "\n",
    "        logs_table = np.vstack((logs_table, entry))    \n",
    "        logs_df = pd.DataFrame(logs_table[1:], columns=logs_table[0], dtype=float)\n",
    "\n",
    "    return logs_df"
   ]
  },
  {
   "cell_type": "code",
   "execution_count": 218,
   "metadata": {
    "tags": []
   },
   "outputs": [],
   "source": [
    "logs_df = generate_logs_table(\n",
    "    Path(\n",
    "        \"/Users/Munchic/Developer/Capstone/tinymolecule/data/pdb_out/valid_sample_1e5/logs\"\n",
    "    )\n",
    ")"
   ]
  },
  {
   "cell_type": "code",
   "execution_count": 219,
   "metadata": {},
   "outputs": [
    {
     "output_type": "execute_result",
     "data": {
      "text/plain": [
       "   affin_kcal_mol-1_1  affin_kcal_mol-1_2  affin_kcal_mol-1_3  \\\n",
       "0                -8.9                -8.3                -8.3   \n",
       "1                -9.7                -9.4                -9.2   \n",
       "2               -10.9               -10.8               -10.5   \n",
       "3                -8.6                -8.6                -8.5   \n",
       "4                -5.3                -5.2                -5.1   \n",
       "\n",
       "   affin_kcal_mol-1_4  affin_kcal_mol-1_5  affin_kcal_mol-1_6  \\\n",
       "0                -8.3                -8.2                -8.1   \n",
       "1                -9.1                -8.5                -8.4   \n",
       "2               -10.2               -10.1               -10.0   \n",
       "3                -8.5                -8.5                -8.3   \n",
       "4                -5.0                -5.0                -4.8   \n",
       "\n",
       "   affin_kcal_mol-1_7  affin_kcal_mol-1_8  affin_kcal_mol-1_9  \\\n",
       "0                -8.0                -8.0                -7.8   \n",
       "1                -8.1                -8.0                -8.0   \n",
       "2                -9.9                -9.6                -9.3   \n",
       "3                -8.3                -8.1                -8.1   \n",
       "4                -4.7                -4.5                -4.5   \n",
       "\n",
       "   affin_kcal_mol-1_10  ...  best_dist_rmsd_ub_1  best_dist_rmsd_ub_2  \\\n",
       "0                 -7.8  ...                  0.0                8.968   \n",
       "1                 -8.0  ...                  0.0                7.237   \n",
       "2                 -9.3  ...                  0.0                9.063   \n",
       "3                 -7.7  ...                  0.0                6.951   \n",
       "4                 -4.4  ...                  0.0                4.685   \n",
       "\n",
       "   best_dist_rmsd_ub_3  best_dist_rmsd_ub_4  best_dist_rmsd_ub_5  \\\n",
       "0                7.124                6.804                8.272   \n",
       "1                3.220                2.763                8.205   \n",
       "2                7.328                2.840               10.573   \n",
       "3                7.032                8.381                6.441   \n",
       "4                3.078                1.129                7.535   \n",
       "\n",
       "   best_dist_rmsd_ub_6  best_dist_rmsd_ub_7  best_dist_rmsd_ub_8  \\\n",
       "0                5.938                8.674                7.001   \n",
       "1                8.733               10.832                3.882   \n",
       "2                6.107               10.287               10.492   \n",
       "3                7.650                8.090                8.987   \n",
       "4                6.317                2.691                6.653   \n",
       "\n",
       "   best_dist_rmsd_ub_9  best_dist_rmsd_ub_10  \n",
       "0                8.568                 4.386  \n",
       "1                8.752                 9.361  \n",
       "2               10.706                11.499  \n",
       "3                6.265                 3.308  \n",
       "4                5.660                 5.612  \n",
       "\n",
       "[5 rows x 30 columns]"
      ],
      "text/html": "<div>\n<style scoped>\n    .dataframe tbody tr th:only-of-type {\n        vertical-align: middle;\n    }\n\n    .dataframe tbody tr th {\n        vertical-align: top;\n    }\n\n    .dataframe thead th {\n        text-align: right;\n    }\n</style>\n<table border=\"1\" class=\"dataframe\">\n  <thead>\n    <tr style=\"text-align: right;\">\n      <th></th>\n      <th>affin_kcal_mol-1_1</th>\n      <th>affin_kcal_mol-1_2</th>\n      <th>affin_kcal_mol-1_3</th>\n      <th>affin_kcal_mol-1_4</th>\n      <th>affin_kcal_mol-1_5</th>\n      <th>affin_kcal_mol-1_6</th>\n      <th>affin_kcal_mol-1_7</th>\n      <th>affin_kcal_mol-1_8</th>\n      <th>affin_kcal_mol-1_9</th>\n      <th>affin_kcal_mol-1_10</th>\n      <th>...</th>\n      <th>best_dist_rmsd_ub_1</th>\n      <th>best_dist_rmsd_ub_2</th>\n      <th>best_dist_rmsd_ub_3</th>\n      <th>best_dist_rmsd_ub_4</th>\n      <th>best_dist_rmsd_ub_5</th>\n      <th>best_dist_rmsd_ub_6</th>\n      <th>best_dist_rmsd_ub_7</th>\n      <th>best_dist_rmsd_ub_8</th>\n      <th>best_dist_rmsd_ub_9</th>\n      <th>best_dist_rmsd_ub_10</th>\n    </tr>\n  </thead>\n  <tbody>\n    <tr>\n      <th>0</th>\n      <td>-8.9</td>\n      <td>-8.3</td>\n      <td>-8.3</td>\n      <td>-8.3</td>\n      <td>-8.2</td>\n      <td>-8.1</td>\n      <td>-8.0</td>\n      <td>-8.0</td>\n      <td>-7.8</td>\n      <td>-7.8</td>\n      <td>...</td>\n      <td>0.0</td>\n      <td>8.968</td>\n      <td>7.124</td>\n      <td>6.804</td>\n      <td>8.272</td>\n      <td>5.938</td>\n      <td>8.674</td>\n      <td>7.001</td>\n      <td>8.568</td>\n      <td>4.386</td>\n    </tr>\n    <tr>\n      <th>1</th>\n      <td>-9.7</td>\n      <td>-9.4</td>\n      <td>-9.2</td>\n      <td>-9.1</td>\n      <td>-8.5</td>\n      <td>-8.4</td>\n      <td>-8.1</td>\n      <td>-8.0</td>\n      <td>-8.0</td>\n      <td>-8.0</td>\n      <td>...</td>\n      <td>0.0</td>\n      <td>7.237</td>\n      <td>3.220</td>\n      <td>2.763</td>\n      <td>8.205</td>\n      <td>8.733</td>\n      <td>10.832</td>\n      <td>3.882</td>\n      <td>8.752</td>\n      <td>9.361</td>\n    </tr>\n    <tr>\n      <th>2</th>\n      <td>-10.9</td>\n      <td>-10.8</td>\n      <td>-10.5</td>\n      <td>-10.2</td>\n      <td>-10.1</td>\n      <td>-10.0</td>\n      <td>-9.9</td>\n      <td>-9.6</td>\n      <td>-9.3</td>\n      <td>-9.3</td>\n      <td>...</td>\n      <td>0.0</td>\n      <td>9.063</td>\n      <td>7.328</td>\n      <td>2.840</td>\n      <td>10.573</td>\n      <td>6.107</td>\n      <td>10.287</td>\n      <td>10.492</td>\n      <td>10.706</td>\n      <td>11.499</td>\n    </tr>\n    <tr>\n      <th>3</th>\n      <td>-8.6</td>\n      <td>-8.6</td>\n      <td>-8.5</td>\n      <td>-8.5</td>\n      <td>-8.5</td>\n      <td>-8.3</td>\n      <td>-8.3</td>\n      <td>-8.1</td>\n      <td>-8.1</td>\n      <td>-7.7</td>\n      <td>...</td>\n      <td>0.0</td>\n      <td>6.951</td>\n      <td>7.032</td>\n      <td>8.381</td>\n      <td>6.441</td>\n      <td>7.650</td>\n      <td>8.090</td>\n      <td>8.987</td>\n      <td>6.265</td>\n      <td>3.308</td>\n    </tr>\n    <tr>\n      <th>4</th>\n      <td>-5.3</td>\n      <td>-5.2</td>\n      <td>-5.1</td>\n      <td>-5.0</td>\n      <td>-5.0</td>\n      <td>-4.8</td>\n      <td>-4.7</td>\n      <td>-4.5</td>\n      <td>-4.5</td>\n      <td>-4.4</td>\n      <td>...</td>\n      <td>0.0</td>\n      <td>4.685</td>\n      <td>3.078</td>\n      <td>1.129</td>\n      <td>7.535</td>\n      <td>6.317</td>\n      <td>2.691</td>\n      <td>6.653</td>\n      <td>5.660</td>\n      <td>5.612</td>\n    </tr>\n  </tbody>\n</table>\n<p>5 rows × 30 columns</p>\n</div>"
     },
     "metadata": {},
     "execution_count": 219
    }
   ],
   "source": [
    "logs_df.head()"
   ]
  },
  {
   "cell_type": "code",
   "execution_count": 231,
   "metadata": {},
   "outputs": [
    {
     "output_type": "display_data",
     "data": {
      "text/plain": "<Figure size 432x288 with 1 Axes>",
      "image/svg+xml": "<?xml version=\"1.0\" encoding=\"utf-8\" standalone=\"no\"?>\n<!DOCTYPE svg PUBLIC \"-//W3C//DTD SVG 1.1//EN\"\n  \"http://www.w3.org/Graphics/SVG/1.1/DTD/svg11.dtd\">\n<!-- Created with matplotlib (https://matplotlib.org/) -->\n<svg height=\"248.518125pt\" version=\"1.1\" viewBox=\"0 0 368.925 248.518125\" width=\"368.925pt\" xmlns=\"http://www.w3.org/2000/svg\" xmlns:xlink=\"http://www.w3.org/1999/xlink\">\n <metadata>\n  <rdf:RDF xmlns:cc=\"http://creativecommons.org/ns#\" xmlns:dc=\"http://purl.org/dc/elements/1.1/\" xmlns:rdf=\"http://www.w3.org/1999/02/22-rdf-syntax-ns#\">\n   <cc:Work>\n    <dc:type rdf:resource=\"http://purl.org/dc/dcmitype/StillImage\"/>\n    <dc:date>2020-11-12T13:26:29.484128</dc:date>\n    <dc:format>image/svg+xml</dc:format>\n    <dc:creator>\n     <cc:Agent>\n      <dc:title>Matplotlib v3.3.2, https://matplotlib.org/</dc:title>\n     </cc:Agent>\n    </dc:creator>\n   </cc:Work>\n  </rdf:RDF>\n </metadata>\n <defs>\n  <style type=\"text/css\">*{stroke-linecap:butt;stroke-linejoin:round;}</style>\n </defs>\n <g id=\"figure_1\">\n  <g id=\"patch_1\">\n   <path d=\"M -0 248.518125 \nL 368.925 248.518125 \nL 368.925 0 \nL -0 0 \nz\n\" style=\"fill:none;\"/>\n  </g>\n  <g id=\"axes_1\">\n   <g id=\"patch_2\">\n    <path d=\"M 26.925 224.64 \nL 361.725 224.64 \nL 361.725 7.2 \nL 26.925 7.2 \nz\n\" style=\"fill:#ffffff;\"/>\n   </g>\n   <g id=\"matplotlib.axis_1\">\n    <g id=\"xtick_1\">\n     <g id=\"line2d_1\">\n      <defs>\n       <path d=\"M 0 0 \nL 0 3.5 \n\" id=\"m0e23786955\" style=\"stroke:#000000;stroke-width:0.8;\"/>\n      </defs>\n      <g>\n       <use style=\"stroke:#000000;stroke-width:0.8;\" x=\"49.477245\" xlink:href=\"#m0e23786955\" y=\"224.64\"/>\n      </g>\n     </g>\n     <g id=\"text_1\">\n      <!-- −12 -->\n      <g transform=\"translate(38.924902 239.238437)scale(0.1 -0.1)\">\n       <defs>\n        <path d=\"M 10.59375 35.5 \nL 73.1875 35.5 \nL 73.1875 27.203125 \nL 10.59375 27.203125 \nz\n\" id=\"DejaVuSans-8722\"/>\n        <path d=\"M 12.40625 8.296875 \nL 28.515625 8.296875 \nL 28.515625 63.921875 \nL 10.984375 60.40625 \nL 10.984375 69.390625 \nL 28.421875 72.90625 \nL 38.28125 72.90625 \nL 38.28125 8.296875 \nL 54.390625 8.296875 \nL 54.390625 0 \nL 12.40625 0 \nz\n\" id=\"DejaVuSans-49\"/>\n        <path d=\"M 19.1875 8.296875 \nL 53.609375 8.296875 \nL 53.609375 0 \nL 7.328125 0 \nL 7.328125 8.296875 \nQ 12.9375 14.109375 22.625 23.890625 \nQ 32.328125 33.6875 34.8125 36.53125 \nQ 39.546875 41.84375 41.421875 45.53125 \nQ 43.3125 49.21875 43.3125 52.78125 \nQ 43.3125 58.59375 39.234375 62.25 \nQ 35.15625 65.921875 28.609375 65.921875 \nQ 23.96875 65.921875 18.8125 64.3125 \nQ 13.671875 62.703125 7.8125 59.421875 \nL 7.8125 69.390625 \nQ 13.765625 71.78125 18.9375 73 \nQ 24.125 74.21875 28.421875 74.21875 \nQ 39.75 74.21875 46.484375 68.546875 \nQ 53.21875 62.890625 53.21875 53.421875 \nQ 53.21875 48.921875 51.53125 44.890625 \nQ 49.859375 40.875 45.40625 35.40625 \nQ 44.1875 33.984375 37.640625 27.21875 \nQ 31.109375 20.453125 19.1875 8.296875 \nz\n\" id=\"DejaVuSans-50\"/>\n       </defs>\n       <use xlink:href=\"#DejaVuSans-8722\"/>\n       <use x=\"83.789062\" xlink:href=\"#DejaVuSans-49\"/>\n       <use x=\"147.412109\" xlink:href=\"#DejaVuSans-50\"/>\n      </g>\n     </g>\n    </g>\n    <g id=\"xtick_2\">\n     <g id=\"line2d_2\">\n      <g>\n       <use style=\"stroke:#000000;stroke-width:0.8;\" x=\"122.817881\" xlink:href=\"#m0e23786955\" y=\"224.64\"/>\n      </g>\n     </g>\n     <g id=\"text_2\">\n      <!-- −10 -->\n      <g transform=\"translate(112.265537 239.238437)scale(0.1 -0.1)\">\n       <defs>\n        <path d=\"M 31.78125 66.40625 \nQ 24.171875 66.40625 20.328125 58.90625 \nQ 16.5 51.421875 16.5 36.375 \nQ 16.5 21.390625 20.328125 13.890625 \nQ 24.171875 6.390625 31.78125 6.390625 \nQ 39.453125 6.390625 43.28125 13.890625 \nQ 47.125 21.390625 47.125 36.375 \nQ 47.125 51.421875 43.28125 58.90625 \nQ 39.453125 66.40625 31.78125 66.40625 \nz\nM 31.78125 74.21875 \nQ 44.046875 74.21875 50.515625 64.515625 \nQ 56.984375 54.828125 56.984375 36.375 \nQ 56.984375 17.96875 50.515625 8.265625 \nQ 44.046875 -1.421875 31.78125 -1.421875 \nQ 19.53125 -1.421875 13.0625 8.265625 \nQ 6.59375 17.96875 6.59375 36.375 \nQ 6.59375 54.828125 13.0625 64.515625 \nQ 19.53125 74.21875 31.78125 74.21875 \nz\n\" id=\"DejaVuSans-48\"/>\n       </defs>\n       <use xlink:href=\"#DejaVuSans-8722\"/>\n       <use x=\"83.789062\" xlink:href=\"#DejaVuSans-49\"/>\n       <use x=\"147.412109\" xlink:href=\"#DejaVuSans-48\"/>\n      </g>\n     </g>\n    </g>\n    <g id=\"xtick_3\">\n     <g id=\"line2d_3\">\n      <g>\n       <use style=\"stroke:#000000;stroke-width:0.8;\" x=\"196.158516\" xlink:href=\"#m0e23786955\" y=\"224.64\"/>\n      </g>\n     </g>\n     <g id=\"text_3\">\n      <!-- −8 -->\n      <g transform=\"translate(188.787422 239.238437)scale(0.1 -0.1)\">\n       <defs>\n        <path d=\"M 31.78125 34.625 \nQ 24.75 34.625 20.71875 30.859375 \nQ 16.703125 27.09375 16.703125 20.515625 \nQ 16.703125 13.921875 20.71875 10.15625 \nQ 24.75 6.390625 31.78125 6.390625 \nQ 38.8125 6.390625 42.859375 10.171875 \nQ 46.921875 13.96875 46.921875 20.515625 \nQ 46.921875 27.09375 42.890625 30.859375 \nQ 38.875 34.625 31.78125 34.625 \nz\nM 21.921875 38.8125 \nQ 15.578125 40.375 12.03125 44.71875 \nQ 8.5 49.078125 8.5 55.328125 \nQ 8.5 64.0625 14.71875 69.140625 \nQ 20.953125 74.21875 31.78125 74.21875 \nQ 42.671875 74.21875 48.875 69.140625 \nQ 55.078125 64.0625 55.078125 55.328125 \nQ 55.078125 49.078125 51.53125 44.71875 \nQ 48 40.375 41.703125 38.8125 \nQ 48.828125 37.15625 52.796875 32.3125 \nQ 56.78125 27.484375 56.78125 20.515625 \nQ 56.78125 9.90625 50.3125 4.234375 \nQ 43.84375 -1.421875 31.78125 -1.421875 \nQ 19.734375 -1.421875 13.25 4.234375 \nQ 6.78125 9.90625 6.78125 20.515625 \nQ 6.78125 27.484375 10.78125 32.3125 \nQ 14.796875 37.15625 21.921875 38.8125 \nz\nM 18.3125 54.390625 \nQ 18.3125 48.734375 21.84375 45.5625 \nQ 25.390625 42.390625 31.78125 42.390625 \nQ 38.140625 42.390625 41.71875 45.5625 \nQ 45.3125 48.734375 45.3125 54.390625 \nQ 45.3125 60.0625 41.71875 63.234375 \nQ 38.140625 66.40625 31.78125 66.40625 \nQ 25.390625 66.40625 21.84375 63.234375 \nQ 18.3125 60.0625 18.3125 54.390625 \nz\n\" id=\"DejaVuSans-56\"/>\n       </defs>\n       <use xlink:href=\"#DejaVuSans-8722\"/>\n       <use x=\"83.789062\" xlink:href=\"#DejaVuSans-56\"/>\n      </g>\n     </g>\n    </g>\n    <g id=\"xtick_4\">\n     <g id=\"line2d_4\">\n      <g>\n       <use style=\"stroke:#000000;stroke-width:0.8;\" x=\"269.499151\" xlink:href=\"#m0e23786955\" y=\"224.64\"/>\n      </g>\n     </g>\n     <g id=\"text_4\">\n      <!-- −6 -->\n      <g transform=\"translate(262.128057 239.238437)scale(0.1 -0.1)\">\n       <defs>\n        <path d=\"M 33.015625 40.375 \nQ 26.375 40.375 22.484375 35.828125 \nQ 18.609375 31.296875 18.609375 23.390625 \nQ 18.609375 15.53125 22.484375 10.953125 \nQ 26.375 6.390625 33.015625 6.390625 \nQ 39.65625 6.390625 43.53125 10.953125 \nQ 47.40625 15.53125 47.40625 23.390625 \nQ 47.40625 31.296875 43.53125 35.828125 \nQ 39.65625 40.375 33.015625 40.375 \nz\nM 52.59375 71.296875 \nL 52.59375 62.3125 \nQ 48.875 64.0625 45.09375 64.984375 \nQ 41.3125 65.921875 37.59375 65.921875 \nQ 27.828125 65.921875 22.671875 59.328125 \nQ 17.53125 52.734375 16.796875 39.40625 \nQ 19.671875 43.65625 24.015625 45.921875 \nQ 28.375 48.1875 33.59375 48.1875 \nQ 44.578125 48.1875 50.953125 41.515625 \nQ 57.328125 34.859375 57.328125 23.390625 \nQ 57.328125 12.15625 50.6875 5.359375 \nQ 44.046875 -1.421875 33.015625 -1.421875 \nQ 20.359375 -1.421875 13.671875 8.265625 \nQ 6.984375 17.96875 6.984375 36.375 \nQ 6.984375 53.65625 15.1875 63.9375 \nQ 23.390625 74.21875 37.203125 74.21875 \nQ 40.921875 74.21875 44.703125 73.484375 \nQ 48.484375 72.75 52.59375 71.296875 \nz\n\" id=\"DejaVuSans-54\"/>\n       </defs>\n       <use xlink:href=\"#DejaVuSans-8722\"/>\n       <use x=\"83.789062\" xlink:href=\"#DejaVuSans-54\"/>\n      </g>\n     </g>\n    </g>\n    <g id=\"xtick_5\">\n     <g id=\"line2d_5\">\n      <g>\n       <use style=\"stroke:#000000;stroke-width:0.8;\" x=\"342.839786\" xlink:href=\"#m0e23786955\" y=\"224.64\"/>\n      </g>\n     </g>\n     <g id=\"text_5\">\n      <!-- −4 -->\n      <g transform=\"translate(335.468693 239.238437)scale(0.1 -0.1)\">\n       <defs>\n        <path d=\"M 37.796875 64.3125 \nL 12.890625 25.390625 \nL 37.796875 25.390625 \nz\nM 35.203125 72.90625 \nL 47.609375 72.90625 \nL 47.609375 25.390625 \nL 58.015625 25.390625 \nL 58.015625 17.1875 \nL 47.609375 17.1875 \nL 47.609375 0 \nL 37.796875 0 \nL 37.796875 17.1875 \nL 4.890625 17.1875 \nL 4.890625 26.703125 \nz\n\" id=\"DejaVuSans-52\"/>\n       </defs>\n       <use xlink:href=\"#DejaVuSans-8722\"/>\n       <use x=\"83.789062\" xlink:href=\"#DejaVuSans-52\"/>\n      </g>\n     </g>\n    </g>\n   </g>\n   <g id=\"matplotlib.axis_2\">\n    <g id=\"ytick_1\">\n     <g id=\"line2d_6\">\n      <defs>\n       <path d=\"M 0 0 \nL -3.5 0 \n\" id=\"m95321629ac\" style=\"stroke:#000000;stroke-width:0.8;\"/>\n      </defs>\n      <g>\n       <use style=\"stroke:#000000;stroke-width:0.8;\" x=\"26.925\" xlink:href=\"#m95321629ac\" y=\"224.64\"/>\n      </g>\n     </g>\n     <g id=\"text_6\">\n      <!-- 0 -->\n      <g transform=\"translate(13.5625 228.439219)scale(0.1 -0.1)\">\n       <use xlink:href=\"#DejaVuSans-48\"/>\n      </g>\n     </g>\n    </g>\n    <g id=\"ytick_2\">\n     <g id=\"line2d_7\">\n      <g>\n       <use style=\"stroke:#000000;stroke-width:0.8;\" x=\"26.925\" xlink:href=\"#m95321629ac\" y=\"200.276975\"/>\n      </g>\n     </g>\n     <g id=\"text_7\">\n      <!-- 2 -->\n      <g transform=\"translate(13.5625 204.076194)scale(0.1 -0.1)\">\n       <use xlink:href=\"#DejaVuSans-50\"/>\n      </g>\n     </g>\n    </g>\n    <g id=\"ytick_3\">\n     <g id=\"line2d_8\">\n      <g>\n       <use style=\"stroke:#000000;stroke-width:0.8;\" x=\"26.925\" xlink:href=\"#m95321629ac\" y=\"175.91395\"/>\n      </g>\n     </g>\n     <g id=\"text_8\">\n      <!-- 4 -->\n      <g transform=\"translate(13.5625 179.713168)scale(0.1 -0.1)\">\n       <use xlink:href=\"#DejaVuSans-52\"/>\n      </g>\n     </g>\n    </g>\n    <g id=\"ytick_4\">\n     <g id=\"line2d_9\">\n      <g>\n       <use style=\"stroke:#000000;stroke-width:0.8;\" x=\"26.925\" xlink:href=\"#m95321629ac\" y=\"151.550924\"/>\n      </g>\n     </g>\n     <g id=\"text_9\">\n      <!-- 6 -->\n      <g transform=\"translate(13.5625 155.350143)scale(0.1 -0.1)\">\n       <use xlink:href=\"#DejaVuSans-54\"/>\n      </g>\n     </g>\n    </g>\n    <g id=\"ytick_5\">\n     <g id=\"line2d_10\">\n      <g>\n       <use style=\"stroke:#000000;stroke-width:0.8;\" x=\"26.925\" xlink:href=\"#m95321629ac\" y=\"127.187899\"/>\n      </g>\n     </g>\n     <g id=\"text_10\">\n      <!-- 8 -->\n      <g transform=\"translate(13.5625 130.987118)scale(0.1 -0.1)\">\n       <use xlink:href=\"#DejaVuSans-56\"/>\n      </g>\n     </g>\n    </g>\n    <g id=\"ytick_6\">\n     <g id=\"line2d_11\">\n      <g>\n       <use style=\"stroke:#000000;stroke-width:0.8;\" x=\"26.925\" xlink:href=\"#m95321629ac\" y=\"102.824874\"/>\n      </g>\n     </g>\n     <g id=\"text_11\">\n      <!-- 10 -->\n      <g transform=\"translate(7.2 106.624093)scale(0.1 -0.1)\">\n       <use xlink:href=\"#DejaVuSans-49\"/>\n       <use x=\"63.623047\" xlink:href=\"#DejaVuSans-48\"/>\n      </g>\n     </g>\n    </g>\n    <g id=\"ytick_7\">\n     <g id=\"line2d_12\">\n      <g>\n       <use style=\"stroke:#000000;stroke-width:0.8;\" x=\"26.925\" xlink:href=\"#m95321629ac\" y=\"78.461849\"/>\n      </g>\n     </g>\n     <g id=\"text_12\">\n      <!-- 12 -->\n      <g transform=\"translate(7.2 82.261067)scale(0.1 -0.1)\">\n       <use xlink:href=\"#DejaVuSans-49\"/>\n       <use x=\"63.623047\" xlink:href=\"#DejaVuSans-50\"/>\n      </g>\n     </g>\n    </g>\n    <g id=\"ytick_8\">\n     <g id=\"line2d_13\">\n      <g>\n       <use style=\"stroke:#000000;stroke-width:0.8;\" x=\"26.925\" xlink:href=\"#m95321629ac\" y=\"54.098824\"/>\n      </g>\n     </g>\n     <g id=\"text_13\">\n      <!-- 14 -->\n      <g transform=\"translate(7.2 57.898042)scale(0.1 -0.1)\">\n       <use xlink:href=\"#DejaVuSans-49\"/>\n       <use x=\"63.623047\" xlink:href=\"#DejaVuSans-52\"/>\n      </g>\n     </g>\n    </g>\n    <g id=\"ytick_9\">\n     <g id=\"line2d_14\">\n      <g>\n       <use style=\"stroke:#000000;stroke-width:0.8;\" x=\"26.925\" xlink:href=\"#m95321629ac\" y=\"29.735798\"/>\n      </g>\n     </g>\n     <g id=\"text_14\">\n      <!-- 16 -->\n      <g transform=\"translate(7.2 33.535017)scale(0.1 -0.1)\">\n       <use xlink:href=\"#DejaVuSans-49\"/>\n       <use x=\"63.623047\" xlink:href=\"#DejaVuSans-54\"/>\n      </g>\n     </g>\n    </g>\n   </g>\n   <g id=\"patch_3\">\n    <path clip-path=\"url(#paae2642850)\" d=\"M 42.143182 224.64 \nL 42.143182 212.458487 \nL 57.361364 212.458487 \nL 57.361364 224.64 \nL 72.579545 224.64 \nL 72.579545 224.64 \nL 87.797727 224.64 \nL 87.797727 212.458487 \nL 103.015909 212.458487 \nL 103.015909 212.458487 \nL 118.234091 212.458487 \nL 118.234091 200.276975 \nL 133.452273 200.276975 \nL 133.452273 78.461849 \nL 148.670455 78.461849 \nL 148.670455 115.006387 \nL 163.888636 115.006387 \nL 163.888636 17.554286 \nL 179.106818 17.554286 \nL 179.106818 29.735798 \nL 194.325 29.735798 \nL 194.325 66.280336 \nL 209.543182 66.280336 \nL 209.543182 115.006387 \nL 224.761364 115.006387 \nL 224.761364 200.276975 \nL 239.979545 200.276975 \nL 239.979545 163.732437 \nL 255.197727 163.732437 \nL 255.197727 200.276975 \nL 270.415909 200.276975 \nL 270.415909 175.91395 \nL 285.634091 175.91395 \nL 285.634091 200.276975 \nL 300.852273 200.276975 \nL 300.852273 224.64 \nL 316.070455 224.64 \nL 316.070455 212.458487 \nL 331.288636 212.458487 \nL 331.288636 200.276975 \nL 346.506818 200.276975 \nL 346.506818 224.64 \n\" style=\"fill:none;stroke:#1f77b4;stroke-linejoin:miter;\"/>\n   </g>\n   <g id=\"patch_4\">\n    <path d=\"M 26.925 224.64 \nL 26.925 7.2 \n\" style=\"fill:none;stroke:#000000;stroke-linecap:square;stroke-linejoin:miter;stroke-width:0.8;\"/>\n   </g>\n   <g id=\"patch_5\">\n    <path d=\"M 361.725 224.64 \nL 361.725 7.2 \n\" style=\"fill:none;stroke:#000000;stroke-linecap:square;stroke-linejoin:miter;stroke-width:0.8;\"/>\n   </g>\n   <g id=\"patch_6\">\n    <path d=\"M 26.925 224.64 \nL 361.725 224.64 \n\" style=\"fill:none;stroke:#000000;stroke-linecap:square;stroke-linejoin:miter;stroke-width:0.8;\"/>\n   </g>\n   <g id=\"patch_7\">\n    <path d=\"M 26.925 7.2 \nL 361.725 7.2 \n\" style=\"fill:none;stroke:#000000;stroke-linecap:square;stroke-linejoin:miter;stroke-width:0.8;\"/>\n   </g>\n  </g>\n </g>\n <defs>\n  <clipPath id=\"paae2642850\">\n   <rect height=\"217.44\" width=\"334.8\" x=\"26.925\" y=\"7.2\"/>\n  </clipPath>\n </defs>\n</svg>\n",
      "image/png": "[encoded data removed]"
     },
     "metadata": {
      "needs_background": "light"
     }
    }
   ],
   "source": [
    "plt.hist(logs_df[\"affin_kcal_mol-1_1\"], bins=20, histtype=\"step\", label=\"bm_1\")\n",
    "plt.hist(logs_df[\"affin_kcal_mol-1_2\"], bins=20, histtype=\"step\", label=\"bm_1\")\n",
    "plt.hist(logs_df[\"affin_kcal_mol-1_3\"], bins=20, histtype=\"step\", label=\"bm_1\")\n",
    "plt.hist(logs_df[\"affin_kcal_mol-1_4\"], bins=20, histtype=\"step\", label=\"bm_1\")\n",
    "plt.hist(logs_df[\"affin_kcal_mol-1_5\"], bins=20, histtype=\"step\", label=\"bm_1\")\n",
    "\n",
    "plt.show()"
   ]
  },
  {
   "cell_type": "code",
   "execution_count": 227,
   "metadata": {},
   "outputs": [
    {
     "output_type": "execute_result",
     "data": {
      "text/plain": [
       "99"
      ]
     },
     "metadata": {},
     "execution_count": 227
    }
   ],
   "source": [
    "len(logs_df)"
   ]
  },
  {
   "cell_type": "code",
   "execution_count": null,
   "metadata": {},
   "outputs": [],
   "source": []
  }
 ],
 "metadata": {
  "kernelspec": {
   "display_name": "Python 3",
   "language": "python",
   "name": "python3"
  },
  "language_info": {
   "codemirror_mode": {
    "name": "ipython",
    "version": 3
   },
   "file_extension": ".py",
   "mimetype": "text/x-python",
   "name": "python",
   "nbconvert_exporter": "python",
   "pygments_lexer": "ipython3",
   "version": "3.6.12-final"
  }
 },
 "nbformat": 4,
 "nbformat_minor": 4
}