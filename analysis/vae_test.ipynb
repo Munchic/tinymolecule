{
 "cells": [
  {
   "cell_type": "code",
   "execution_count": 1,
   "metadata": {},
   "outputs": [],
   "source": [
    "%load_ext autoreload\n",
    "%autoreload 2"
   ]
  },
  {
   "cell_type": "code",
   "execution_count": 1,
   "metadata": {},
   "outputs": [],
   "source": [
    "import os\n",
    "import sys\n",
    "sys.path.append(\"..\")  # add top folder to path\n",
    "\n",
    "import torch\n",
    "import torch.optim as optim\n",
    "import torch.nn as nn\n",
    "import torch.nn.functional as F\n",
    "import pandas as pd\n",
    "import moses\n",
    "import gentrl\n",
    "\n",
    "import tinymolecule as tiny"
   ]
  },
  {
   "cell_type": "markdown",
   "metadata": {},
   "source": [
    "## Initializing the encoder multilayer perceptron (MLP) and decoder MLP to form the variational autoencoder\n",
    "We note that the latent size for decoder is twice as small because we're drawing a sample from a distribution, whereas for the encoder, we get two values: mean and log variance. The MLPs are relatively small neural networks, by default there are two hidden layers, each with 100 neurons, and output layer (latent space) is 10 neurons. The decoder shares a similar structure but in reverse: the input from latent space is 5 neurons, with two hidden layers of 100 neurons."
   ]
  },
  {
   "cell_type": "code",
   "execution_count": 2,
   "metadata": {},
   "outputs": [],
   "source": [
    "enc = tiny.LinearEncoder(num_hidden_layers=2, latent_size=10)  # mu and sigma\n",
    "dec = tiny.LinearDecoder(num_hidden_layers=2, latent_size=5)  # a single sample\n",
    "vae = tiny.TinyVAE(enc, dec)"
   ]
  },
  {
   "cell_type": "code",
   "execution_count": 3,
   "metadata": {},
   "outputs": [
    {
     "output_type": "execute_result",
     "data": {
      "text/plain": [
       "TinyVAE(\n",
       "  (encoder): LinearEncoder(\n",
       "    (layers): ModuleList(\n",
       "      (0): Linear(in_features=50, out_features=100, bias=True)\n",
       "      (1): Linear(in_features=100, out_features=100, bias=True)\n",
       "      (2): Linear(in_features=100, out_features=100, bias=True)\n",
       "      (3): Linear(in_features=100, out_features=10, bias=True)\n",
       "    )\n",
       "    (dropout): ModuleList(\n",
       "      (0): Dropout(p=0.85, inplace=False)\n",
       "      (1): Dropout(p=0.85, inplace=False)\n",
       "      (2): Dropout(p=0.85, inplace=False)\n",
       "    )\n",
       "  )\n",
       "  (decoder): LinearDecoder(\n",
       "    (layers): ModuleList(\n",
       "      (0): Linear(in_features=5, out_features=100, bias=True)\n",
       "      (1): Linear(in_features=100, out_features=100, bias=True)\n",
       "      (2): Linear(in_features=100, out_features=100, bias=True)\n",
       "      (3): Linear(in_features=100, out_features=50, bias=True)\n",
       "    )\n",
       "    (dropout): ModuleList(\n",
       "      (0): Dropout(p=0.85, inplace=False)\n",
       "      (1): Dropout(p=0.85, inplace=False)\n",
       "      (2): Dropout(p=0.85, inplace=False)\n",
       "    )\n",
       "  )\n",
       ")"
      ]
     },
     "metadata": {},
     "execution_count": 3
    }
   ],
   "source": [
    "vae"
   ]
  },
  {
   "cell_type": "markdown",
   "metadata": {},
   "source": [
    "## Loading in assay data on CCR4\n",
    "In the future, we will filter this data based on an IC50 threshold to pick out only relevant molecules."
   ]
  },
  {
   "cell_type": "code",
   "execution_count": 61,
   "metadata": {},
   "outputs": [
    {
     "output_type": "execute_result",
     "data": {
      "text/plain": [
       "  activity_comment  activity_id activity_properties assay_chembl_id  \\\n",
       "0              NaN        31863                  []    CHEMBL663853   \n",
       "1              NaN        31864                  []    CHEMBL872937   \n",
       "2              NaN        31865                  []    CHEMBL693237   \n",
       "3              NaN        31866                  []    CHEMBL872937   \n",
       "4   Not Determined        31867                  []    CHEMBL693238   \n",
       "\n",
       "                                   assay_description assay_type bao_endpoint  \\\n",
       "0  Inhibitory concentration against human DNA top...          B  BAO_0000190   \n",
       "1  In vivo inhibitory activity against human Hepa...          B  BAO_0000190   \n",
       "2  In vivo concentration required against angioge...          F  BAO_0000190   \n",
       "3  In vivo inhibitory activity against human Hepa...          B  BAO_0000190   \n",
       "4  In vivo concentration required against angioge...          F  BAO_0000190   \n",
       "\n",
       "    bao_format              bao_label  \\\n",
       "0  BAO_0000357  single protein format   \n",
       "1  BAO_0000218  organism-based format   \n",
       "2  BAO_0000218  organism-based format   \n",
       "3  BAO_0000218  organism-based format   \n",
       "4  BAO_0000218  organism-based format   \n",
       "\n",
       "                                    canonical_smiles  ... target_organism  \\\n",
       "0           c1ccc(-c2nc3c(-c4nc5ccccc5o4)cccc3o2)cc1  ...    Homo sapiens   \n",
       "1  Cc1ccc2oc(-c3cccc(N4C(=O)c5ccc(C(=O)O)cc5C4=O)...  ...    Homo sapiens   \n",
       "2  Cc1ccc2oc(-c3cccc(N4C(=O)c5ccc(C(=O)O)cc5C4=O)...  ...             NaN   \n",
       "3  COc1ccccc1-c1ccc2oc(-c3ccc(OC)c(N4C(=O)c5ccc(C...  ...    Homo sapiens   \n",
       "4  COc1ccccc1-c1ccc2oc(-c3ccc(OC)c(N4C(=O)c5ccc(C...  ...             NaN   \n",
       "\n",
       "             target_pref_name target_tax_id text_value  toid  type units  \\\n",
       "0  DNA topoisomerase II alpha        9606.0        NaN   NaN  IC50    uM   \n",
       "1                  Heparanase        9606.0        NaN   NaN  IC50    uM   \n",
       "2          NON-PROTEIN TARGET           NaN        NaN   NaN  IC50    uM   \n",
       "3                  Heparanase        9606.0        NaN   NaN  IC50    uM   \n",
       "4          NON-PROTEIN TARGET           NaN        NaN   NaN  IC50    uM   \n",
       "\n",
       "     uo_units upper_value  value  \n",
       "0  UO_0000065         NaN  100.0  \n",
       "1  UO_0000065         NaN    2.5  \n",
       "2  UO_0000065         NaN   50.0  \n",
       "3  UO_0000065         NaN    9.0  \n",
       "4         NaN         NaN    NaN  \n",
       "\n",
       "[5 rows x 43 columns]"
      ],
      "text/html": "<div>\n<style scoped>\n    .dataframe tbody tr th:only-of-type {\n        vertical-align: middle;\n    }\n\n    .dataframe tbody tr th {\n        vertical-align: top;\n    }\n\n    .dataframe thead th {\n        text-align: right;\n    }\n</style>\n<table border=\"1\" class=\"dataframe\">\n  <thead>\n    <tr style=\"text-align: right;\">\n      <th></th>\n      <th>activity_comment</th>\n      <th>activity_id</th>\n      <th>activity_properties</th>\n      <th>assay_chembl_id</th>\n      <th>assay_description</th>\n      <th>assay_type</th>\n      <th>bao_endpoint</th>\n      <th>bao_format</th>\n      <th>bao_label</th>\n      <th>canonical_smiles</th>\n      <th>...</th>\n      <th>target_organism</th>\n      <th>target_pref_name</th>\n      <th>target_tax_id</th>\n      <th>text_value</th>\n      <th>toid</th>\n      <th>type</th>\n      <th>units</th>\n      <th>uo_units</th>\n      <th>upper_value</th>\n      <th>value</th>\n    </tr>\n  </thead>\n  <tbody>\n    <tr>\n      <th>0</th>\n      <td>NaN</td>\n      <td>31863</td>\n      <td>[]</td>\n      <td>CHEMBL663853</td>\n      <td>Inhibitory concentration against human DNA top...</td>\n      <td>B</td>\n      <td>BAO_0000190</td>\n      <td>BAO_0000357</td>\n      <td>single protein format</td>\n      <td>c1ccc(-c2nc3c(-c4nc5ccccc5o4)cccc3o2)cc1</td>\n      <td>...</td>\n      <td>Homo sapiens</td>\n      <td>DNA topoisomerase II alpha</td>\n      <td>9606.0</td>\n      <td>NaN</td>\n      <td>NaN</td>\n      <td>IC50</td>\n      <td>uM</td>\n      <td>UO_0000065</td>\n      <td>NaN</td>\n      <td>100.0</td>\n    </tr>\n    <tr>\n      <th>1</th>\n      <td>NaN</td>\n      <td>31864</td>\n      <td>[]</td>\n      <td>CHEMBL872937</td>\n      <td>In vivo inhibitory activity against human Hepa...</td>\n      <td>B</td>\n      <td>BAO_0000190</td>\n      <td>BAO_0000218</td>\n      <td>organism-based format</td>\n      <td>Cc1ccc2oc(-c3cccc(N4C(=O)c5ccc(C(=O)O)cc5C4=O)...</td>\n      <td>...</td>\n      <td>Homo sapiens</td>\n      <td>Heparanase</td>\n      <td>9606.0</td>\n      <td>NaN</td>\n      <td>NaN</td>\n      <td>IC50</td>\n      <td>uM</td>\n      <td>UO_0000065</td>\n      <td>NaN</td>\n      <td>2.5</td>\n    </tr>\n    <tr>\n      <th>2</th>\n      <td>NaN</td>\n      <td>31865</td>\n      <td>[]</td>\n      <td>CHEMBL693237</td>\n      <td>In vivo concentration required against angioge...</td>\n      <td>F</td>\n      <td>BAO_0000190</td>\n      <td>BAO_0000218</td>\n      <td>organism-based format</td>\n      <td>Cc1ccc2oc(-c3cccc(N4C(=O)c5ccc(C(=O)O)cc5C4=O)...</td>\n      <td>...</td>\n      <td>NaN</td>\n      <td>NON-PROTEIN TARGET</td>\n      <td>NaN</td>\n      <td>NaN</td>\n      <td>NaN</td>\n      <td>IC50</td>\n      <td>uM</td>\n      <td>UO_0000065</td>\n      <td>NaN</td>\n      <td>50.0</td>\n    </tr>\n    <tr>\n      <th>3</th>\n      <td>NaN</td>\n      <td>31866</td>\n      <td>[]</td>\n      <td>CHEMBL872937</td>\n      <td>In vivo inhibitory activity against human Hepa...</td>\n      <td>B</td>\n      <td>BAO_0000190</td>\n      <td>BAO_0000218</td>\n      <td>organism-based format</td>\n      <td>COc1ccccc1-c1ccc2oc(-c3ccc(OC)c(N4C(=O)c5ccc(C...</td>\n      <td>...</td>\n      <td>Homo sapiens</td>\n      <td>Heparanase</td>\n      <td>9606.0</td>\n      <td>NaN</td>\n      <td>NaN</td>\n      <td>IC50</td>\n      <td>uM</td>\n      <td>UO_0000065</td>\n      <td>NaN</td>\n      <td>9.0</td>\n    </tr>\n    <tr>\n      <th>4</th>\n      <td>Not Determined</td>\n      <td>31867</td>\n      <td>[]</td>\n      <td>CHEMBL693238</td>\n      <td>In vivo concentration required against angioge...</td>\n      <td>F</td>\n      <td>BAO_0000190</td>\n      <td>BAO_0000218</td>\n      <td>organism-based format</td>\n      <td>COc1ccccc1-c1ccc2oc(-c3ccc(OC)c(N4C(=O)c5ccc(C...</td>\n      <td>...</td>\n      <td>NaN</td>\n      <td>NON-PROTEIN TARGET</td>\n      <td>NaN</td>\n      <td>NaN</td>\n      <td>NaN</td>\n      <td>IC50</td>\n      <td>uM</td>\n      <td>NaN</td>\n      <td>NaN</td>\n      <td>NaN</td>\n    </tr>\n  </tbody>\n</table>\n<p>5 rows × 43 columns</p>\n</div>"
     },
     "metadata": {},
     "execution_count": 61
    }
   ],
   "source": [
    "data_dir = \"/Users/Munchic/Developer/Capstone/tinymolecule/data/ccr4_ic50_meta.csv\"\n",
    "assays = pd.read_csv(data_dir)\n",
    "assays.head()"
   ]
  },
  {
   "cell_type": "code",
   "execution_count": 64,
   "metadata": {},
   "outputs": [
    {
     "output_type": "execute_result",
     "data": {
      "text/plain": [
       "Index(['activity_comment', 'activity_id', 'activity_properties',\n",
       "       'assay_chembl_id', 'assay_description', 'assay_type', 'bao_endpoint',\n",
       "       'bao_format', 'bao_label', 'canonical_smiles', 'data_validity_comment',\n",
       "       'data_validity_description', 'document_chembl_id', 'document_journal',\n",
       "       'document_year', 'ligand_efficiency', 'molecule_chembl_id',\n",
       "       'molecule_pref_name', 'parent_molecule_chembl_id', 'pchembl_value',\n",
       "       'potential_duplicate', 'qudt_units', 'record_id', 'relation', 'src_id',\n",
       "       'standard_flag', 'standard_relation', 'standard_text_value',\n",
       "       'standard_type', 'standard_units', 'standard_upper_value',\n",
       "       'standard_value', 'target_chembl_id', 'target_organism',\n",
       "       'target_pref_name', 'target_tax_id', 'text_value', 'toid', 'type',\n",
       "       'units', 'uo_units', 'upper_value', 'value'],\n",
       "      dtype='object')"
      ]
     },
     "metadata": {},
     "execution_count": 64
    }
   ],
   "source": [
    "assays.columns"
   ]
  },
  {
   "cell_type": "code",
   "execution_count": 84,
   "metadata": {},
   "outputs": [],
   "source": [
    "ic50_data = assays[assays[\"type\"] == \"IC50\"]\n",
    "ic50_nM_data = ic50_data[ic50_data[\"standard_units\"] == \"nM\"]\n",
    "ic50_nM_data.to_csv(\"../data/ccr4_ic50.csv\")"
   ]
  },
  {
   "cell_type": "code",
   "execution_count": 179,
   "metadata": {},
   "outputs": [
    {
     "output_type": "execute_result",
     "data": {
      "text/plain": [
       "5831"
      ]
     },
     "metadata": {},
     "execution_count": 179
    }
   ],
   "source": [
    "a = pd.read_csv(\"/Users/Munchic/Developer/Capstone/tinymolecule/data/ccr4_ic50_train.csv\", usecols=['SMILES'], squeeze=True).astype(str).tolist()\n",
    "len(a)"
   ]
  },
  {
   "cell_type": "code",
   "execution_count": 182,
   "metadata": {},
   "outputs": [
    {
     "output_type": "execute_result",
     "data": {
      "text/plain": [
       "{'#': 0,\n",
       " '(': 1,\n",
       " ')': 2,\n",
       " '+': 3,\n",
       " '-': 4,\n",
       " '.': 5,\n",
       " '/': 6,\n",
       " '1': 7,\n",
       " '2': 8,\n",
       " '3': 9,\n",
       " '4': 10,\n",
       " '5': 11,\n",
       " '6': 12,\n",
       " '7': 13,\n",
       " '8': 14,\n",
       " '=': 15,\n",
       " '@': 16,\n",
       " 'B': 17,\n",
       " 'C': 18,\n",
       " 'F': 19,\n",
       " 'H': 20,\n",
       " 'I': 21,\n",
       " 'K': 22,\n",
       " 'N': 23,\n",
       " 'O': 24,\n",
       " 'P': 25,\n",
       " 'S': 26,\n",
       " '[': 27,\n",
       " '\\\\': 28,\n",
       " ']': 29,\n",
       " 'a': 30,\n",
       " 'c': 31,\n",
       " 'i': 32,\n",
       " 'l': 33,\n",
       " 'n': 34,\n",
       " 'o': 35,\n",
       " 'r': 36,\n",
       " 's': 37,\n",
       " '<bos>': 38,\n",
       " '<eos>': 39,\n",
       " '<pad>': 40,\n",
       " '<unk>': 41}"
      ]
     },
     "metadata": {},
     "execution_count": 182
    }
   ],
   "source": [
    "vocab.c2i"
   ]
  },
  {
   "cell_type": "code",
   "execution_count": 174,
   "metadata": {},
   "outputs": [
    {
     "output_type": "execute_result",
     "data": {
      "text/plain": [
       "      Unnamed: 0  activity_comment  activity_id activity_properties  \\\n",
       "0              0               NaN        31863                  []   \n",
       "1              1               NaN        31864                  []   \n",
       "2              2               NaN        31865                  []   \n",
       "3              3               NaN        31866                  []   \n",
       "4              5               NaN        31868                  []   \n",
       "...          ...               ...          ...                 ...   \n",
       "5899       28602               NaN        60465                  []   \n",
       "5900       28635               NaN        60498                  []   \n",
       "5901       28636               NaN        60499                  []   \n",
       "5902       28639               NaN        60502                  []   \n",
       "5903       28640               NaN        60503                  []   \n",
       "\n",
       "     assay_chembl_id                                  assay_description  \\\n",
       "0       CHEMBL663853  Inhibitory concentration against human DNA top...   \n",
       "1       CHEMBL872937  In vivo inhibitory activity against human Hepa...   \n",
       "2       CHEMBL693237  In vivo concentration required against angioge...   \n",
       "3       CHEMBL872937  In vivo inhibitory activity against human Hepa...   \n",
       "4       CHEMBL760688  Inhibitory activity against Palmitoyl-CoA oxid...   \n",
       "...              ...                                                ...   \n",
       "5899    CHEMBL755012  Activity against opioid receptor in guinea pig...   \n",
       "5900    CHEMBL747657  Binding affinity towards Muscarinic acetylchol...   \n",
       "5901    CHEMBL744022  Binding affinity towards muscarinic receptor o...   \n",
       "5902    CHEMBL651151  Concentration required for 50% inhibition of b...   \n",
       "5903    CHEMBL651151  Concentration required for 50% inhibition of b...   \n",
       "\n",
       "     assay_type bao_endpoint   bao_format              bao_label  ...  \\\n",
       "0             B  BAO_0000190  BAO_0000357  single protein format  ...   \n",
       "1             B  BAO_0000190  BAO_0000218  organism-based format  ...   \n",
       "2             F  BAO_0000190  BAO_0000218  organism-based format  ...   \n",
       "3             B  BAO_0000190  BAO_0000218  organism-based format  ...   \n",
       "4             B  BAO_0000190  BAO_0000357  single protein format  ...   \n",
       "...         ...          ...          ...                    ...  ...   \n",
       "5899          F  BAO_0000190  BAO_0000221    tissue-based format  ...   \n",
       "5900          B  BAO_0000190  BAO_0000221    tissue-based format  ...   \n",
       "5901          B  BAO_0000190  BAO_0000221    tissue-based format  ...   \n",
       "5902          B  BAO_0000190  BAO_0000221    tissue-based format  ...   \n",
       "5903          B  BAO_0000190  BAO_0000221    tissue-based format  ...   \n",
       "\n",
       "        target_organism                      target_pref_name target_tax_id  \\\n",
       "0          Homo sapiens            DNA topoisomerase II alpha        9606.0   \n",
       "1          Homo sapiens                            Heparanase        9606.0   \n",
       "2                   NaN                    NON-PROTEIN TARGET           NaN   \n",
       "3          Homo sapiens                            Heparanase        9606.0   \n",
       "4     Rattus norvegicus                 Palmitoyl-CoA oxidase       10116.0   \n",
       "...                 ...                                   ...           ...   \n",
       "5899       Homo sapiens          Opioid receptors; mu & kappa        9606.0   \n",
       "5900  Rattus norvegicus  Muscarinic acetylcholine receptor M1       10116.0   \n",
       "5901  Rattus norvegicus  Muscarinic acetylcholine receptor M2       10116.0   \n",
       "5902  Rattus norvegicus               Angiotensin II receptor       10116.0   \n",
       "5903  Rattus norvegicus               Angiotensin II receptor       10116.0   \n",
       "\n",
       "     text_value toid  type units    uo_units upper_value  value  \n",
       "0           NaN  NaN  IC50    uM  UO_0000065         NaN  100.0  \n",
       "1           NaN  NaN  IC50    uM  UO_0000065         NaN    2.5  \n",
       "2           NaN  NaN  IC50    uM  UO_0000065         NaN   50.0  \n",
       "3           NaN  NaN  IC50    uM  UO_0000065         NaN    9.0  \n",
       "4           NaN  NaN  IC50    uM  UO_0000065         NaN    4.0  \n",
       "...         ...  ...   ...   ...         ...         ...    ...  \n",
       "5899        NaN  NaN  IC50    nM  UO_0000065         NaN    6.3  \n",
       "5900        NaN  NaN  IC50    nM  UO_0000065         NaN   23.0  \n",
       "5901        NaN  NaN  IC50    nM  UO_0000065         NaN  100.0  \n",
       "5902        NaN  NaN  IC50    uM  UO_0000065         NaN   27.0  \n",
       "5903        NaN  NaN  IC50    uM  UO_0000065         NaN    3.7  \n",
       "\n",
       "[5904 rows x 44 columns]"
      ],
      "text/html": "<div>\n<style scoped>\n    .dataframe tbody tr th:only-of-type {\n        vertical-align: middle;\n    }\n\n    .dataframe tbody tr th {\n        vertical-align: top;\n    }\n\n    .dataframe thead th {\n        text-align: right;\n    }\n</style>\n<table border=\"1\" class=\"dataframe\">\n  <thead>\n    <tr style=\"text-align: right;\">\n      <th></th>\n      <th>Unnamed: 0</th>\n      <th>activity_comment</th>\n      <th>activity_id</th>\n      <th>activity_properties</th>\n      <th>assay_chembl_id</th>\n      <th>assay_description</th>\n      <th>assay_type</th>\n      <th>bao_endpoint</th>\n      <th>bao_format</th>\n      <th>bao_label</th>\n      <th>...</th>\n      <th>target_organism</th>\n      <th>target_pref_name</th>\n      <th>target_tax_id</th>\n      <th>text_value</th>\n      <th>toid</th>\n      <th>type</th>\n      <th>units</th>\n      <th>uo_units</th>\n      <th>upper_value</th>\n      <th>value</th>\n    </tr>\n  </thead>\n  <tbody>\n    <tr>\n      <th>0</th>\n      <td>0</td>\n      <td>NaN</td>\n      <td>31863</td>\n      <td>[]</td>\n      <td>CHEMBL663853</td>\n      <td>Inhibitory concentration against human DNA top...</td>\n      <td>B</td>\n      <td>BAO_0000190</td>\n      <td>BAO_0000357</td>\n      <td>single protein format</td>\n      <td>...</td>\n      <td>Homo sapiens</td>\n      <td>DNA topoisomerase II alpha</td>\n      <td>9606.0</td>\n      <td>NaN</td>\n      <td>NaN</td>\n      <td>IC50</td>\n      <td>uM</td>\n      <td>UO_0000065</td>\n      <td>NaN</td>\n      <td>100.0</td>\n    </tr>\n    <tr>\n      <th>1</th>\n      <td>1</td>\n      <td>NaN</td>\n      <td>31864</td>\n      <td>[]</td>\n      <td>CHEMBL872937</td>\n      <td>In vivo inhibitory activity against human Hepa...</td>\n      <td>B</td>\n      <td>BAO_0000190</td>\n      <td>BAO_0000218</td>\n      <td>organism-based format</td>\n      <td>...</td>\n      <td>Homo sapiens</td>\n      <td>Heparanase</td>\n      <td>9606.0</td>\n      <td>NaN</td>\n      <td>NaN</td>\n      <td>IC50</td>\n      <td>uM</td>\n      <td>UO_0000065</td>\n      <td>NaN</td>\n      <td>2.5</td>\n    </tr>\n    <tr>\n      <th>2</th>\n      <td>2</td>\n      <td>NaN</td>\n      <td>31865</td>\n      <td>[]</td>\n      <td>CHEMBL693237</td>\n      <td>In vivo concentration required against angioge...</td>\n      <td>F</td>\n      <td>BAO_0000190</td>\n      <td>BAO_0000218</td>\n      <td>organism-based format</td>\n      <td>...</td>\n      <td>NaN</td>\n      <td>NON-PROTEIN TARGET</td>\n      <td>NaN</td>\n      <td>NaN</td>\n      <td>NaN</td>\n      <td>IC50</td>\n      <td>uM</td>\n      <td>UO_0000065</td>\n      <td>NaN</td>\n      <td>50.0</td>\n    </tr>\n    <tr>\n      <th>3</th>\n      <td>3</td>\n      <td>NaN</td>\n      <td>31866</td>\n      <td>[]</td>\n      <td>CHEMBL872937</td>\n      <td>In vivo inhibitory activity against human Hepa...</td>\n      <td>B</td>\n      <td>BAO_0000190</td>\n      <td>BAO_0000218</td>\n      <td>organism-based format</td>\n      <td>...</td>\n      <td>Homo sapiens</td>\n      <td>Heparanase</td>\n      <td>9606.0</td>\n      <td>NaN</td>\n      <td>NaN</td>\n      <td>IC50</td>\n      <td>uM</td>\n      <td>UO_0000065</td>\n      <td>NaN</td>\n      <td>9.0</td>\n    </tr>\n    <tr>\n      <th>4</th>\n      <td>5</td>\n      <td>NaN</td>\n      <td>31868</td>\n      <td>[]</td>\n      <td>CHEMBL760688</td>\n      <td>Inhibitory activity against Palmitoyl-CoA oxid...</td>\n      <td>B</td>\n      <td>BAO_0000190</td>\n      <td>BAO_0000357</td>\n      <td>single protein format</td>\n      <td>...</td>\n      <td>Rattus norvegicus</td>\n      <td>Palmitoyl-CoA oxidase</td>\n      <td>10116.0</td>\n      <td>NaN</td>\n      <td>NaN</td>\n      <td>IC50</td>\n      <td>uM</td>\n      <td>UO_0000065</td>\n      <td>NaN</td>\n      <td>4.0</td>\n    </tr>\n    <tr>\n      <th>...</th>\n      <td>...</td>\n      <td>...</td>\n      <td>...</td>\n      <td>...</td>\n      <td>...</td>\n      <td>...</td>\n      <td>...</td>\n      <td>...</td>\n      <td>...</td>\n      <td>...</td>\n      <td>...</td>\n      <td>...</td>\n      <td>...</td>\n      <td>...</td>\n      <td>...</td>\n      <td>...</td>\n      <td>...</td>\n      <td>...</td>\n      <td>...</td>\n      <td>...</td>\n      <td>...</td>\n    </tr>\n    <tr>\n      <th>5899</th>\n      <td>28602</td>\n      <td>NaN</td>\n      <td>60465</td>\n      <td>[]</td>\n      <td>CHEMBL755012</td>\n      <td>Activity against opioid receptor in guinea pig...</td>\n      <td>F</td>\n      <td>BAO_0000190</td>\n      <td>BAO_0000221</td>\n      <td>tissue-based format</td>\n      <td>...</td>\n      <td>Homo sapiens</td>\n      <td>Opioid receptors; mu &amp; kappa</td>\n      <td>9606.0</td>\n      <td>NaN</td>\n      <td>NaN</td>\n      <td>IC50</td>\n      <td>nM</td>\n      <td>UO_0000065</td>\n      <td>NaN</td>\n      <td>6.3</td>\n    </tr>\n    <tr>\n      <th>5900</th>\n      <td>28635</td>\n      <td>NaN</td>\n      <td>60498</td>\n      <td>[]</td>\n      <td>CHEMBL747657</td>\n      <td>Binding affinity towards Muscarinic acetylchol...</td>\n      <td>B</td>\n      <td>BAO_0000190</td>\n      <td>BAO_0000221</td>\n      <td>tissue-based format</td>\n      <td>...</td>\n      <td>Rattus norvegicus</td>\n      <td>Muscarinic acetylcholine receptor M1</td>\n      <td>10116.0</td>\n      <td>NaN</td>\n      <td>NaN</td>\n      <td>IC50</td>\n      <td>nM</td>\n      <td>UO_0000065</td>\n      <td>NaN</td>\n      <td>23.0</td>\n    </tr>\n    <tr>\n      <th>5901</th>\n      <td>28636</td>\n      <td>NaN</td>\n      <td>60499</td>\n      <td>[]</td>\n      <td>CHEMBL744022</td>\n      <td>Binding affinity towards muscarinic receptor o...</td>\n      <td>B</td>\n      <td>BAO_0000190</td>\n      <td>BAO_0000221</td>\n      <td>tissue-based format</td>\n      <td>...</td>\n      <td>Rattus norvegicus</td>\n      <td>Muscarinic acetylcholine receptor M2</td>\n      <td>10116.0</td>\n      <td>NaN</td>\n      <td>NaN</td>\n      <td>IC50</td>\n      <td>nM</td>\n      <td>UO_0000065</td>\n      <td>NaN</td>\n      <td>100.0</td>\n    </tr>\n    <tr>\n      <th>5902</th>\n      <td>28639</td>\n      <td>NaN</td>\n      <td>60502</td>\n      <td>[]</td>\n      <td>CHEMBL651151</td>\n      <td>Concentration required for 50% inhibition of b...</td>\n      <td>B</td>\n      <td>BAO_0000190</td>\n      <td>BAO_0000221</td>\n      <td>tissue-based format</td>\n      <td>...</td>\n      <td>Rattus norvegicus</td>\n      <td>Angiotensin II receptor</td>\n      <td>10116.0</td>\n      <td>NaN</td>\n      <td>NaN</td>\n      <td>IC50</td>\n      <td>uM</td>\n      <td>UO_0000065</td>\n      <td>NaN</td>\n      <td>27.0</td>\n    </tr>\n    <tr>\n      <th>5903</th>\n      <td>28640</td>\n      <td>NaN</td>\n      <td>60503</td>\n      <td>[]</td>\n      <td>CHEMBL651151</td>\n      <td>Concentration required for 50% inhibition of b...</td>\n      <td>B</td>\n      <td>BAO_0000190</td>\n      <td>BAO_0000221</td>\n      <td>tissue-based format</td>\n      <td>...</td>\n      <td>Rattus norvegicus</td>\n      <td>Angiotensin II receptor</td>\n      <td>10116.0</td>\n      <td>NaN</td>\n      <td>NaN</td>\n      <td>IC50</td>\n      <td>uM</td>\n      <td>UO_0000065</td>\n      <td>NaN</td>\n      <td>3.7</td>\n    </tr>\n  </tbody>\n</table>\n<p>5904 rows × 44 columns</p>\n</div>"
     },
     "metadata": {},
     "execution_count": 174
    }
   ],
   "source": [
    "a = pd.read_csv(\"/Users/Munchic/Developer/Capstone/tinymolecule/data/ccr4_ic50.csv\")\n",
    "a.g"
   ]
  },
  {
   "cell_type": "code",
   "execution_count": 115,
   "metadata": {
    "tags": []
   },
   "outputs": [],
   "source": [
    "ccr4_ic50_nM_smiles = ['SMILES'] + list(ic50_nM_data[\"canonical_smiles\"])\n",
    "\n",
    "with open(\"../data/ccr4_ic50_train.txt\", \"a\") as f:\n",
    "    for entry in ccr4_ic50_nM_smiles:\n",
    "        if type(entry) == str:\n",
    "            f.write(entry + '\\n')"
   ]
  },
  {
   "cell_type": "code",
   "execution_count": 123,
   "metadata": {},
   "outputs": [],
   "source": [
    "ccr4_ic50_smiles_df = pd.DataFrame({\"SMILES\": list(ic50_nM_data[\"canonical_smiles\"])})\n",
    "ccr4_ic50_smiles_df.to_csv(\"../data/ccr4_ic50_train.csv\")"
   ]
  },
  {
   "cell_type": "code",
   "execution_count": 116,
   "metadata": {
    "tags": [
     "outputPrepend"
    ]
   },
   "outputs": [
    {
     "output_type": "stream",
     "name": "stdout",
     "text": [
      ")c2C(=O)c13.Cl\nCCN(CC)CCNc1ccc2c3c(nn2CCNCCO)-c2c(O)ccc(O)c2C(=O)c13.Cl\nCN(C)CCn1nc2c3c(c(NCCCN)ccc31)C(=O)c1c(O)ccc(O)c1-2.Cl\nNc1cc2c3ccccc3nc-2c[nH]1\nCCN1CCC[C@H]1CNC(=O)c1c(OC)ccc(Br)c1O\nCCc1ccc2c(c1)c(OC)c(C)c1nc(C(=O)c3ccccc3)cn12\nCOc1ccc2c(C)nc(O)cc2c1\nCCCCC1N(Cc2ccc(-c3ccccc3-c3nn[nH]n3)cc2)C(=O)c2cc(C(C)(C)OC)ccc2N1C\nCCCCc1nc(Cl)c(CO)n1Cc1ccc(-c2ccccc2-c2nnn[nH]2)cc1\nCC(C)(C)N(CC(=O)N(CC(=O)NO)CC1CCCCC1)C(=O)Nc1ccc(Oc2ccccc2)cc1\nO=C(CN(C(=O)CN(C(=O)Nc1ccc(Oc2ccccc2)cc1)C1CCCc2ccccc21)C1CCCc2ccccc21)NO\nCCCCN(CC(=O)NO)C(=O)CN(CCCc1ccccc1)C(=O)Nc1ccc(Oc2ccccc2)cc1\nO=C(CN(CCCc1ccccc1)C(=O)CN(CCCc1ccccc1)C(=O)Nc1ccc(Oc2ccccc2)cc1)NO\nCOc1ccc(OC)c(CCNC(=S)Nc2ccc(Br)cn2)c1\nCOc1ccc(OC)c(CCNC(=S)Nc2ccc(Br)cn2)c1\nCOc1ccc(OC)c(CCNC(=S)Nc2ccc(Br)cn2)c1\nCOc1ccc(OC)c(CCNC(=S)Nc2ccc(Br)cn2)c1\nCOc1ccc(OC)c(CCNC(=S)Nc2ccc(Br)cn2)c1\nFc1ccccc1CC/N=C(\\S)Nc1ccc(Br)cn1\nFc1ccccc1CC/N=C(\\S)Nc1ccc(Br)cn1\nFc1ccccc1CC/N=C(\\S)Nc1ccc(Br)cn1\nFc1ccccc1CC/N=C(\\S)Nc1ccc(Br)cn1\nFc1ccccc1CC/N=C(\\S)Nc1ccc(Br)cn1\nCl.Clc1ccc(N2CCN(Cc3c[nH]c4ncccc34)CC2)cc1\nCl.Clc1ccc(N2CCN(Cc3c[nH]c4ncccc34)CC2)cc1\nCl.Clc1ccc(N2CCN(Cc3c[nH]c4ncccc34)CC2)cc1\nCl.Clc1ccc(N2CCN(Cc3c[nH]c4ncccc34)CC2)cc1\nCl.Clc1ccc(N2CCN(Cc3c[nH]c4ncccc34)CC2)cc1\nC[C@@H](C(=O)N[C@H]1CC(=O)OC1O)N1CCCC[C@H](NC(=O)OCc2ccccc2)C1=O\nC[C@@H](C(=O)N[C@H]1CC(=O)OC1O)N1CCCC[C@H](NC(=O)OCc2ccccc2)C1=O\nCC(=O)NCCCC[C@H](NC(=O)[C@H](CO)NC(=O)Cc1ccc(CCCCn2ccnc2C)cc1)C(=O)NCCC1CCCCC1\nN=C(N)N1CCC[C@H](NC(=O)CNC(=O)[C@@H](CCNC(=O)c2nc3ccccc3nc2O)NS(=O)(=O)Cc2ccccc2)C1O\nN=C(N)N1CCC[C@H](NC(=O)CNC(=O)[C@@H](CCNC(=O)c2nc3ccccc3nc2O)NS(=O)(=O)Cc2ccccc2)C1O\nN=C(N)N1CCC[C@H](NC(=O)CNC(=O)[C@@H](CCNC(=O)c2nccc3ccccc23)NC(=O)OCc2ccccc2)C1O\nN=C(N)N1CCC[C@H](NC(=O)CNC(=O)[C@@H](CCNC(=O)c2nccc3ccccc23)NC(=O)OCc2ccccc2)C1O\nN=C(N)N1CCC[C@H](NC(=O)CNC(=O)[C@@H](CCNC(=O)c2nccc3ccccc23)NC(=O)OCc2ccccc2)C1O\nN=C(N)N1CCC[C@H](NC(=O)CNC(=O)[C@@H](CCNC(=O)c2nccc3ccccc23)NC(=O)OCc2ccccc2)C1O\nCN1CC[C@]23CCCC[C@@]12c1ccccc1CC3\nCC1(C)Oc2ccc(C#N)cc2[C@@H](n2cccc2)[C@@H]1O\nC=C(C)[C@@H]1CC[C@]2(C)[C@H](CC=C3C4CC(C)(C)CC[C@]4(C(=O)O)CC[C@]32C)[C@@]1(C)CCC=O\nC=C(C)[C@@H]1CC[C@]2(C)[C@H](CC=C3C4CC(C)(C)CC[C@]4(C(=O)O)CC[C@]32C)[C@@]1(C)CCC(=O)O\nCC(C)C[C@H](COCc1ccccc1)NC(=O)C(F)(F)C(=O)C(Cc1ccc(OCc2ccccc2)cc1)NC(=O)[C@@H](NC(=O)OCc1ccccc1)C(C)C\nC=CCO[C@H]1O[C@@H](CO)[C@@H](O[C@@H]2O[C@@H](CO)[C@H](O)[C@H](O)[C@@H]2O)C[C@@H]1NC(C)=O\nCC(C)[C@@H]1[C@H](OC(=O)N[C@@H](Cc2ccccc2)[C@H](O)CN2CCN(Cc3ccncc3)C[C@H]2C(=O)NC(C)(C)C)CCS1(=O)=O\nCSCC[C@H](NC(=O)[C@H](Cc1ccccc1)NC(=O)[C@@H](NC(=O)[C@@H](N)CC(=O)O)C(C)C)C(=O)O\nCN[C@@H](CS)C(=O)N[C@H](C(=O)N[C@@H](Cc1ccccc1)C(=O)N[C@@H](CCSC)C(=O)O)C(C)C\nCc1csc2nc([C@H](C)NC(=O)/C=C/c3ccsc3)oc(=O)c12\nCc1csc2nc([C@H](C)NC(=O)/C=C/c3ccsc3)oc(=O)c12\nCc1csc2nc([C@H](C)NC(=O)/C=C/c3ccsc3)oc(=O)c12\nCc1csc2nc([C@H](C)NC(=O)/C=C/c3ccnc4ccccc34)oc(=O)c12\nCc1csc2nc([C@H](C)NC(=O)/C=C/c3ccnc4ccccc34)oc(=O)c12\nCc1csc2nc([C@H](C)NC(=O)/C=C/c3ccnc4ccccc34)oc(=O)c12\nC[C@]1(COC(=O)Cc2ccccc2)[C@H](C(=O)[O-])N2C(=O)/C(=C/C(=O)[O-])C2S1(=O)=O.[Na+].[Na+]\nC[C@]1(COC(=O)Cc2ccccc2)[C@H](C(=O)[O-])N2C(=O)/C(=C/C(=O)[O-])C2S1(=O)=O.[Na+].[Na+]\nC[C@]1(COC(=O)Cc2ccccc2)[C@H](C(=O)[O-])N2C(=O)/C(=C/C(=O)[O-])C2S1(=O)=O.[Na+].[Na+]\nC[C@]1(CCl)[C@H](C(=O)[O-])N2C(=O)/C(=C/C(=O)[O-])C2S1(=O)=O.[Na+].[Na+]\nC[C@]1(CCl)[C@H](C(=O)[O-])N2C(=O)/C(=C/C(=O)[O-])C2S1(=O)=O.[Na+].[Na+]\nC[C@]1(CCl)[C@H](C(=O)[O-])N2C(=O)/C(=C/C(=O)[O-])C2S1(=O)=O.[Na+].[Na+]\nCc1cc(COc2ccc(N3CC[C@H]([C@H](NC(=O)N4CCOCC4)C(=O)NO)C3=O)cc2)c2ccccc2n1\nCc1cc(COc2ccc(N3CC[C@H]([C@H](NC(=O)N4CCOCC4)C(=O)NO)C3=O)cc2)c2ccccc2n1\nCN(C)CCCN(C(=O)c1cc2ccccc2s1)c1ccccc1NC(=O)c1ccccc1\nCOc1ccc(-c2cc(=O)cc(N3CCOCC3)s2)cc1\nC=CCNC(=O)C(=O)[C@H](CC)NC(=O)[C@@H]1CCCN1C(=O)[C@@H](NC(=O)[C@@H](NC(=O)[C@H](CCC(=O)O)NC(=O)[C@@H](N)CC(=O)O)C(C)C)C(C)C\nCC[C@H](NC(=O)[C@H](CC1CCCCC1)NC(=O)[C@@H](NC(=O)[C@H](CC(C)C)NC(=O)c1cnccn1)[C@@H](C)CC)C(=O)C(=O)N[C@@H](CCCCN)C(=O)O\nCC[C@H](C)[C@H](NC(=O)[C@H](CC(C)C)NC(=O)c1cnccn1)C(=O)N[C@@H](CC1CCCCC1)C(=O)NC1(C(=O)C(=O)NCC(=O)O)CC1\nO=C1NC(=O)c2c1c1c3ccncc3ccc1c1[nH]c3ccccc3c21\nO=C1NC(=O)c2c1c1c3ccncc3ccc1c1[nH]c3ccccc3c21\nO=C1NC(=O)c2c1c1c3ccncc3ccc1c1[nH]c3ccccc3c21\nCCCCC(=O)N[C@@H]1CC(=O)NCCCC[C@@H](C(N)=O)NC(=O)[C@H](Cc2c[nH]c3ccccc23)NC(=O)[C@@H](CCCNC(N)=O)NC(=O)[C@H](Cc2ccccc2)NC(=O)C2(CCc3c(Cl)cccc3C2)NC1=O\nCCCCC(=O)N[C@@H]1CC(=O)NCCCC[C@@H](C(N)=O)NC(=O)[C@H](Cc2c[nH]c3ccccc23)NC(=O)[C@@H](CCCNC(N)=O)NC(=O)[C@H](Cc2ccccc2)NC(=O)C2(CCc3c(Cl)cccc3C2)NC1=O\nNc1ccc2cnccc2c1\nNNC(=O)NCCCCCCC(=O)Nc1ccccc1\nO=C(CCCCCCC(=O)Nc1ccccc1)NCCO\nNS(=O)(=O)Oc1cccc(F)c1\nO=C(NCc1ccc(C(=O)NO)cc1)NC12CC3CC(CC(C3)C1)C2\nCC(C)c1cc(C(=O)CN2CCSCC2)cc(C(C)C)c1O\nCC(C)(C)c1cc(C(=O)Cn2c(=N)n(Cc3ccccc3)c3ccccc32)cc(C(C)(C)C)c1O\nCC(C)(C)c1cc(C(=O)Cn2c(=N)n(Cc3ccccc3)c3ccccc32)cc(C(C)(C)C)c1O\nCC(C)(C)c1cc(C(=O)Cn2c(=N)n(Cc3ccccc3)c3ccccc32)cc(C(C)(C)C)c1O\nCOC(=O)CCc1ccc2c(c1)C(c1ccccc1)=CC(=O)C2=O\nO=C(Nc1cccc2c1C(=O)C(=O)C=C2c1ccccc1)OCc1ccccc1\nCCCCCCCOc1ccc2c3cc[n+]4nc(CC)c(CC)cc4c3n(C(=O)OC(C)(C)C)c2c1.Cc1cc(C)c(S(=O)(=O)[O-])c(C)c1\nCCCCCCCCCCOc1ccc2c3cc[n+]4nc(CC)c(CC)cc4c3n(C(=O)OC(C)(C)C)c2c1.Cc1cc(C)c(S(=O)(=O)[O-])c(C)c1\nCOc1ccc(-c2cc(Sc3cc(Cl)c(Cl)c(Cl)c3)nnc2-c2ccc(OC)cc2)cc1\nCOc1ccc([C@H](Cc2ccncc2)c2ccc(Cl)cc2)cc1OC1CCCC1\nCOc1ccc([C@H](Cc2ccncc2)c2ccc(Cl)cc2)cc1OC1CCCC1\nCNCC(=O)N[C@@H](CCCN=C(N)N)C(=O)N[C@H]1CCSS[C@H]2C[C@@H](C(=O)N[C@@H](Cc3c[nH]cn3)C(=O)N3CCC[C@H]3C(=O)N[C@@H](Cc3ccccc3)C(=O)O)N(C2)C(=O)[C@H](Cc2ccc(O)cc2)NC1=O\nCNCC(=O)N[C@@H](CCCN=C(N)N)C(=O)N[C@H]1CCSS[C@H]2C[C@@H](C(=O)N[C@@H](Cc3c[nH]cn3)C(=O)N3CCC[C@H]3C(=O)N[C@@H](Cc3ccccc3)C(=O)O)N(C2)C(=O)[C@H](Cc2ccc(O)cc2)NC1=O\nCCCCc1nn(CC)c(C(=O)O)c1Cc1ccc(-c2ccccc2-c2nn[nH]n2)cc1\nCCC(=O)C1C(c2ccc3ccccc3c2)CC2CCC1N2C\nCCCCCCCC(=O)OCC1CN(C(=O)c2cc(OC)c(OC)c(OC)c2)CCN1C(=O)c1cc(OC)c(OC)c(OC)c1\nCl.Cl.O=S(=O)(CCCOc1ccc2[nH]c3nc(O)nc-3cc2c1)N1CCN(Cc2ccc(Cl)cc2)CC1\nCCC(CC)C(=O)OCC1CN(Cc2cc(OC)c(OC)c(OC)c2)CCN1Cc1cc(OC)c(OC)c(OC)c1\nCc1ccc2oc(N[C@@H](CC3CCCCC3)c3ccccn3)nc2c1\nCc1ccc2oc(NC(CC3CCCCC3)c3cccnc3)nc2c1\nCCOC(=O)c1ccc2oc(NC(Cc3ccc(F)cc3)c3ccccn3)nc2c1\nCCOC(=O)C(Cc1csc(C)n1)Nc1nc2cc(C(C)C)ccc2o1\nCCCCc1nn(-c2ccccc2)c(C(=O)OCC)c1Cc1ccc(-c2ccccc2-c2nn[nH]n2)cc1\nCCCc1nn(-c2ccccc2C(F)(F)F)c(C(=O)OCC)c1Cc1ccc(-c2ccccc2-c2nn[nH]n2)cc1\nO=C(O)CCNC(=O)C(Cc1ccccc1)NCP(=O)(O)O\nCOc1ccc(NC(=O)Nc2cnc3ccc(Cl)cc3c2-c2ccccc2)c(OC)c1\nCc1ccccc1-c1c(NC(=O)Nc2ccc(F)cc2F)cnc2ccc(Cl)cc12\nO=C1c2ccccc2CN1CCCN1CCN(c2nsc3ccccc23)CC1\nO=C1c2ccccc2CN1CCCN1CCN(c2nsc3ccccc23)CC1\nO=C1c2ccccc2CN1CCCN1CCN(c2nsc3ccccc23)CC1\nCC(C)=CCN1Cc2cccc3nc(O)n(c23)CC1C\nCOC(=O)COc1cccn2c(Cc3ccccc3-c3ccccc3)c(C3CCCC3)c(C(=O)C(N)=O)c12\nCC1C(C(N)=O)=C2C(OCC(=O)O)=CC=CN2/C1=C\\c1ccccc1\nC=C(C)/C(O)=C(\\C#N)C(=O)Nc1ccc(C(F)(F)F)cc1\nC=C(C)/C(O)=C(\\C#N)C(=O)Nc1ccc(C(F)(F)F)cc1\nN#C/C(C(=O)Nc1ccccc1Cl)=C(/O)C1CC1\nN#C/C(C(=O)Nc1ccccc1Cl)=C(/O)C1CC1\nCc1cc(NC(=O)/C(C#N)=C(\\O)C2CC2)ccc1OC(F)(F)F\nCc1cc(NC(=O)/C(C#N)=C(\\O)C2CC2)ccc1OC(F)(F)F\nCN(C(=O)c1ccc(NC(=O)/C(C#N)=C(\\O)C2CC2)cc1)c1ccc(Cl)cc1\nCN(C(=O)c1ccc(NC(=O)/C(C#N)=C(\\O)C2CC2)cc1)c1ccc(Cl)cc1\nC=C(CC[C@]12O[C@H](CN)[C@@](O)(C(=O)O)[C@](C(=O)O)(O1)[C@H](O)[C@H]2O)[C@@H](OC(C)=O)[C@H](C)Cc1ccccc1\nC=C(CC[C@]12O[C@H](CNC(N)=O)[C@@](O)(C(=O)O)[C@](C(=O)O)(O1)[C@H](O)[C@H]2O)[C@@H](OC(C)=O)[C@H](C)Cc1ccccc1\nC=C(CC[C@]12O[C@H](C(C)=O)[C@@](O)(C(=O)O)[C@](C(=O)O)(O1)[C@H](O)[C@H]2O)[C@@H](OC(C)=O)[C@H](C)Cc1ccccc1\nCOc1ccc(OC)c(NCc2cnc3nc(N)nc(N)c3c2C)c1\nCOc1ccc(OC)c(NCc2cnc3nc(N)nc(N)c3c2C)c1\nCOc1ccc(OC)c(NCc2cnc3nc(N)nc(N)c3c2C)c1\nCOc1ccc(OC)c(NCc2cnc3nc(N)nc(N)c3c2C)c1\nCOc1ccc(OC)c(NCc2cnc3nc(N)nc(N)c3c2C)c1\nCc1c(CNc2cccc3ccccc23)cnc2nc(N)nc(N)c12\nCc1c(CNc2cccc3ccccc23)cnc2nc(N)nc(N)c12\nCc1c(CNc2cccc3ccccc23)cnc2nc(N)nc(N)c12\nCc1c(CNc2cccc3ccccc23)cnc2nc(N)nc(N)c12\nCCOCn1c2c(c(=O)[nH]c1=O)CNc1ccccc1S2\nC=CCc1cc(NC(=O)CC)ccc1OCCCN(C)C(C)C\nCC(C)NCCCOc1cccc(-c2ccccc2)c1\nCC[C@H](C)[C@H](NC(C#N)[C@@H](Cc1ccc(O)cc1)NC(=O)[C@@H]1CCCN1C(=O)[C@H](CCCN=C(N)N)NC(=O)[C@@H](N)CCCN=C(N)N)C(=O)N[C@@H](CC(C)C)C(=O)O\nCCc1c(CC(N)=O)c2c(OCC(O)CC)cccn2c1Cc1cccc(Cl)c1\nNC(=O)C(=O)c1c(C2CC2)c(Cc2ccccc2-c2ccccc2)n2cccc(OCC(=O)O)c12\nNC(=O)C(=O)c1c(C2CC2)c(Cc2ccccc2-c2ccccc2)n2cccc(OCC(=O)O)c12\nCCc1c(C(=O)C(N)=O)c2c(OCC(=O)O)cccn2c1Cc1ccc(-c2ccccc2)cc1\nCCc1c(C(=O)C(N)=O)c2c(OCC(=O)O)cccn2c1Cc1ccc(-c2ccccc2)cc1\nCCCC(C)Cc1c(CC)c(C(=O)C(N)=O)c2c(OCC(=O)O)cccn12\nCCCC(C)Cc1c(CC)c(C(=O)C(N)=O)c2c(OCC(=O)O)cccn12\nCCc1c(C(=O)C(=O)NC)c2c(OCC(=O)O)cccn2c1Cc1ccccc1\nCl.Cn1cc(NC(=O)c2cc(NC(=O)c3cc(NC(=O)c4cc5cc(N(CCCl)CCCl)ccc5o4)cn3C)cn2C)cc1C(=O)NCCC(=N)N\nCl.Cn1cc(NC(=O)c2cc(NC(=O)c3cc(NC(=O)c4cc5cc(N(CCCl)CCCl)ccc5o4)cn3C)cn2C)cc1C(=O)NCCC(=N)N\nCl.Cn1cc(NC(=O)c2cc(NC(=O)c3cc(NC(=O)c4cc5cc(N(CCCl)CCCl)ccc5o4)cn3C)cn2C)cc1C(=O)NCCC(=N)N\nCl.Cn1cc(NC(=O)c2cc(NC(=O)c3cc(NC(=O)c4cc5cc(N(CCCl)CCCl)ccc5o4)cn3C)cn2C)cc1C(=O)NCCC(=N)N\nCl.Cn1cc(NC(=O)c2cc(NC(=O)c3cc(NC(=O)c4cc5cc(N(CCCl)CCCl)ccc5o4)cn3C)cn2C)cc1C(=O)NCCC(=N)N\nC=C(Br)C(=O)Nc1ccc2[nH]c(C(=O)Nc3cc(C(=O)Nc4cc(C(=O)Nc5cc(C(=O)NCCC(=N)N)n(C)c5)n(C)c4)n(C)c3)cc2c1.Cl\nC=C(Br)C(=O)Nc1ccc2[nH]c(C(=O)Nc3cc(C(=O)Nc4cc(C(=O)Nc5cc(C(=O)NCCC(=N)N)n(C)c5)n(C)c4)n(C)c3)cc2c1.Cl\nC=C(Br)C(=O)Nc1ccc2[nH]c(C(=O)Nc3cc(C(=O)Nc4cc(C(=O)Nc5cc(C(=O)NCCC(=N)N)n(C)c5)n(C)c4)n(C)c3)cc2c1.Cl\nC=C(Br)C(=O)Nc1ccc2c(c1)cc(C(=O)Nc1cc(C(=O)Nc3cc(C(=O)NCCC(=N)N)n(C)c3)n(C)c1)n2C.Cl\nC=C(Br)C(=O)Nc1ccc2c(c1)cc(C(=O)Nc1cc(C(=O)Nc3cc(C(=O)NCCC(=N)N)n(C)c3)n(C)c1)n2C.Cl\nC=C(Br)C(=O)Nc1ccc2c(c1)cc(C(=O)Nc1cc(C(=O)Nc3cc(C(=O)NCCC(=N)N)n(C)c3)n(C)c1)n2C.Cl\nC=C(Br)C(=O)Nc1cc(C(=O)Nc2cc(C(=O)Nc3cc(C(=O)Nc4cc(C(=O)NCCC(=N)N)n(C)c4)n(C)c3)n(C)c2)n(C)c1.Cl\nC=C(Br)C(=O)Nc1cc(C(=O)Nc2cc(C(=O)Nc3cc(C(=O)Nc4cc(C(=O)NCCC(=N)N)n(C)c4)n(C)c3)n(C)c2)n(C)c1.Cl\nCCN(CC)C(=O)c1ccc(C(=C2CCN(CC=C(C)C)CC2)c2ccccc2)cc1\nCCN(CC)C(=O)c1ccc(C(=C2CCN(CC=C(C)C)CC2)c2ccccc2)cc1\nCCN(CC)C(=O)c1ccc(C(=C2CCN(CC=C(C)C)CC2)c2ccccc2)cc1\nO=c1c(O)c(-c2ccc(O)c(O)c2)oc2cc(O)cc(O)c12\nO=c1c(O)c(-c2ccc(O)c(O)c2)oc2cc(O)cc(O)c12\nO=c1cc(-c2ccc(O)cc2)oc2cc(O)ccc12\nN[C@@H](Cc1c[nH]c2ccccc12)C(=O)N[C@@H]1CCCN2C(=O)N(Cc3ccccc3)C(=O)C[C@H]12\nN[C@@H](Cc1c[nH]c2ccccc12)C(=O)N[C@@H]1CCCN2C(=O)N(Cc3ccccc3)C(=O)C[C@H]12\nCCN(CC)c1ccc(C(=O)N2CCCCc3ccccc32)c(Cl)c1\nNC(=O)c1cc2c(Oc3ccc(N)cc3)cncc2s1\nNC(=O)c1cc2c(Oc3ccc(N)cc3)cncc2s1\nNC(=O)c1cc2c(Oc3ccc(N)cc3)cncc2s1\nCNC(=O)c1cc2c(Oc3ccc(N4CCN(C)CC4)cc3)cncc2s1\nCNC(=O)c1cc2c(Oc3ccc(N4CCN(C)CC4)cc3)cncc2s1\nCNC(=O)c1cc2c(Oc3ccc(N4CCN(C)CC4)cc3)cncc2s1\nCNC(=O)c1cc2c(Oc3ccc(-n4cccn4)cc3)cncc2s1\nCNC(=O)c1cc2c(Oc3ccc(-n4cccn4)cc3)cncc2s1\nCNC(=O)c1cc2c(Oc3ccc(-n4cccn4)cc3)cncc2s1\nC=CCO[C@]1(C)C[C@@H](C)C(=O)[C@H](C)[C@H]2NC(=O)O[C@]2(C)[C@@H](CC)OC(=O)[C@H](C)C(=O)[C@H](C)[C@H]1O[C@@H]1O[C@H](C)C[C@H](N(C)C)[C@H]1O\nC=CCO[C@]1(C)C[C@@H](C)C(=O)[C@H](C)[C@H]2NC(=O)O[C@]2(C)[C@@H](CC)OC(=O)[C@H](C)C(=O)[C@H](C)[C@H]1O[C@@H]1O[C@H](C)C[C@H](N(C)C)[C@H]1O\nCc1ccccc1-n1nc(-c2c(-c3cccc(Cl)c3Cl)nc3ccccn23)ccc1=O\nCc1ccccc1-n1nc(-c2c(-c3cccc(Cl)c3Cl)nc3ccccn23)ccc1=O\nCc1ccccc1-n1nc(-c2c(-c3cccc(Cl)c3Cl)nc3ccccn23)ccc1=O\nCc1ccccc1-n1nc(-c2c(-c3cccc(Cl)c3Cl)nc3ccccn23)ccc1=O\nCC(C)C[C@H](NS(=O)(=O)c1ccc(F)cc1)C(=O)N[C@@H](C=O)CC(C)C\nO=C(NO)C1(S(=O)(=O)c2ccc(OCc3ccccc3)cc2)CCN(Cc2ccccc2)CC1\nO=C(NO)C1(S(=O)(=O)c2ccc(OCc3ccccc3)cc2)CCN(Cc2ccccc2)CC1\nO=C(NO)C1(S(=O)(=O)c2ccc(OCc3ccccc3)cc2)CCN(Cc2ccccc2)CC1\nCNC(CC(C)C)C(=O)NC1C(=O)NC(CC(N)=O)C(=O)NC2C(=O)NC3C(=O)NC(C(=O)N[C@@H](C(=O)O)c4cc(O)c(CN5CCN(Cc6ccc(-c7ccccc7)cc6)CC5)c(O)c4-c4cc3ccc4O)C(O)c3ccc(cc3)Oc3cc2cc(c3O)Oc2ccc(cc2Cl)C1O\nCNC(CC(C)C)C(=O)NC1C(=O)NC(CC(N)=O)C(=O)NC2C(=O)NC3C(=O)NC(C(=O)N[C@@H](C(=O)O)c4cc(O)c(CN5CCN(Cc6ccc(-c7ccccc7)cc6)CC5)c(O)c4-c4cc3ccc4O)C(O)c3ccc(cc3)Oc3cc2cc(c3O)Oc2ccc(cc2Cl)C1O\nCNC(CC(C)C)C(=O)NC1C(=O)NC(CC(N)=O)C(=O)NC2C(=O)NC3C(=O)NC(C(=O)N[C@@H](C(=O)O)c4cc(O)c(CN5CCN(Cc6ccc(-c7ccccc7)cc6)CC5)c(O)c4-c4cc3ccc4O)C(O)c3ccc(cc3)Oc3cc2cc(c3O)Oc2ccc(cc2Cl)C1O\nCCCCCCCCCCNC(=O)[C@@H]1NC(=O)C2NC(=O)C(NC(=O)C3NC(=O)C4NC(=O)C(Cc5ccc(c(Cl)c5)Oc5cc3cc(c5O)Oc3ccc(cc3Cl)C2O)NC(=O)C(N)c2ccc(O)c(c2)Oc2cc(O)cc4c2)c2ccc(O)c(c2)-c2c(O)cc(O)cc21\nCNC(=O)[C@@H]1NC(=O)C2NC(=O)C(NC(=O)C3NC(=O)C4NC(=O)C(Cc5ccc(c(Cl)c5)Oc5cc3cc(c5O)Oc3ccc(cc3Cl)C2O)NC(=O)C(N)c2ccc(O)c(c2)Oc2cc(O)cc4c2)c2ccc(O)c(c2)-c2c1cc(O)c(CNC1C3CC4CC(C3)CC1C4)c2O\nCNC(=O)[C@@H]1NC(=O)C2NC(=O)C(NC(=O)C3NC(=O)C4NC(=O)C(Cc5ccc(c(Cl)c5)Oc5cc3cc(c5O)Oc3ccc(cc3Cl)C2O)NC(=O)C(N)c2ccc(O)c(c2)Oc2cc(O)cc4c2)c2ccc(O)c(c2)-c2c1cc(O)c(CNC1C3CC4CC(C3)CC1C4)c2O\nCNC(=O)[C@@H]1NC(=O)C2NC(=O)C(NC(=O)C3NC(=O)C4NC(=O)C(Cc5ccc(c(Cl)c5)Oc5cc3cc(c5O)Oc3ccc(cc3Cl)C2O)NC(=O)C(N)c2ccc(O)c(c2)Oc2cc(O)cc4c2)c2ccc(O)c(c2)-c2c1cc(O)c(CNC1C3CC4CC(C3)CC1C4)c2O\nNC1C(=O)NC2Cc3ccc(c(Cl)c3)Oc3cc4cc(c3O)Oc3ccc(cc3Cl)C(O)C3NC(=O)C(NC(=O)C4NC(=O)C(NC2=O)c2cc(O)cc(c2)Oc2cc1ccc2O)c1ccc(O)c(c1)-c1c(cc(O)c(CNC2C4CC5CC(C4)CC2C5)c1O)[C@H](C(=O)NC1C2CC4CC(C2)CC1C4)NC3=O\nNC1C(=O)NC2Cc3ccc(c(Cl)c3)Oc3cc4cc(c3O)Oc3ccc(cc3Cl)C(O)C3NC(=O)C(NC(=O)C4NC(=O)C(NC2=O)c2cc(O)cc(c2)Oc2cc1ccc2O)c1ccc(O)c(c1)-c1c(cc(O)c(CNC2C4CC5CC(C4)CC2C5)c1O)[C@H](C(=O)NC1C2CC4CC(C2)CC1C4)NC3=O\nNC1C(=O)NC2Cc3ccc(c(Cl)c3)Oc3cc4cc(c3O)Oc3ccc(cc3Cl)C(O)C3NC(=O)C(NC(=O)C4NC(=O)C(NC2=O)c2cc(O)cc(c2)Oc2cc1ccc2O)c1ccc(O)c(c1)-c1c(cc(O)c(CNC2C4CC5CC(C4)CC2C5)c1O)[C@H](C(=O)NC1C2CC4CC(C2)CC1C4)NC3=O\nO=C(Cc1cccc2ccccc12)Nc1nc2nn(CCCc3ccccc3)cc2c2nc(-c3ccco3)nn12\nCC1(C)C(=O)N(c2ccc(C#N)c(C(F)(F)F)c2)C(=O)N1CC#CCOCc1ccc(O)c(C(N)=O)c1\nC[C@@H](O)[C@@H]1NC(=O)[C@H](CCCCN)NC(=O)[C@@H](Cc2c[nH]c3ccccc23)NC(=O)N(C)[C@H](C(=O)c2ccccc2)NC(=O)[C@H](Cc2ccccc2)NC(=O)[C@@H](N)CSSC[C@@H](C(=O)O)NC(=O)[C@H](Cc2ccccc2)NC1=O\nC[C@@H](O)[C@@H]1NC(=O)[C@H](CCCCN)NC(=O)[C@@H](Cc2c[nH]c3ccccc23)NC(=O)N(C)[C@H](C(=O)c2ccccc2)NC(=O)[C@H](Cc2ccccc2)NC(=O)[C@@H](N)CSSC[C@@H](C(=O)O)NC(=O)[C@H](Cc2ccccc2)NC1=O\nC[C@@H](O)[C@@H]1NC(=O)[C@H](CCCCN)NC(=O)[C@@H](Cc2c[nH]c3ccccc23)NC(=O)N(C)[C@H](C(=O)c2ccccc2)NC(=O)[C@H](Cc2ccccc2)NC(=O)[C@@H](N)CSSC[C@@H](C(=O)O)NC(=O)[C@H](Cc2ccccc2)NC1=O\nC[C@@H](O)[C@@H]1NC(=O)[C@H](CCCCN)NC(=O)[C@@H](Cc2c[nH]c3ccccc23)NC(=O)N(C)[C@H](C(=O)c2ccccc2)NC(=O)[C@H](Cc2ccccc2)NC(=O)[C@@H](N)CSSC[C@@H](C(=O)O)NC(=O)[C@H](Cc2ccccc2)NC1=O\nC[C@@H](O)[C@@H]1NC(=O)[C@H](CCCCN)NC(=O)[C@@H](Cc2c[nH]c3ccccc23)NC(=O)N(C)[C@H](C(=O)c2ccccc2)NC(=O)[C@H](Cc2ccccc2)NC(=O)[C@@H](N)CSSC[C@@H](C(=O)O)NC(=O)[C@H](Cc2ccccc2)NC1=O\nCC(C)[C@@H]1C(=O)N(S(C)(=O)=O)[C@@H]2CCN(C(=O)c3coc(CN4CCCC4)n3)[C@@H]12.Cl\nCC(C)[C@@H]1C(=O)N(S(C)(=O)=O)[C@@H]2CCN(C(=O)c3coc(CN4CCCC4)n3)[C@@H]12.Cl\nCC(C)[C@@H]1C(=O)N(S(C)(=O)=O)[C@@H]2CCN(C(=O)c3coc(CN4CCCC4)n3)[C@@H]12.Cl\nCC(C)[C@@H]1C(=O)N(S(C)(=O)=O)[C@@H]2CCN(C(=O)c3coc(CN4CCCC4)n3)[C@@H]12.Cl\nCC(C)[C@@H]1C(=O)N(S(C)(=O)=O)[C@@H]2CCN(C(=O)c3coc(CN4CCCC4)n3)[C@@H]12.Cl\nCC(C)[C@@H]1C(=O)N(S(C)(=O)=O)[C@@H]2CCN(C(=O)c3coc(CN4CCCC4)n3)[C@@H]12.Cl\nOC1(c2ccc(Br)cc2)c2ccccc2C2=NCCN21\nC[S+]([O-])c1ccc(CSc2nc(-c3ccc(Cl)cc3)c(-c3ccncc3)[nH]2)cc1\nC[S+]([O-])c1ccc(CSc2nc(-c3ccc(Cl)cc3)c(-c3ccncc3)[nH]2)cc1\nC[S+]([O-])c1ccc(CSc2nc(-c3ccc(Cl)cc3)c(-c3ccncc3)[nH]2)cc1\nFc1ccc(-c2[nH]c(CCc3ccccc3)nc2-c2ccncc2)cc1\nFc1ccc(-c2[nH]c(CCc3ccccc3)nc2-c2ccncc2)cc1\nFc1ccc(-c2[nH]c(CCc3ccccc3)nc2-c2ccncc2)cc1\nN/C(S)=N/N=C/c1cc(C#Cc2ccccc2)cs1\nCC/C(=N\\N=C(\\N)S)c1ccc(Br)cc1\nC/C(=N\\N=C(\\N)S)c1ccc(Cl)s1\nNC(Cc1nccn1O)C(=O)O\nNC(Cc1nccn1O)C(=O)O\nNC(Cc1nccn1O)C(=O)O\nNC(Cc1nccn1O)C(=O)O\nNC(Cc1nccn1O)C(=O)O\nNC(Cc1nccn1O)C(=O)O\nNC(Cc1nccn1O)C(=O)O\nO=C(O)C(=O)/C=C(\\O)c1cccc(C(c2cccc(/C(O)=C/C(=O)C(=O)O)c2)c2ccccc2F)c1\nO=C(O)C(=O)/C=C(\\O)c1cccc(C(c2cccc(/C(O)=C/C(=O)C(=O)O)c2)c2ccccc2F)c1\nCNC(=O)C[C@H]1CCCN(C(=N)N)C1\nN=C(N)N[C@@H](C(=O)NCC(=O)N1CCC(c2cc(-c3ccccc3Cl)[nH]n2)CC1)C1CCCCC1\nN=C(N)N[C@@H](C(=O)NCC(=O)N1CCC(c2cc(-c3cccc(Cl)c3)[nH]n2)CC1)C1CCCCC1\nCC[C@@H](C)[C@H](N=C(N)N)C(=O)NCC(=O)N[C@@H](Cc1ccc(C#Cc2ccccc2)cc1)C(=O)OC\nC[C@]1(Cn2ccnn2)[C@H](C(=O)O)N2C(=O)C[C@H]2S1(=O)=O\nC[C@]1(Cn2ccnn2)[C@H](C(=O)O)N2C(=O)C[C@H]2S1(=O)=O\nC[C@]1(Cn2ccnn2)[C@H](C(=O)O)N2C(=O)C[C@H]2S1(=O)=O\nC[C@]1(Cn2ccnn2)[C@H](C(=O)O)N2C(=O)C[C@H]2S1(=O)=O\nN#CC(C#N)=NNc1ccc(O)cc1\nN#CC(C#N)=Cc1ccc2c(c1)OCO2\nCC[C@H](C)[C@@H]1NC(=O)[C@H](CCCN=C(N)N)NC(=O)[C@H](CC(=O)O)NC(=O)[C@H]([C@@H](C)CC)NC(=O)[C@H](CCCN=C(N)N)NC(=O)CNC(=O)CNC(=O)[C@H](Cc2ccccc2)NC(=O)[C@@H](NC(=O)[C@H](CO)NC(=O)[C@H](CO)NC(=O)[C@H](CCCN=C(N)N)NC(=O)[C@H](CCCN=C(N)N)NC(=O)[C@H](CC(C)C)NC(=O)[C@@H](N)CO)CSSC[C@@H](C(N)=O)NC(=O)[C@H](CCC(N)=O)NC(=O)[C@H](C)NC(=O)CNC1=O\nCC[C@H](C)[C@@H]1NC(=O)[C@H](CCCN=C(N)N)NC(=O)[C@H](CC(=O)O)NC(=O)[C@H]([C@@H](C)CC)NC(=O)[C@H](CCCN=C(N)N)NC(=O)CNC(=O)CNC(=O)[C@H](Cc2ccccc2)NC(=O)[C@@H](NC(=O)[C@H](CO)NC(=O)[C@H](CO)NC(=O)[C@H](CCCN=C(N)N)NC(=O)[C@H](CCCN=C(N)N)NC(=O)[C@H](CC(C)C)NC(=O)[C@@H](N)CO)CSSC[C@@H](C(N)=O)NC(=O)[C@H](CCC(N)=O)NC(=O)[C@H](C)NC(=O)CNC1=O\nCc1nccn1-c1cccc(OCCOS(N)(=O)=O)c1.Cl\nCl.NS(=O)(=O)Oc1ccc(-n2ccnc2)cc1\nNC(=O)[C@H]1CC[C@@H](CN2CCCC2)N(C(=O)Cc2ccc(Cl)c(Cl)c2)C1\nCc1cccc(N(CC(=O)O)S(=O)(=O)c2ccccc2)c1\nBr.Br.CCN(CC)C(=O)C1CCCN(Cc2ccc(CN3CCCC(C(=O)N(CC)CC)C3)cc2)C1\nBr.Br.CCN(CC)C(=O)C1CCCN(Cc2ccc(CN3CCCC(C(=O)N(CC)CC)C3)cc2)C1\nCC1(C)C(=O)N(C(=O)NCc2ccncc2)[C@H]1Cc1ccccc1\nCC1(C)C(=O)N(C(=O)NCc2ccncc2)[C@H]1Cc1ccccc1\nCC1(C)C(=O)N(C(=O)NCc2ccncc2)[C@H]1Cc1ccccc1\nCC1(C)C(=O)N(C(=O)NCc2ccncc2)[C@H]1Cc1ccccc1\nC=C(c1ccccc1)C1CC2CCC(C1C(=O)OC)N2C\nC=C(c1ccccc1)C1CC2CCC(C1C(=O)OC)N2C\nO=c1oc(NC2CCSC2)nc2ccccc12\nCOc1ccc2nc(Nc3ccccc3I)oc(=O)c2c1\nCOc1ccc2nc(Nc3ccccc3I)oc(=O)c2c1\nCc1ccc(-c2ccc(S(C)(=O)=O)cc2)n1-c1ccc(C(F)(F)F)cc1\nCc1ccc(-c2ccc(S(C)(=O)=O)cc2)n1-c1ccc(C(F)(F)F)cc1\nCc1c(C(Oc2cccc(Cl)c2)C(F)(F)F)cc(-c2ccc(S(C)(=O)=O)cc2)n1-c1ccc(F)cc1\nCc1c(C(Oc2cccc(Cl)c2)C(F)(F)F)cc(-c2ccc(S(C)(=O)=O)cc2)n1-c1ccc(F)cc1\nCN(Cc1cnc2nc(N)nc(N)c2n1)c1ccc(C(=O)N[C@@H](CC(F)C(=O)O)C(=O)O)cc1\nO=C(O)Cc1c(-c2ccccc2)c(O)nc2cc(Cl)ccc12\nCOC(=O)c1cccc2oc(-c3cccc4oc(-c5ccccc5)nc34)nc12\nCOc1ccc(-c2nc3cc(-c4ccc5c(c4)OCO5)ccc3o2)cc1N1C(=O)c2ccc(C(=O)O)cc2C1=O\nCOc1ccc(-c2nc3cc(-c4ccc5c(c4)OCO5)ccc3o2)cc1N1C(=O)c2ccc(C(=O)O)cc2C1=O\nCOC(=O)C(=Cc1cc(=O)[nH]nc1-c1ccccc1)C(=O)OC\nCc1nc2cc(OC[C@H](O)CN3CCN(CC(=O)N[C@H](C)c4ccc5ccccc5c4)CC3)ccc2s1\nCc1nc2cc(OC[C@H](O)CN3CCN(CC(=O)Nc4cccc5nsnc45)CC3)ccc2s1\nCc1nc2cc(OC[C@H](O)CN3CCN(CC(=O)Nc4ccc5c(c4)CCCC5)CC3)ccc2s1\nCc1nc2cc(OC[C@H](O)CN3CCN(CC(=O)Nc4ccc(-c5ccccc5)cc4)CC3)ccc2s1\nCc1nc2cc(OC[C@H](O)CN3CCN(CC(=O)Nc4ccc(-c5ccccc5)cc4)CC3)ccc2s1\nCc1nc2cc(OC[C@H](O)CN3CCN(CC(=O)Nc4ccc(-c5ccccc5)cc4)CC3)ccc2s1\nCc1nc2cc(OC[C@H](O)CN3CCN(CC(=O)Nc4ccc(-c5ccccc5)cc4)CC3)ccc2s1\nCCC(CC)CC(=O)c1c(C(=O)OC)c(-c2ccc(OC)c(OC)c2)c2c(OC)c(OC)c(OC)cc2c1O\nCc1ccc(CC(COC(=O)C(C)(C)C)CN(O)/C(S)=N/Cc2ccc(NS(C)(=O)=O)cc2)cc1C\nCc1cccc(NC2=C(Cl)C(=O)c3ncncc3C2=O)c1\nCc1cccc(NC2=C(Cl)C(=O)c3ncncc3C2=O)c1\nCc1cccc(NC2=C(Cl)C(=O)c3ncncc3C2=O)c1\nO=C1C(Nc2cccc(Cl)c2)=C(Cl)C(=O)c2ncncc21\nO=C1C(Nc2cccc(Cl)c2)=C(Cl)C(=O)c2ncncc21\nO=C1C(Nc2cccc(Cl)c2)=C(Cl)C(=O)c2ncncc21\nO=C(CNC(=O)Nc1ccc(Cl)cc1)Nc1ccc(N2CCOCC2=O)cc1\nO=C(CNC(=O)Nc1ccc(Cl)cc1)Nc1ccc(N2CCOCC2=O)cc1\nO=C(CNC(=O)Nc1ccc(Cl)cc1)Nc1ccc(N2CCOCC2=O)cc1\nCC[C@H](C)[C@H](NC(=O)[C@@H](NC(=O)[C@H]1COCCCCCCCN(C(=O)[C@H](Cc2ccccc2)NC(=O)OC(C)(C)C)[C@H](C)C(=O)N1)C(C)C)C(=O)N[C@@H](Cc1c[nH]cn1)C(=O)OC\nCC[C@H](C)[C@H](NC(=O)[C@@H](NC(=O)[C@H]1COCCCCCCCN(C(=O)[C@H](Cc2ccccc2)NC(=O)OC(C)(C)C)[C@H](C)C(=O)N1)C(C)C)C(=O)N[C@@H](Cc1c[nH]cn1)C(=O)OC\nCC[C@H](C)[C@H](NC(=O)[C@@H](NC(=O)[C@H]1COCCCCCCCN(C(=O)[C@H](Cc2ccccc2)NC(=O)OC(C)(C)C)[C@H](C)C(=O)N1)C(C)C)C(=O)N[C@@H](Cc1c[nH]cn1)C(=O)OC\nCC[C@H](C)[C@H](NC(=O)[C@@H](NC(=O)[C@H]1COCCCCCCCN(C(=O)[C@H](Cc2ccccc2)NC(=O)OC(C)(C)C)[C@H](C)C(=O)N1)C(C)C)C(=O)N[C@@H](Cc1c[nH]cn1)C(=O)OC\nCN(C)CCCC(=O)N1c2ccccc2C(=O)Nc2cccnc21\nCN(C)CCCC(=O)N1c2ccccc2C(=O)Nc2cccnc21\nCSc1nc2nc(C(=O)c3ccccc3)cn2c2c1CCC(C)C2\nCOc1nc2nc(C(=O)c3ccccc3)cn2c2c1CSCC2\nCC(Oc1c(Cl)cccc1Cl)C1=NCCN1.Cl\nCC(C)c1ccc2nc3ccc(C(=O)NCCCCc4cncnc4)cn3c(=O)c2c1\nCC(C)c1ccc2nc3ccc(C(=O)NCCCCc4cncnc4)cn3c(=O)c2c1\nCCN(CC)CCn1nc2c3c(c(NCCNC)ccc31)C(=O)c1ccccc1-2.Cl\nCN(C)CCNCCNc1ccc2c3c(nn2CCCN)-c2c(O)ccc(O)c2C(=O)c13.Cl\nCNCCNc1ccc2c3c(nn2CCNCCO)-c2c(O)ccc(O)c2C(=O)c13\nCN(C)CCCn1nc2c3c(c(NCCN)ccc31)C(=O)c1c(O)ccc(O)c1-2.Cl\nCCN(CC)CCNc1ccc2c3c(nn2CC(O)CN(CC)CC)-c2c(O)ccc(O)c2C(=O)c13.Cl\nCN1CC[C@]23c4c5ccc(O)c4O[C@@H]2[C@H](NC(=O)CNC(=O)CNC(=O)CCC(=O)NCC(=O)NCC(=O)N[C@@H]2CC[C@]4(O)[C@H]6Cc7ccc(O)c8c7[C@@]4(CCN6C)[C@@H]2O8)CC[C@]3(O)[C@H]1C5\nCN1CCN(CC(=O)N2c3ccccc3NC(=O)c3ccccc32)CC1\nCN1CCN(CC(=O)N2c3ccccc3NC(=O)c3ccccc32)CC1\nCCC1Nc2ccccc2C(=O)N1Cc1ccc(-c2ccccc2-c2nn[nH]n2)cc1\nCCCCC1Nc2ccc(Cc3ccccc3)cc2C(=O)N1Cc1ccc(-c2ccccc2-c2nn[nH]n2)cc1\n\n"
     ]
    }
   ],
   "source": [
    "with open(\"../data/ccr4_ic50_train.txt\", \"r\") as f:\n",
    "    print(f.read())"
   ]
  },
  {
   "cell_type": "code",
   "execution_count": 160,
   "metadata": {},
   "outputs": [
    {
     "output_type": "execute_result",
     "data": {
      "text/plain": [
       "array(['c1ccc(-c2nc3c(-c4nc5ccccc5o4)cccc3o2)cc1',\n",
       "       'Cc1ccc2oc(-c3cccc(N4C(=O)c5ccc(C(=O)O)cc5C4=O)c3)nc2c1',\n",
       "       'Cc1ccc2oc(-c3cccc(N4C(=O)c5ccc(C(=O)O)cc5C4=O)c3)nc2c1', ...,\n",
       "       'CN1CCN(CC(=O)N2c3ccccc3NC(=O)c3ccccc32)CC1',\n",
       "       'CCC1Nc2ccccc2C(=O)N1Cc1ccc(-c2ccccc2-c2nn[nH]n2)cc1',\n",
       "       'CCCCC1Nc2ccc(Cc3ccccc3)cc2C(=O)N1Cc1ccc(-c2ccccc2-c2nn[nH]n2)cc1'],\n",
       "      dtype=object)"
      ]
     },
     "metadata": {},
     "execution_count": 160
    }
   ],
   "source": [
    "ccr4_ic50_smiles_vals = ccr4_ic50_smiles_df[ccr4_ic50_smiles_df['SMILES'].apply(lambda x: isinstance(x, str))]['SMILES'].values\n",
    "ccr4_ic50_smiles_vals"
   ]
  },
  {
   "cell_type": "code",
   "execution_count": 161,
   "metadata": {},
   "outputs": [],
   "source": [
    "vocab = moses.CharVocab.from_data(ccr4_ic50_smiles_vals)\n",
    "v"
   ]
  },
  {
   "cell_type": "code",
   "execution_count": 164,
   "metadata": {},
   "outputs": [],
   "source": [
    "torch.save(vocab, \"/Users/Munchic/Developer/Capstone/tinymolecule/data/ccr4_ic50_vocab.pt\")"
   ]
  },
  {
   "cell_type": "code",
   "execution_count": 139,
   "metadata": {},
   "outputs": [
    {
     "output_type": "error",
     "ename": "TypeError",
     "evalue": "'<' not supported between instances of 'str' and 'float'",
     "traceback": [
      "\u001b[0;31m---------------------------------------------------------------------------\u001b[0m",
      "\u001b[0;31mTypeError\u001b[0m                                 Traceback (most recent call last)",
      "\u001b[0;32m<ipython-input-139-9c32fbc856be>\u001b[0m in \u001b[0;36m<module>\u001b[0;34m\u001b[0m\n\u001b[0;32m----> 1\u001b[0;31m \u001b[0mvocab\u001b[0m \u001b[0;34m=\u001b[0m \u001b[0mmoses\u001b[0m\u001b[0;34m.\u001b[0m\u001b[0mCharVocab\u001b[0m\u001b[0;34m.\u001b[0m\u001b[0mfrom_data\u001b[0m\u001b[0;34m(\u001b[0m\u001b[0mccr4_ic50_smiles_df\u001b[0m\u001b[0;34m.\u001b[0m\u001b[0mvalues\u001b[0m\u001b[0;34m)\u001b[0m\u001b[0;34m\u001b[0m\u001b[0;34m\u001b[0m\u001b[0m\n\u001b[0m",
      "\u001b[0;32m~/miniconda3/envs/tinymolecule/lib/python3.6/site-packages/moses/utils.py\u001b[0m in \u001b[0;36mfrom_data\u001b[0;34m(cls, data, *args, **kwargs)\u001b[0m\n\u001b[1;32m     31\u001b[0m             \u001b[0mchars\u001b[0m\u001b[0;34m.\u001b[0m\u001b[0mupdate\u001b[0m\u001b[0;34m(\u001b[0m\u001b[0mstring\u001b[0m\u001b[0;34m)\u001b[0m\u001b[0;34m\u001b[0m\u001b[0;34m\u001b[0m\u001b[0m\n\u001b[1;32m     32\u001b[0m \u001b[0;34m\u001b[0m\u001b[0m\n\u001b[0;32m---> 33\u001b[0;31m         \u001b[0;32mreturn\u001b[0m \u001b[0mcls\u001b[0m\u001b[0;34m(\u001b[0m\u001b[0mchars\u001b[0m\u001b[0;34m,\u001b[0m \u001b[0;34m*\u001b[0m\u001b[0margs\u001b[0m\u001b[0;34m,\u001b[0m \u001b[0;34m**\u001b[0m\u001b[0mkwargs\u001b[0m\u001b[0;34m)\u001b[0m\u001b[0;34m\u001b[0m\u001b[0;34m\u001b[0m\u001b[0m\n\u001b[0m\u001b[1;32m     34\u001b[0m \u001b[0;34m\u001b[0m\u001b[0m\n\u001b[1;32m     35\u001b[0m     \u001b[0;32mdef\u001b[0m \u001b[0m__init__\u001b[0m\u001b[0;34m(\u001b[0m\u001b[0mself\u001b[0m\u001b[0;34m,\u001b[0m \u001b[0mchars\u001b[0m\u001b[0;34m,\u001b[0m \u001b[0mss\u001b[0m\u001b[0;34m=\u001b[0m\u001b[0mSpecialTokens\u001b[0m\u001b[0;34m)\u001b[0m\u001b[0;34m:\u001b[0m\u001b[0;34m\u001b[0m\u001b[0;34m\u001b[0m\u001b[0m\n",
      "\u001b[0;32m~/miniconda3/envs/tinymolecule/lib/python3.6/site-packages/moses/utils.py\u001b[0m in \u001b[0;36m__init__\u001b[0;34m(self, chars, ss)\u001b[0m\n\u001b[1;32m     38\u001b[0m             \u001b[0;32mraise\u001b[0m \u001b[0mValueError\u001b[0m\u001b[0;34m(\u001b[0m\u001b[0;34m'SpecialTokens in chars'\u001b[0m\u001b[0;34m)\u001b[0m\u001b[0;34m\u001b[0m\u001b[0;34m\u001b[0m\u001b[0m\n\u001b[1;32m     39\u001b[0m \u001b[0;34m\u001b[0m\u001b[0m\n\u001b[0;32m---> 40\u001b[0;31m         \u001b[0mall_syms\u001b[0m \u001b[0;34m=\u001b[0m \u001b[0msorted\u001b[0m\u001b[0;34m(\u001b[0m\u001b[0mlist\u001b[0m\u001b[0;34m(\u001b[0m\u001b[0mchars\u001b[0m\u001b[0;34m)\u001b[0m\u001b[0;34m)\u001b[0m \u001b[0;34m+\u001b[0m \u001b[0;34m[\u001b[0m\u001b[0mss\u001b[0m\u001b[0;34m.\u001b[0m\u001b[0mbos\u001b[0m\u001b[0;34m,\u001b[0m \u001b[0mss\u001b[0m\u001b[0;34m.\u001b[0m\u001b[0meos\u001b[0m\u001b[0;34m,\u001b[0m \u001b[0mss\u001b[0m\u001b[0;34m.\u001b[0m\u001b[0mpad\u001b[0m\u001b[0;34m,\u001b[0m \u001b[0mss\u001b[0m\u001b[0;34m.\u001b[0m\u001b[0munk\u001b[0m\u001b[0;34m]\u001b[0m\u001b[0;34m\u001b[0m\u001b[0;34m\u001b[0m\u001b[0m\n\u001b[0m\u001b[1;32m     41\u001b[0m \u001b[0;34m\u001b[0m\u001b[0m\n\u001b[1;32m     42\u001b[0m         \u001b[0mself\u001b[0m\u001b[0;34m.\u001b[0m\u001b[0mss\u001b[0m \u001b[0;34m=\u001b[0m \u001b[0mss\u001b[0m\u001b[0;34m\u001b[0m\u001b[0;34m\u001b[0m\u001b[0m\n",
      "\u001b[0;31mTypeError\u001b[0m: '<' not supported between instances of 'str' and 'float'"
     ]
    }
   ],
   "source": [
    "vocab = moses.CharVocab.from_data(ccr4_ic50_smiles_df.values)"
   ]
  },
  {
   "cell_type": "code",
   "execution_count": 171,
   "metadata": {},
   "outputs": [
    {
     "output_type": "execute_result",
     "data": {
      "text/plain": [
       "5904"
      ]
     },
     "metadata": {},
     "execution_count": 171
    }
   ],
   "source": [
    "a = pd.read_csv(\"/Users/Munchic/Developer/Capstone/tinymolecule/data/ccr4_ic50_train.csv\", usecols=['SMILES'], squeeze=True).astype(str).tolist()\n",
    "len(a)"
   ]
  },
  {
   "cell_type": "code",
   "execution_count": 156,
   "metadata": {},
   "outputs": [],
   "source": [
    "train = moses.get_dataset('train')\n",
    "vocab = CharVocab.from_data(train)"
   ]
  },
  {
   "cell_type": "code",
   "execution_count": 158,
   "metadata": {},
   "outputs": [
    {
     "output_type": "execute_result",
     "data": {
      "text/plain": [
       "array(['CCCS(=O)c1ccc2[nH]c(=NC(=O)OC)[nH]c2c1',\n",
       "       'CC(C)(C)C(=O)C(Oc1ccc(Cl)cc1)n1ccnc1',\n",
       "       'Cc1c(Cl)cccc1Nc1ncccc1C(=O)OCC(O)CO', ...,\n",
       "       'NC(=O)c1ccc2ccccc2c1Br',\n",
       "       'CC(=O)Nc1cccc(-c2nc3cc(C)ccc3[nH]c2=O)c1',\n",
       "       'CC(NC(=O)OC(C)(C)C)c1nc(CO)nn1Cc1ccccc1'], dtype=object)"
      ]
     },
     "metadata": {},
     "execution_count": 158
    }
   ],
   "source": [
    "train"
   ]
  },
  {
   "cell_type": "code",
   "execution_count": 135,
   "metadata": {},
   "outputs": [
    {
     "output_type": "execute_result",
     "data": {
      "text/plain": [
       "{'#': 0,\n",
       " '(': 1,\n",
       " ')': 2,\n",
       " '-': 3,\n",
       " '1': 4,\n",
       " '2': 5,\n",
       " '3': 6,\n",
       " '4': 7,\n",
       " '5': 8,\n",
       " '6': 9,\n",
       " '=': 10,\n",
       " 'B': 11,\n",
       " 'C': 12,\n",
       " 'F': 13,\n",
       " 'H': 14,\n",
       " 'N': 15,\n",
       " 'O': 16,\n",
       " 'S': 17,\n",
       " '[': 18,\n",
       " ']': 19,\n",
       " 'c': 20,\n",
       " 'l': 21,\n",
       " 'n': 22,\n",
       " 'o': 23,\n",
       " 'r': 24,\n",
       " 's': 25,\n",
       " '<bos>': 26,\n",
       " '<eos>': 27,\n",
       " '<pad>': 28,\n",
       " '<unk>': 29}"
      ]
     },
     "metadata": {},
     "execution_count": 135
    }
   ],
   "source": [
    "vocab.c2i"
   ]
  },
  {
   "cell_type": "code",
   "execution_count": 5,
   "metadata": {},
   "outputs": [
    {
     "output_type": "execute_result",
     "data": {
      "text/plain": [
       "   activity_comment  activity_id activity_properties assay_chembl_id  \\\n",
       "17              NaN        31880                  []    CHEMBL651396   \n",
       "18              NaN        31881                  []    CHEMBL657398   \n",
       "19              NaN        31882                  []    CHEMBL845142   \n",
       "20   Not Determined        31883                  []    CHEMBL752464   \n",
       "21              NaN        31884                  []    CHEMBL618375   \n",
       "\n",
       "                                    assay_description assay_type bao_endpoint  \\\n",
       "17  Effective concentration of compound achieving ...          F  BAO_0000188   \n",
       "18  Cytotoxic concentration of compound required t...          F  BAO_0000187   \n",
       "19  Selectivity index expressed as the ratio of CC...          F  BAO_0000179   \n",
       "20  Antimycobacterial activity against Mycobacteri...          F  BAO_0000376   \n",
       "21                In vitro hydrolysis in human plasma          A  BAO_0002115   \n",
       "\n",
       "     bao_format              bao_label  \\\n",
       "17  BAO_0000219      cell-based format   \n",
       "18  BAO_0000219      cell-based format   \n",
       "19  BAO_0000019           assay format   \n",
       "20  BAO_0000218  organism-based format   \n",
       "21  BAO_0000366       cell-free format   \n",
       "\n",
       "                                  canonical_smiles  ...  \\\n",
       "17  Cc1cn(C2C=CC(COC(=O)CN3CCNCC3)O2)c(=O)[nH]c1=O  ...   \n",
       "18  Cc1cn(C2C=CC(COC(=O)CN3CCNCC3)O2)c(=O)[nH]c1=O  ...   \n",
       "19  Cc1cn(C2C=CC(COC(=O)CN3CCNCC3)O2)c(=O)[nH]c1=O  ...   \n",
       "20  Cc1cn(C2C=CC(COC(=O)CN3CCNCC3)O2)c(=O)[nH]c1=O  ...   \n",
       "21  Cc1cn(C2C=CC(COC(=O)CN3CCNCC3)O2)c(=O)[nH]c1=O  ...   \n",
       "\n",
       "               target_organism            target_pref_name target_tax_id  \\\n",
       "17                Homo sapiens                    CCRF-CEM        9606.0   \n",
       "18                Homo sapiens                    CCRF-CEM        9606.0   \n",
       "19                         NaN                   Unchecked           NaN   \n",
       "20  Mycobacterium tuberculosis  Mycobacterium tuberculosis        1773.0   \n",
       "21                         NaN                       ADMET           NaN   \n",
       "\n",
       "   text_value  toid               type units    uo_units upper_value  \\\n",
       "17        NaN   NaN               EC50    uM  UO_0000065         NaN   \n",
       "18        NaN   NaN               CC50    uM  UO_0000065         NaN   \n",
       "19        NaN   NaN  Selectivity index    uM  UO_0000064         NaN   \n",
       "20        NaN   NaN         Inhibition   NaN         NaN         NaN   \n",
       "21        NaN   NaN               T1/2   min  UO_0000032         NaN   \n",
       "\n",
       "         value  \n",
       "17      0.0636  \n",
       "18   1000.0000  \n",
       "19  15723.0000  \n",
       "20         NaN  \n",
       "21     20.0000  \n",
       "\n",
       "[5 rows x 43 columns]"
      ],
      "text/html": "<div>\n<style scoped>\n    .dataframe tbody tr th:only-of-type {\n        vertical-align: middle;\n    }\n\n    .dataframe tbody tr th {\n        vertical-align: top;\n    }\n\n    .dataframe thead th {\n        text-align: right;\n    }\n</style>\n<table border=\"1\" class=\"dataframe\">\n  <thead>\n    <tr style=\"text-align: right;\">\n      <th></th>\n      <th>activity_comment</th>\n      <th>activity_id</th>\n      <th>activity_properties</th>\n      <th>assay_chembl_id</th>\n      <th>assay_description</th>\n      <th>assay_type</th>\n      <th>bao_endpoint</th>\n      <th>bao_format</th>\n      <th>bao_label</th>\n      <th>canonical_smiles</th>\n      <th>...</th>\n      <th>target_organism</th>\n      <th>target_pref_name</th>\n      <th>target_tax_id</th>\n      <th>text_value</th>\n      <th>toid</th>\n      <th>type</th>\n      <th>units</th>\n      <th>uo_units</th>\n      <th>upper_value</th>\n      <th>value</th>\n    </tr>\n  </thead>\n  <tbody>\n    <tr>\n      <th>17</th>\n      <td>NaN</td>\n      <td>31880</td>\n      <td>[]</td>\n      <td>CHEMBL651396</td>\n      <td>Effective concentration of compound achieving ...</td>\n      <td>F</td>\n      <td>BAO_0000188</td>\n      <td>BAO_0000219</td>\n      <td>cell-based format</td>\n      <td>Cc1cn(C2C=CC(COC(=O)CN3CCNCC3)O2)c(=O)[nH]c1=O</td>\n      <td>...</td>\n      <td>Homo sapiens</td>\n      <td>CCRF-CEM</td>\n      <td>9606.0</td>\n      <td>NaN</td>\n      <td>NaN</td>\n      <td>EC50</td>\n      <td>uM</td>\n      <td>UO_0000065</td>\n      <td>NaN</td>\n      <td>0.0636</td>\n    </tr>\n    <tr>\n      <th>18</th>\n      <td>NaN</td>\n      <td>31881</td>\n      <td>[]</td>\n      <td>CHEMBL657398</td>\n      <td>Cytotoxic concentration of compound required t...</td>\n      <td>F</td>\n      <td>BAO_0000187</td>\n      <td>BAO_0000219</td>\n      <td>cell-based format</td>\n      <td>Cc1cn(C2C=CC(COC(=O)CN3CCNCC3)O2)c(=O)[nH]c1=O</td>\n      <td>...</td>\n      <td>Homo sapiens</td>\n      <td>CCRF-CEM</td>\n      <td>9606.0</td>\n      <td>NaN</td>\n      <td>NaN</td>\n      <td>CC50</td>\n      <td>uM</td>\n      <td>UO_0000065</td>\n      <td>NaN</td>\n      <td>1000.0000</td>\n    </tr>\n    <tr>\n      <th>19</th>\n      <td>NaN</td>\n      <td>31882</td>\n      <td>[]</td>\n      <td>CHEMBL845142</td>\n      <td>Selectivity index expressed as the ratio of CC...</td>\n      <td>F</td>\n      <td>BAO_0000179</td>\n      <td>BAO_0000019</td>\n      <td>assay format</td>\n      <td>Cc1cn(C2C=CC(COC(=O)CN3CCNCC3)O2)c(=O)[nH]c1=O</td>\n      <td>...</td>\n      <td>NaN</td>\n      <td>Unchecked</td>\n      <td>NaN</td>\n      <td>NaN</td>\n      <td>NaN</td>\n      <td>Selectivity index</td>\n      <td>uM</td>\n      <td>UO_0000064</td>\n      <td>NaN</td>\n      <td>15723.0000</td>\n    </tr>\n    <tr>\n      <th>20</th>\n      <td>Not Determined</td>\n      <td>31883</td>\n      <td>[]</td>\n      <td>CHEMBL752464</td>\n      <td>Antimycobacterial activity against Mycobacteri...</td>\n      <td>F</td>\n      <td>BAO_0000376</td>\n      <td>BAO_0000218</td>\n      <td>organism-based format</td>\n      <td>Cc1cn(C2C=CC(COC(=O)CN3CCNCC3)O2)c(=O)[nH]c1=O</td>\n      <td>...</td>\n      <td>Mycobacterium tuberculosis</td>\n      <td>Mycobacterium tuberculosis</td>\n      <td>1773.0</td>\n      <td>NaN</td>\n      <td>NaN</td>\n      <td>Inhibition</td>\n      <td>NaN</td>\n      <td>NaN</td>\n      <td>NaN</td>\n      <td>NaN</td>\n    </tr>\n    <tr>\n      <th>21</th>\n      <td>NaN</td>\n      <td>31884</td>\n      <td>[]</td>\n      <td>CHEMBL618375</td>\n      <td>In vitro hydrolysis in human plasma</td>\n      <td>A</td>\n      <td>BAO_0002115</td>\n      <td>BAO_0000366</td>\n      <td>cell-free format</td>\n      <td>Cc1cn(C2C=CC(COC(=O)CN3CCNCC3)O2)c(=O)[nH]c1=O</td>\n      <td>...</td>\n      <td>NaN</td>\n      <td>ADMET</td>\n      <td>NaN</td>\n      <td>NaN</td>\n      <td>NaN</td>\n      <td>T1/2</td>\n      <td>min</td>\n      <td>UO_0000032</td>\n      <td>NaN</td>\n      <td>20.0000</td>\n    </tr>\n  </tbody>\n</table>\n<p>5 rows × 43 columns</p>\n</div>"
     },
     "metadata": {},
     "execution_count": 5
    }
   ],
   "source": [
    "# get assays involving molecules without complex chiral centers since gentrl cannot encode them\n",
    "# for some reason, gentrl doesn't encode selenium or phosphorus so we remove them for now -> will look into this\n",
    "assays_no_cx_chir = assays[assays[\"canonical_smiles\"].str.contains(\"@|I|[\\+]|\\-|\\.|\\/|Se|P|7|8\") == False]\n",
    "assays_no_cx_chir.head()"
   ]
  },
  {
   "cell_type": "code",
   "execution_count": 6,
   "metadata": {},
   "outputs": [
    {
     "output_type": "execute_result",
     "data": {
      "text/plain": [
       "tensor([ 1., 23., 10., 24., 10., 18., 22., 23.,  3., 23., 13., 23., 23., 22.,\n",
       "        23.,  9., 23., 22., 13.,  9., 15., 23.,  6., 14., 23., 23.,  6., 23.,\n",
       "        23., 14., 15.,  9.,  3., 15., 10., 22., 13.,  9., 15.,  7., 18., 21.,\n",
       "        11., 10., 24., 13.,  9.,  2.,  2.,  2.])"
      ]
     },
     "metadata": {},
     "execution_count": 6
    }
   ],
   "source": [
    "molecules = gentrl.tokenizer.encode(assays_no_cx_chir[\"canonical_smiles\"])[0].float()  # encode SMIl\n",
    "molecules[0]  # an example molecule"
   ]
  },
  {
   "cell_type": "code",
   "execution_count": 60,
   "metadata": {},
   "outputs": [
    {
     "output_type": "execute_result",
     "data": {
      "text/plain": [
       "torch.Size([10067, 50])"
      ]
     },
     "metadata": {},
     "execution_count": 60
    }
   ],
   "source": [
    "molecules.shape"
   ]
  },
  {
   "cell_type": "markdown",
   "metadata": {},
   "source": [
    "## Encoder time!\n",
    "Let's see how our encoder works. When we pass in this 50-dimensional vector, it will spit out a 10-dimension vector, 5 dimensions to encode a mean, 5 for standard deviation in variational autoencoder's latent space. Essentially, each molecule becomes a distribution, then it's reconstruction is a sample from this distribution."
   ]
  },
  {
   "cell_type": "code",
   "execution_count": 7,
   "metadata": {},
   "outputs": [
    {
     "output_type": "stream",
     "name": "stdout",
     "text": [
      "reconstructred molecule (untrained VAE):\n tensor([[1.0000e+00, 1.3355e-03, 1.0000e+00, 0.0000e+00, 4.1989e-36, 0.0000e+00,\n         0.0000e+00, 0.0000e+00, 0.0000e+00, 0.0000e+00, 1.0000e+00, 1.4347e-38,\n         1.0000e+00, 2.6623e-35, 1.1020e-03, 1.0000e+00, 0.0000e+00, 0.0000e+00,\n         1.0000e+00, 1.0000e+00, 1.0000e+00, 0.0000e+00, 6.1429e-25, 0.0000e+00,\n         1.0000e+00, 1.0000e+00, 1.0000e+00, 1.0000e+00, 0.0000e+00, 1.0000e+00,\n         0.0000e+00, 0.0000e+00, 1.0000e+00, 1.0000e+00, 1.5686e-19, 2.5568e-22,\n         1.0000e+00, 1.0000e+00, 6.6948e-18, 1.0000e+00, 1.0000e+00, 4.5150e-10,\n         1.0000e+00, 1.2431e-12, 1.0000e+00, 1.0000e+00, 1.0000e+00, 0.0000e+00,\n         1.7119e-13, 3.5437e-17]]) \n\nencoded mean (untrained VAE):\n tensor([[ 12.9422,  -8.8463,  15.6615,   2.8145, -20.8087]])\nencoded standard deviation (untrained VAE):\n tensor([[ -3.6916,  14.5477,   0.2585, -23.0162, -18.7246]])\n"
     ]
    }
   ],
   "source": [
    "out = vae(molecules[0:1])\n",
    "print(\"reconstructred molecule (untrained VAE):\\n\", out[0].detach(), \"\\n\")\n",
    "print(\"encoded mean (untrained VAE):\\n\", out[1].detach())\n",
    "print(\"encoded standard deviation (untrained VAE):\\n\", out[2].detach())"
   ]
  },
  {
   "cell_type": "code",
   "execution_count": 8,
   "metadata": {},
   "outputs": [
    {
     "output_type": "stream",
     "name": "stdout",
     "text": [
      "Reconstructed SMILES (doesn't make much sense): ['']\n"
     ]
    }
   ],
   "source": [
    "# it should not make any sense as we try to convert this failed reconstructed vector into a SMILES string\n",
    "int_out = torch.tensor(out[0].detach(), dtype=int)\n",
    "print(\"Reconstructed SMILES (doesn't make much sense):\", gentrl.tokenizer.decode(int_out))"
   ]
  },
  {
   "cell_type": "markdown",
   "metadata": {},
   "source": [
    "## Time to train the VAE\n"
   ]
  },
  {
   "cell_type": "code",
   "execution_count": 9,
   "metadata": {},
   "outputs": [],
   "source": [
    "molecloader = tiny.dataset.molecloader(molecules)\n",
    "optimizer = optim.Adam(vae.parameters(), lr=1e-2)\n",
    "criterion = nn.BCELoss(reduction=\"sum\")"
   ]
  },
  {
   "cell_type": "code",
   "execution_count": 10,
   "metadata": {
    "tags": []
   },
   "outputs": [
    {
     "output_type": "stream",
     "name": "stdout",
     "text": [
      "epoch 1/20 started at 0.0000 s\n",
      "epoch_loss: 7.205274817850362e+23\n",
      "epoch 2/20 started at 0.4655 s\n",
      "epoch_loss: 62148057.19907311\n",
      "epoch 3/20 started at 0.9639 s\n",
      "epoch_loss: 86906728.23145342\n",
      "epoch 4/20 started at 1.4073 s\n",
      "epoch_loss: 213449.64518370808\n",
      "epoch 5/20 started at 1.8716 s\n",
      "epoch_loss: 118348.55338876459\n",
      "epoch 6/20 started at 2.3256 s\n",
      "epoch_loss: 310054.51866246475\n",
      "epoch 7/20 started at 2.8156 s\n",
      "epoch_loss: 6591491.110914399\n",
      "epoch 8/20 started at 3.3286 s\n",
      "epoch_loss: 19613124.646462355\n",
      "epoch 9/20 started at 3.8416 s\n",
      "epoch_loss: 757912.9861009815\n",
      "epoch 10/20 started at 4.3547 s\n",
      "epoch_loss: 1273495183524.467\n",
      "epoch 11/20 started at 4.8666 s\n",
      "epoch_loss: 35945.32612706438\n",
      "epoch 12/20 started at 5.3882 s\n",
      "epoch_loss: 83309.42953877509\n",
      "epoch 13/20 started at 5.9440 s\n",
      "epoch_loss: 4824.1162858794005\n",
      "epoch 14/20 started at 6.5099 s\n",
      "epoch_loss: 2338.2558582161046\n",
      "epoch 15/20 started at 7.0340 s\n",
      "epoch_loss: 2492.2321027924745\n",
      "epoch 16/20 started at 7.5549 s\n",
      "epoch_loss: 3228.391173930108\n",
      "epoch 17/20 started at 8.0788 s\n",
      "epoch_loss: 7219.51029639908\n",
      "epoch 18/20 started at 8.6987 s\n",
      "epoch_loss: 2307.496733073947\n",
      "epoch 19/20 started at 9.2788 s\n",
      "epoch_loss: 2282.0080323038223\n",
      "epoch 20/20 started at 9.8630 s\n",
      "epoch_loss: 2252.7128964194767\n"
     ]
    }
   ],
   "source": [
    "train_loss = tiny.train.simple_train(vae, molecloader, criterion, optimizer, num_epochs=20)"
   ]
  },
  {
   "cell_type": "markdown",
   "metadata": {},
   "source": [
    "## Results of a trained VAE"
   ]
  },
  {
   "cell_type": "code",
   "execution_count": 40,
   "metadata": {},
   "outputs": [
    {
     "output_type": "stream",
     "name": "stdout",
     "text": [
      "actual molecule:\n tensor([[ 1., 23., 10., 24., 10., 18., 22., 23.,  3., 23., 13., 23., 23., 22.,\n         23.,  9., 23., 22., 13.,  9., 15., 23.,  6., 14., 23., 23.,  6., 23.,\n         23., 14., 15.,  9.,  3., 15., 10., 22., 13.,  9., 15.,  7., 18., 21.,\n         11., 10., 24., 13.,  9.,  2.,  2.,  2.]])\nactual SMILES: ['Cc1cn(C2C=CC(COC(=O)CN3CCNCC3)O2)c(=O)[nH]c1=O'] \n\nreconstructed molecule:\n tensor([[ 1, 18, 15, 19, 19, 14, 14, 14, 16, 15, 15, 15, 14, 14, 15, 14, 14, 14,\n         14, 13, 13, 13, 13, 12, 13, 13, 12, 12, 12, 11, 11, 11, 11, 10, 10, 10,\n         10,  9,  9,  9,  8,  8,  8,  7,  7,  7,  6,  6,  5,  2]])\nreconstructed SMILES: ['n)oo3334)))33)3333====#==###]]]]ccccOOO666[[[NNCl'] \n\n"
     ]
    }
   ],
   "source": [
    "# let's try on one molecule\n",
    "print(\"actual molecule:\\n\", molecules[0:1])\n",
    "print(\"actual SMILES:\", gentrl.tokenizer.decode(molecules[0:1]), \"\\n\")\n",
    "\n",
    "recon = torch.tensor(vae(molecules[0:1])[0].detach() * 27, dtype=int)\n",
    "print(\"reconstructed molecule:\\n\", recon)\n",
    "print(\"reconstructed SMILES:\", gentrl.tokenizer.decode(recon), \"\\n\")"
   ]
  },
  {
   "cell_type": "code",
   "execution_count": 57,
   "metadata": {},
   "outputs": [
    {
     "output_type": "execute_result",
     "data": {
      "text/plain": [
       "['Cc1cn(C2C=CC(COC(=O)CN3CCNCC3)O2)c(=O)[nH]c1=O']"
      ]
     },
     "metadata": {},
     "execution_count": 57
    }
   ],
   "source": [
    "gentrl.tokenizer.decode(molecules[0:1])"
   ]
  },
  {
   "cell_type": "code",
   "execution_count": 58,
   "metadata": {},
   "outputs": [
    {
     "output_type": "execute_result",
     "data": {
      "text/plain": [
       "tensor([[ 1., 23., 10., 24., 10., 18., 22., 23.,  3., 23., 13., 23., 23., 22.,\n",
       "         23.,  9., 23., 22., 13.,  9., 15., 23.,  6., 14., 23., 23.,  6., 23.,\n",
       "         23., 14., 15.,  9.,  3., 15., 10., 22., 13.,  9., 15.,  7., 18., 21.,\n",
       "         11., 10., 24., 13.,  9.,  2.,  2.,  2.]])"
      ]
     },
     "metadata": {},
     "execution_count": 58
    }
   ],
   "source": [
    "molecules[0:1]"
   ]
  },
  {
   "source": [
    "vae(molecules[0:4])"
   ],
   "cell_type": "code",
   "metadata": {},
   "execution_count": 51,
   "outputs": [
    {
     "output_type": "execute_result",
     "data": {
      "text/plain": [
       "(tensor([[0.0371, 0.6738, 0.5596, 0.7108, 0.7307, 0.5334, 0.5310, 0.5520, 0.5989,\n",
       "          0.5779, 0.5747, 0.5562, 0.5529, 0.5246, 0.5623, 0.5379, 0.5303, 0.5372,\n",
       "          0.5317, 0.5081, 0.4953, 0.5006, 0.5079, 0.4620, 0.4987, 0.4826, 0.4637,\n",
       "          0.4576, 0.4569, 0.4363, 0.4103, 0.4255, 0.4094, 0.4036, 0.4002, 0.3885,\n",
       "          0.3966, 0.3632, 0.3575, 0.3369, 0.3151, 0.3179, 0.3192, 0.2866, 0.2682,\n",
       "          0.2670, 0.2394, 0.2331, 0.2220, 0.0741],\n",
       "         [0.0371, 0.6738, 0.5596, 0.7108, 0.7307, 0.5334, 0.5310, 0.5520, 0.5989,\n",
       "          0.5779, 0.5747, 0.5562, 0.5529, 0.5246, 0.5623, 0.5379, 0.5303, 0.5372,\n",
       "          0.5317, 0.5081, 0.4953, 0.5006, 0.5079, 0.4620, 0.4987, 0.4826, 0.4637,\n",
       "          0.4576, 0.4569, 0.4363, 0.4103, 0.4255, 0.4094, 0.4036, 0.4002, 0.3885,\n",
       "          0.3966, 0.3632, 0.3575, 0.3369, 0.3151, 0.3179, 0.3192, 0.2866, 0.2682,\n",
       "          0.2670, 0.2394, 0.2331, 0.2220, 0.0741],\n",
       "         [0.0371, 0.6738, 0.5596, 0.7108, 0.7307, 0.5334, 0.5310, 0.5520, 0.5989,\n",
       "          0.5779, 0.5747, 0.5562, 0.5529, 0.5246, 0.5623, 0.5379, 0.5303, 0.5372,\n",
       "          0.5317, 0.5081, 0.4953, 0.5006, 0.5079, 0.4620, 0.4987, 0.4826, 0.4637,\n",
       "          0.4576, 0.4569, 0.4363, 0.4103, 0.4255, 0.4094, 0.4036, 0.4002, 0.3885,\n",
       "          0.3966, 0.3632, 0.3575, 0.3369, 0.3151, 0.3179, 0.3192, 0.2866, 0.2682,\n",
       "          0.2670, 0.2394, 0.2331, 0.2220, 0.0741],\n",
       "         [0.0371, 0.6738, 0.5596, 0.7108, 0.7307, 0.5334, 0.5310, 0.5520, 0.5989,\n",
       "          0.5779, 0.5747, 0.5562, 0.5529, 0.5246, 0.5623, 0.5379, 0.5303, 0.5372,\n",
       "          0.5317, 0.5081, 0.4953, 0.5006, 0.5079, 0.4620, 0.4987, 0.4826, 0.4637,\n",
       "          0.4576, 0.4569, 0.4363, 0.4103, 0.4255, 0.4094, 0.4036, 0.4002, 0.3885,\n",
       "          0.3966, 0.3632, 0.3575, 0.3369, 0.3151, 0.3179, 0.3192, 0.2866, 0.2682,\n",
       "          0.2670, 0.2394, 0.2331, 0.2220, 0.0741]], grad_fn=<SigmoidBackward>),\n",
       " tensor([[-0.0134, -0.0024, -0.0143,  0.0353,  0.0160],\n",
       "         [-0.0134, -0.0024, -0.0143,  0.0353,  0.0160],\n",
       "         [-0.0134, -0.0024, -0.0143,  0.0353,  0.0160],\n",
       "         [-0.0134, -0.0024, -0.0143,  0.0353,  0.0160]],\n",
       "        grad_fn=<SliceBackward>),\n",
       " tensor([[-0.0561, -0.1404, -0.0987, -0.0221, -0.2753],\n",
       "         [-0.0561, -0.1404, -0.0987, -0.0221, -0.2753],\n",
       "         [-0.0561, -0.1404, -0.0987, -0.0221, -0.2753],\n",
       "         [-0.0561, -0.1404, -0.0987, -0.0221, -0.2753]],\n",
       "        grad_fn=<SliceBackward>))"
      ]
     },
     "metadata": {},
     "execution_count": 51
    }
   ]
  },
  {
   "cell_type": "code",
   "execution_count": 55,
   "metadata": {},
   "outputs": [
    {
     "output_type": "error",
     "ename": "TypeError",
     "evalue": "'method' object is not iterable",
     "traceback": [
      "\u001b[0;31m---------------------------------------------------------------------------\u001b[0m",
      "\u001b[0;31mTypeError\u001b[0m                                 Traceback (most recent call last)",
      "\u001b[0;32m<ipython-input-55-eeb85e4f7e1c>\u001b[0m in \u001b[0;36m<module>\u001b[0;34m\u001b[0m\n\u001b[0;32m----> 1\u001b[0;31m \u001b[0mlist\u001b[0m\u001b[0;34m(\u001b[0m\u001b[0mvae\u001b[0m\u001b[0;34m.\u001b[0m\u001b[0mparameters\u001b[0m\u001b[0;34m)\u001b[0m\u001b[0;34m\u001b[0m\u001b[0;34m\u001b[0m\u001b[0m\n\u001b[0m",
      "\u001b[0;31mTypeError\u001b[0m: 'method' object is not iterable"
     ]
    }
   ],
   "source": [
    "vae.parameters"
   ]
  },
  {
   "cell_type": "markdown",
   "metadata": {},
   "source": [
    "## What's wrong\n",
    "I ran the reconstructed tensor through a sigmoid function to use for binary cross entropy (typical loss function for classification problems) but it's not comparable to the tensors of natural numbers from the original samples. I should be using evidence lower bound (ELBO) loss."
   ]
  },
  {
   "cell_type": "code",
   "execution_count": 183,
   "metadata": {},
   "outputs": [
    {
     "output_type": "execute_result",
     "data": {
      "text/plain": [
       "['Cc1cn(C2C=CC(COC(=O)CN3CCNCC3)O2)c(=O)[nH]c1=O']"
      ]
     },
     "metadata": {},
     "execution_count": 183
    }
   ],
   "source": [
    "gentrl.tokenizer.decode(molecules[0:1])"
   ]
  },
  {
   "cell_type": "code",
   "execution_count": 184,
   "metadata": {},
   "outputs": [],
   "source": [
    "from copy import deepcopy\n",
    "a = deepcopy(molecules[0:1])\n",
    "a[0][1] -= 1"
   ]
  },
  {
   "cell_type": "code",
   "execution_count": 185,
   "metadata": {},
   "outputs": [
    {
     "output_type": "execute_result",
     "data": {
      "text/plain": [
       "['(c1cn(C2C=CC(COC(=O)CN3CCNCC3)O2)c(=O)[nH]c1=O']"
      ]
     },
     "metadata": {},
     "execution_count": 185
    }
   ],
   "source": [
    "gentrl.tokenizer.decode(a)"
   ]
  },
  {
   "cell_type": "code",
   "execution_count": 42,
   "metadata": {},
   "outputs": [
    {
     "output_type": "execute_result",
     "data": {
      "text/plain": [
       "['n)oo3334)))33)3333====#==###]]]]ccccOOO666[[[NNCl',\n",
       " 'n)oo3334)))33)3333====#==###]]]]ccccOOO666[[[NNCl',\n",
       " 'n)oo3334)))33)3333====#==###]]]]ccccOOO666[[[NNCl',\n",
       " 'n)oo3334)))33)3333====#==###]]]]ccccOOO666[[[NNCl',\n",
       " 'n)oo3334)))33)3333====#==###]]]]ccccOOO666[[[NNCl',\n",
       " 'n)oo3334)))33)3333====#==###]]]]ccccOOO666[[[NNCl',\n",
       " 'n)oo3334)))33)3333====#==###]]]]ccccOOO666[[[NNCl',\n",
       " 'n)oo3334)))33)3333====#==###]]]]ccccOOO666[[[NNCl',\n",
       " 'n)oo3334)))33)3333====#==###]]]]ccccOOO666[[[NNCl',\n",
       " 'n)oo3334)))33)3333====#==###]]]]ccccOOO666[[[NNCl',\n",
       " 'n)oo3334)))33)3333====#==###]]]]ccccOOO666[[[NNCl',\n",
       " 'n)oo3334)))33)3333====#==###]]]]ccccOOO666[[[NNCl',\n",
       " 'n)oo3334)))33)3333====#==###]]]]ccccOOO666[[[NNCl',\n",
       " 'n)oo3334)))33)3333====#==###]]]]ccccOOO666[[[NNCl',\n",
       " 'n)oo3334)))33)3333====#==###]]]]ccccOOO666[[[NNCl',\n",
       " 'n)oo3334)))33)3333====#==###]]]]ccccOOO666[[[NNCl',\n",
       " 'n)oo3334)))33)3333====#==###]]]]ccccOOO666[[[NNCl',\n",
       " 'n)oo3334)))33)3333====#==###]]]]ccccOOO666[[[NNCl',\n",
       " 'n)oo3334)))33)3333====#==###]]]]ccccOOO666[[[NNCl',\n",
       " 'n)oo3334)))33)3333====#==###]]]]ccccOOO666[[[NNCl',\n",
       " 'n)oo3334)))33)3333====#==###]]]]ccccOOO666[[[NNCl',\n",
       " 'n)oo3334)))33)3333====#==###]]]]ccccOOO666[[[NNCl',\n",
       " 'n)oo3334)))33)3333====#==###]]]]ccccOOO666[[[NNCl',\n",
       " 'n)oo3334)))33)3333====#==###]]]]ccccOOO666[[[NNCl',\n",
       " 'n)oo3334)))33)3333====#==###]]]]ccccOOO666[[[NNCl',\n",
       " 'n)oo3334)))33)3333====#==###]]]]ccccOOO666[[[NNCl',\n",
       " 'n)oo3334)))33)3333====#==###]]]]ccccOOO666[[[NNCl',\n",
       " 'n)oo3334)))33)3333====#==###]]]]ccccOOO666[[[NNCl',\n",
       " 'n)oo3334)))33)3333====#==###]]]]ccccOOO666[[[NNCl',\n",
       " 'n)oo3334)))33)3333====#==###]]]]ccccOOO666[[[NNCl',\n",
       " 'n)oo3334)))33)3333====#==###]]]]ccccOOO666[[[NNCl',\n",
       " 'n)oo3334)))33)3333====#==###]]]]ccccOOO666[[[NNCl',\n",
       " 'n)oo3334)))33)3333====#==###]]]]ccccOOO666[[[NNCl',\n",
       " 'n)oo3334)))33)3333====#==###]]]]ccccOOO666[[[NNCl',\n",
       " 'n)oo3334)))33)3333====#==###]]]]ccccOOO666[[[NNCl',\n",
       " 'n)oo3334)))33)3333====#==###]]]]ccccOOO666[[[NNCl',\n",
       " 'n)oo3334)))33)3333====#==###]]]]ccccOOO666[[[NNCl',\n",
       " 'n)oo3334)))33)3333====#==###]]]]ccccOOO666[[[NNCl',\n",
       " 'n)oo3334)))33)3333====#==###]]]]ccccOOO666[[[NNCl',\n",
       " 'n)oo3334)))33)3333====#==###]]]]ccccOOO666[[[NNCl',\n",
       " 'n)oo3334)))33)3333====#==###]]]]ccccOOO666[[[NNCl',\n",
       " 'n)oo3334)))33)3333====#==###]]]]ccccOOO666[[[NNCl',\n",
       " 'n)oo3334)))33)3333====#==###]]]]ccccOOO666[[[NNCl',\n",
       " 'n)oo3334)))33)3333====#==###]]]]ccccOOO666[[[NNCl',\n",
       " 'n)oo3334)))33)3333====#==###]]]]ccccOOO666[[[NNCl',\n",
       " 'n)oo3334)))33)3333====#==###]]]]ccccOOO666[[[NNCl',\n",
       " 'n)oo3334)))33)3333====#==###]]]]ccccOOO666[[[NNCl',\n",
       " 'n)oo3334)))33)3333====#==###]]]]ccccOOO666[[[NNCl',\n",
       " 'n)oo3334)))33)3333====#==###]]]]ccccOOO666[[[NNCl',\n",
       " 'n)oo3334)))33)3333====#==###]]]]ccccOOO666[[[NNCl',\n",
       " 'n)oo3334)))33)3333====#==###]]]]ccccOOO666[[[NNCl',\n",
       " 'n)oo3334)))33)3333====#==###]]]]ccccOOO666[[[NNCl',\n",
       " 'n)oo3334)))33)3333====#==###]]]]ccccOOO666[[[NNCl',\n",
       " 'n)oo3334)))33)3333====#==###]]]]ccccOOO666[[[NNCl',\n",
       " 'n)oo3334)))33)3333====#==###]]]]ccccOOO666[[[NNCl',\n",
       " 'n)oo3334)))33)3333====#==###]]]]ccccOOO666[[[NNCl',\n",
       " 'n)oo3334)))33)3333====#==###]]]]ccccOOO666[[[NNCl',\n",
       " 'n)oo3334)))33)3333====#==###]]]]ccccOOO666[[[NNCl',\n",
       " 'n)oo3334)))33)3333====#==###]]]]ccccOOO666[[[NNCl',\n",
       " 'n)oo3334)))33)3333====#==###]]]]ccccOOO666[[[NNCl',\n",
       " 'n)oo3334)))33)3333====#==###]]]]ccccOOO666[[[NNCl',\n",
       " 'n)oo3334)))33)3333====#==###]]]]ccccOOO666[[[NNCl',\n",
       " 'n)oo3334)))33)3333====#==###]]]]ccccOOO666[[[NNCl',\n",
       " 'n)oo3334)))33)3333====#==###]]]]ccccOOO666[[[NNCl',\n",
       " 'n)oo3334)))33)3333====#==###]]]]ccccOOO666[[[NNCl',\n",
       " 'n)oo3334)))33)3333====#==###]]]]ccccOOO666[[[NNCl',\n",
       " 'n)oo3334)))33)3333====#==###]]]]ccccOOO666[[[NNCl',\n",
       " 'n)oo3334)))33)3333====#==###]]]]ccccOOO666[[[NNCl',\n",
       " 'n)oo3334)))33)3333====#==###]]]]ccccOOO666[[[NNCl',\n",
       " 'n)oo3334)))33)3333====#==###]]]]ccccOOO666[[[NNCl',\n",
       " 'n)oo3334)))33)3333====#==###]]]]ccccOOO666[[[NNCl',\n",
       " 'n)oo3334)))33)3333====#==###]]]]ccccOOO666[[[NNCl',\n",
       " 'n)oo3334)))33)3333====#==###]]]]ccccOOO666[[[NNCl',\n",
       " 'n)oo3334)))33)3333====#==###]]]]ccccOOO666[[[NNCl',\n",
       " 'n)oo3334)))33)3333====#==###]]]]ccccOOO666[[[NNCl',\n",
       " 'n)oo3334)))33)3333====#==###]]]]ccccOOO666[[[NNCl',\n",
       " 'n)oo3334)))33)3333====#==###]]]]ccccOOO666[[[NNCl',\n",
       " 'n)oo3334)))33)3333====#==###]]]]ccccOOO666[[[NNCl',\n",
       " 'n)oo3334)))33)3333====#==###]]]]ccccOOO666[[[NNCl',\n",
       " 'n)oo3334)))33)3333====#==###]]]]ccccOOO666[[[NNCl',\n",
       " 'n)oo3334)))33)3333====#==###]]]]ccccOOO666[[[NNCl',\n",
       " 'n)oo3334)))33)3333====#==###]]]]ccccOOO666[[[NNCl',\n",
       " 'n)oo3334)))33)3333====#==###]]]]ccccOOO666[[[NNCl',\n",
       " 'n)oo3334)))33)3333====#==###]]]]ccccOOO666[[[NNCl',\n",
       " 'n)oo3334)))33)3333====#==###]]]]ccccOOO666[[[NNCl',\n",
       " 'n)oo3334)))33)3333====#==###]]]]ccccOOO666[[[NNCl',\n",
       " 'n)oo3334)))33)3333====#==###]]]]ccccOOO666[[[NNCl',\n",
       " 'n)oo3334)))33)3333====#==###]]]]ccccOOO666[[[NNCl',\n",
       " 'n)oo3334)))33)3333====#==###]]]]ccccOOO666[[[NNCl',\n",
       " 'n)oo3334)))33)3333====#==###]]]]ccccOOO666[[[NNCl',\n",
       " 'n)oo3334)))33)3333====#==###]]]]ccccOOO666[[[NNCl',\n",
       " 'n)oo3334)))33)3333====#==###]]]]ccccOOO666[[[NNCl',\n",
       " 'n)oo3334)))33)3333====#==###]]]]ccccOOO666[[[NNCl',\n",
       " 'n)oo3334)))33)3333====#==###]]]]ccccOOO666[[[NNCl',\n",
       " 'n)oo3334)))33)3333====#==###]]]]ccccOOO666[[[NNCl',\n",
       " 'n)oo3334)))33)3333====#==###]]]]ccccOOO666[[[NNCl',\n",
       " 'n)oo3334)))33)3333====#==###]]]]ccccOOO666[[[NNCl',\n",
       " 'n)oo3334)))33)3333====#==###]]]]ccccOOO666[[[NNCl',\n",
       " 'n)oo3334)))33)3333====#==###]]]]ccccOOO666[[[NNCl',\n",
       " 'n)oo3334)))33)3333====#==###]]]]ccccOOO666[[[NNCl']"
      ]
     },
     "metadata": {},
     "execution_count": 42
    }
   ],
   "source": [
    "gentrl.tokenizer.decode(torch.tensor(vae(molecules[0:100])[0].detach() * 27, dtype=int))"
   ]
  },
  {
   "cell_type": "code",
   "execution_count": 187,
   "metadata": {},
   "outputs": [
    {
     "output_type": "error",
     "ename": "ZeroDivisionError",
     "evalue": "division by zero",
     "traceback": [
      "\u001b[0;31m---------------------------------------------------------------------------\u001b[0m",
      "\u001b[0;31mZeroDivisionError\u001b[0m                         Traceback (most recent call last)",
      "\u001b[0;32m<ipython-input-187-9538da275d0b>\u001b[0m in \u001b[0;36m<module>\u001b[0;34m\u001b[0m\n\u001b[0;32m----> 1\u001b[0;31m \u001b[0mmoses\u001b[0m\u001b[0;34m.\u001b[0m\u001b[0mget_all_metrics\u001b[0m\u001b[0;34m(\u001b[0m\u001b[0mgentrl\u001b[0m\u001b[0;34m.\u001b[0m\u001b[0mtokenizer\u001b[0m\u001b[0;34m.\u001b[0m\u001b[0mdecode\u001b[0m\u001b[0;34m(\u001b[0m\u001b[0mtorch\u001b[0m\u001b[0;34m.\u001b[0m\u001b[0mtensor\u001b[0m\u001b[0;34m(\u001b[0m\u001b[0mvae\u001b[0m\u001b[0;34m(\u001b[0m\u001b[0mmolecules\u001b[0m\u001b[0;34m[\u001b[0m\u001b[0;36m0\u001b[0m\u001b[0;34m:\u001b[0m\u001b[0;36m1\u001b[0m\u001b[0;34m]\u001b[0m\u001b[0;34m)\u001b[0m\u001b[0;34m[\u001b[0m\u001b[0;36m0\u001b[0m\u001b[0;34m]\u001b[0m\u001b[0;34m.\u001b[0m\u001b[0mdetach\u001b[0m\u001b[0;34m(\u001b[0m\u001b[0;34m)\u001b[0m\u001b[0;34m,\u001b[0m \u001b[0mdtype\u001b[0m\u001b[0;34m=\u001b[0m\u001b[0mint\u001b[0m\u001b[0;34m)\u001b[0m\u001b[0;34m)\u001b[0m\u001b[0;34m)\u001b[0m\u001b[0;34m\u001b[0m\u001b[0;34m\u001b[0m\u001b[0m\n\u001b[0m",
      "\u001b[0;32m~/miniconda3/envs/tinymolecule/lib/python3.6/site-packages/moses/metrics/metrics.py\u001b[0m in \u001b[0;36mget_all_metrics\u001b[0;34m(gen, k, n_jobs, device, batch_size, pool, test, test_scaffolds, ptest, ptest_scaffolds, train)\u001b[0m\n\u001b[1;32m     93\u001b[0m         \u001b[0mk\u001b[0m \u001b[0;34m=\u001b[0m \u001b[0;34m[\u001b[0m\u001b[0mk\u001b[0m\u001b[0;34m]\u001b[0m\u001b[0;34m\u001b[0m\u001b[0;34m\u001b[0m\u001b[0m\n\u001b[1;32m     94\u001b[0m     \u001b[0;32mfor\u001b[0m \u001b[0m_k\u001b[0m \u001b[0;32min\u001b[0m \u001b[0mk\u001b[0m\u001b[0;34m:\u001b[0m\u001b[0;34m\u001b[0m\u001b[0;34m\u001b[0m\u001b[0m\n\u001b[0;32m---> 95\u001b[0;31m         \u001b[0mmetrics\u001b[0m\u001b[0;34m[\u001b[0m\u001b[0;34m'unique@{}'\u001b[0m\u001b[0;34m.\u001b[0m\u001b[0mformat\u001b[0m\u001b[0;34m(\u001b[0m\u001b[0m_k\u001b[0m\u001b[0;34m)\u001b[0m\u001b[0;34m]\u001b[0m \u001b[0;34m=\u001b[0m \u001b[0mfraction_unique\u001b[0m\u001b[0;34m(\u001b[0m\u001b[0mgen\u001b[0m\u001b[0;34m,\u001b[0m \u001b[0m_k\u001b[0m\u001b[0;34m,\u001b[0m \u001b[0mpool\u001b[0m\u001b[0;34m)\u001b[0m\u001b[0;34m\u001b[0m\u001b[0;34m\u001b[0m\u001b[0m\n\u001b[0m\u001b[1;32m     96\u001b[0m \u001b[0;34m\u001b[0m\u001b[0m\n\u001b[1;32m     97\u001b[0m     \u001b[0;32mif\u001b[0m \u001b[0mptest\u001b[0m \u001b[0;32mis\u001b[0m \u001b[0;32mNone\u001b[0m\u001b[0;34m:\u001b[0m\u001b[0;34m\u001b[0m\u001b[0;34m\u001b[0m\u001b[0m\n",
      "\u001b[0;32m~/miniconda3/envs/tinymolecule/lib/python3.6/site-packages/moses/metrics/metrics.py\u001b[0m in \u001b[0;36mfraction_unique\u001b[0;34m(gen, k, n_jobs, check_validity)\u001b[0m\n\u001b[1;32m    221\u001b[0m     \u001b[0;32mif\u001b[0m \u001b[0;32mNone\u001b[0m \u001b[0;32min\u001b[0m \u001b[0mcanonic\u001b[0m \u001b[0;32mand\u001b[0m \u001b[0mcheck_validity\u001b[0m\u001b[0;34m:\u001b[0m\u001b[0;34m\u001b[0m\u001b[0;34m\u001b[0m\u001b[0m\n\u001b[1;32m    222\u001b[0m         \u001b[0;32mraise\u001b[0m \u001b[0mValueError\u001b[0m\u001b[0;34m(\u001b[0m\u001b[0;34m\"Invalid molecule passed to unique@k\"\u001b[0m\u001b[0;34m)\u001b[0m\u001b[0;34m\u001b[0m\u001b[0;34m\u001b[0m\u001b[0m\n\u001b[0;32m--> 223\u001b[0;31m     \u001b[0;32mreturn\u001b[0m \u001b[0mlen\u001b[0m\u001b[0;34m(\u001b[0m\u001b[0mcanonic\u001b[0m\u001b[0;34m)\u001b[0m \u001b[0;34m/\u001b[0m \u001b[0mlen\u001b[0m\u001b[0;34m(\u001b[0m\u001b[0mgen\u001b[0m\u001b[0;34m)\u001b[0m\u001b[0;34m\u001b[0m\u001b[0;34m\u001b[0m\u001b[0m\n\u001b[0m\u001b[1;32m    224\u001b[0m \u001b[0;34m\u001b[0m\u001b[0m\n\u001b[1;32m    225\u001b[0m \u001b[0;34m\u001b[0m\u001b[0m\n",
      "\u001b[0;31mZeroDivisionError\u001b[0m: division by zero"
     ]
    }
   ],
   "source": [
    "moses.get_all_metrics(gentrl.tokenizer.decode(torch.tensor(vae(molecules[0:1])[0].detach(), dtype=int)))"
   ]
  },
  {
   "cell_type": "code",
   "execution_count": 95,
   "metadata": {},
   "outputs": [
    {
     "output_type": "execute_result",
     "data": {
      "text/plain": [
       "{'valid': 0.8069999999999999,\n",
       " 'unique@1000': 0.30607187112763323,\n",
       " 'unique@10000': 0.30607187112763323,\n",
       " 'FCD/Test': 19.45183701321632,\n",
       " 'SNN/Test': 0.4320562639570295,\n",
       " 'Frag/Test': 0.7859763272904042,\n",
       " 'Scaf/Test': 0.1744568673045227,\n",
       " 'FCD/TestSF': 19.83549232718582,\n",
       " 'SNN/TestSF': 0.4181724801345681,\n",
       " 'Frag/TestSF': 0.7868037320515826,\n",
       " 'Scaf/TestSF': 0.016005336136847514,\n",
       " 'IntDiv': 0.862626757393271,\n",
       " 'IntDiv2': 0.8331333931598097,\n",
       " 'Filters': 0.8946716232961586,\n",
       " 'logP': 0.5536426027350173,\n",
       " 'SA': 0.1375670362162745,\n",
       " 'QED': 0.1049100901271577,\n",
       " 'weight': 39.63517455010296,\n",
       " 'Novelty': 0.9959514170040485}"
      ]
     },
     "metadata": {},
     "execution_count": 95
    }
   ],
   "source": [
    "moses.get_all_metrics(gentrl.tokenizer.decode(molecules[0:1000]))"
   ]
  },
  {
   "cell_type": "code",
   "execution_count": 188,
   "metadata": {},
   "outputs": [],
   "source": [
    "all_atoms = \"\".join(assays_no_cx_chir[\"canonical_smiles\"].tolist())"
   ]
  },
  {
   "cell_type": "code",
   "execution_count": 189,
   "metadata": {},
   "outputs": [],
   "source": [
    "charvocab = moses.utils.OneHotVocab.from_data(assays_no_cx_chir[\"canonical_smiles\"])"
   ]
  },
  {
   "cell_type": "code",
   "execution_count": 190,
   "metadata": {},
   "outputs": [
    {
     "output_type": "execute_result",
     "data": {
      "text/plain": [
       "tensor([[1., 0., 0., 0., 0., 0., 0., 0., 0., 0., 0., 0., 0., 0., 0., 0., 0., 0.,\n",
       "         0., 0., 0., 0., 0., 0., 0., 0., 0., 0., 0.],\n",
       "        [0., 1., 0., 0., 0., 0., 0., 0., 0., 0., 0., 0., 0., 0., 0., 0., 0., 0.,\n",
       "         0., 0., 0., 0., 0., 0., 0., 0., 0., 0., 0.],\n",
       "        [0., 0., 1., 0., 0., 0., 0., 0., 0., 0., 0., 0., 0., 0., 0., 0., 0., 0.,\n",
       "         0., 0., 0., 0., 0., 0., 0., 0., 0., 0., 0.],\n",
       "        [0., 0., 0., 1., 0., 0., 0., 0., 0., 0., 0., 0., 0., 0., 0., 0., 0., 0.,\n",
       "         0., 0., 0., 0., 0., 0., 0., 0., 0., 0., 0.],\n",
       "        [0., 0., 0., 0., 1., 0., 0., 0., 0., 0., 0., 0., 0., 0., 0., 0., 0., 0.,\n",
       "         0., 0., 0., 0., 0., 0., 0., 0., 0., 0., 0.],\n",
       "        [0., 0., 0., 0., 0., 1., 0., 0., 0., 0., 0., 0., 0., 0., 0., 0., 0., 0.,\n",
       "         0., 0., 0., 0., 0., 0., 0., 0., 0., 0., 0.],\n",
       "        [0., 0., 0., 0., 0., 0., 1., 0., 0., 0., 0., 0., 0., 0., 0., 0., 0., 0.,\n",
       "         0., 0., 0., 0., 0., 0., 0., 0., 0., 0., 0.],\n",
       "        [0., 0., 0., 0., 0., 0., 0., 1., 0., 0., 0., 0., 0., 0., 0., 0., 0., 0.,\n",
       "         0., 0., 0., 0., 0., 0., 0., 0., 0., 0., 0.],\n",
       "        [0., 0., 0., 0., 0., 0., 0., 0., 1., 0., 0., 0., 0., 0., 0., 0., 0., 0.,\n",
       "         0., 0., 0., 0., 0., 0., 0., 0., 0., 0., 0.],\n",
       "        [0., 0., 0., 0., 0., 0., 0., 0., 0., 1., 0., 0., 0., 0., 0., 0., 0., 0.,\n",
       "         0., 0., 0., 0., 0., 0., 0., 0., 0., 0., 0.],\n",
       "        [0., 0., 0., 0., 0., 0., 0., 0., 0., 0., 1., 0., 0., 0., 0., 0., 0., 0.,\n",
       "         0., 0., 0., 0., 0., 0., 0., 0., 0., 0., 0.],\n",
       "        [0., 0., 0., 0., 0., 0., 0., 0., 0., 0., 0., 1., 0., 0., 0., 0., 0., 0.,\n",
       "         0., 0., 0., 0., 0., 0., 0., 0., 0., 0., 0.],\n",
       "        [0., 0., 0., 0., 0., 0., 0., 0., 0., 0., 0., 0., 1., 0., 0., 0., 0., 0.,\n",
       "         0., 0., 0., 0., 0., 0., 0., 0., 0., 0., 0.],\n",
       "        [0., 0., 0., 0., 0., 0., 0., 0., 0., 0., 0., 0., 0., 1., 0., 0., 0., 0.,\n",
       "         0., 0., 0., 0., 0., 0., 0., 0., 0., 0., 0.],\n",
       "        [0., 0., 0., 0., 0., 0., 0., 0., 0., 0., 0., 0., 0., 0., 1., 0., 0., 0.,\n",
       "         0., 0., 0., 0., 0., 0., 0., 0., 0., 0., 0.],\n",
       "        [0., 0., 0., 0., 0., 0., 0., 0., 0., 0., 0., 0., 0., 0., 0., 1., 0., 0.,\n",
       "         0., 0., 0., 0., 0., 0., 0., 0., 0., 0., 0.],\n",
       "        [0., 0., 0., 0., 0., 0., 0., 0., 0., 0., 0., 0., 0., 0., 0., 0., 1., 0.,\n",
       "         0., 0., 0., 0., 0., 0., 0., 0., 0., 0., 0.],\n",
       "        [0., 0., 0., 0., 0., 0., 0., 0., 0., 0., 0., 0., 0., 0., 0., 0., 0., 1.,\n",
       "         0., 0., 0., 0., 0., 0., 0., 0., 0., 0., 0.],\n",
       "        [0., 0., 0., 0., 0., 0., 0., 0., 0., 0., 0., 0., 0., 0., 0., 0., 0., 0.,\n",
       "         1., 0., 0., 0., 0., 0., 0., 0., 0., 0., 0.],\n",
       "        [0., 0., 0., 0., 0., 0., 0., 0., 0., 0., 0., 0., 0., 0., 0., 0., 0., 0.,\n",
       "         0., 1., 0., 0., 0., 0., 0., 0., 0., 0., 0.],\n",
       "        [0., 0., 0., 0., 0., 0., 0., 0., 0., 0., 0., 0., 0., 0., 0., 0., 0., 0.,\n",
       "         0., 0., 1., 0., 0., 0., 0., 0., 0., 0., 0.],\n",
       "        [0., 0., 0., 0., 0., 0., 0., 0., 0., 0., 0., 0., 0., 0., 0., 0., 0., 0.,\n",
       "         0., 0., 0., 1., 0., 0., 0., 0., 0., 0., 0.],\n",
       "        [0., 0., 0., 0., 0., 0., 0., 0., 0., 0., 0., 0., 0., 0., 0., 0., 0., 0.,\n",
       "         0., 0., 0., 0., 1., 0., 0., 0., 0., 0., 0.],\n",
       "        [0., 0., 0., 0., 0., 0., 0., 0., 0., 0., 0., 0., 0., 0., 0., 0., 0., 0.,\n",
       "         0., 0., 0., 0., 0., 1., 0., 0., 0., 0., 0.],\n",
       "        [0., 0., 0., 0., 0., 0., 0., 0., 0., 0., 0., 0., 0., 0., 0., 0., 0., 0.,\n",
       "         0., 0., 0., 0., 0., 0., 1., 0., 0., 0., 0.],\n",
       "        [0., 0., 0., 0., 0., 0., 0., 0., 0., 0., 0., 0., 0., 0., 0., 0., 0., 0.,\n",
       "         0., 0., 0., 0., 0., 0., 0., 1., 0., 0., 0.],\n",
       "        [0., 0., 0., 0., 0., 0., 0., 0., 0., 0., 0., 0., 0., 0., 0., 0., 0., 0.,\n",
       "         0., 0., 0., 0., 0., 0., 0., 0., 1., 0., 0.],\n",
       "        [0., 0., 0., 0., 0., 0., 0., 0., 0., 0., 0., 0., 0., 0., 0., 0., 0., 0.,\n",
       "         0., 0., 0., 0., 0., 0., 0., 0., 0., 1., 0.],\n",
       "        [0., 0., 0., 0., 0., 0., 0., 0., 0., 0., 0., 0., 0., 0., 0., 0., 0., 0.,\n",
       "         0., 0., 0., 0., 0., 0., 0., 0., 0., 0., 1.]])"
      ]
     },
     "metadata": {},
     "execution_count": 190
    }
   ],
   "source": [
    "charvocab.vectors"
   ]
  },
  {
   "cell_type": "code",
   "execution_count": 191,
   "metadata": {},
   "outputs": [
    {
     "output_type": "execute_result",
     "data": {
      "text/plain": [
       "[11,\n",
       " 11,\n",
       " 15,\n",
       " 17,\n",
       " 11,\n",
       " 28,\n",
       " 13,\n",
       " 18,\n",
       " 1,\n",
       " 11,\n",
       " 14,\n",
       " 11,\n",
       " 1,\n",
       " 9,\n",
       " 15,\n",
       " 2,\n",
       " 19,\n",
       " 3,\n",
       " 17,\n",
       " 21,\n",
       " 13,\n",
       " 18,\n",
       " 19,\n",
       " 1,\n",
       " 10,\n",
       " 23,\n",
       " 2,\n",
       " 19,\n",
       " 1,\n",
       " 10,\n",
       " 23,\n",
       " 2,\n",
       " 19,\n",
       " 3,\n",
       " 10,\n",
       " 23,\n",
       " 2,\n",
       " 19,\n",
       " 3,\n",
       " 19,\n",
       " 19,\n",
       " 1,\n",
       " 10,\n",
       " 23,\n",
       " 2,\n",
       " 19,\n",
       " 1,\n",
       " 15,\n",
       " 2,\n",
       " 19,\n",
       " 1,\n",
       " 10,\n",
       " 23,\n",
       " 2,\n",
       " 19,\n",
       " 3]"
      ]
     },
     "metadata": {},
     "execution_count": 191
    }
   ],
   "source": [
    "charvocab.string2ids(\"CCO[C@H](CNC(=O)c1[nH]c(Br)c(Br)c1Br)c1cc(Br)c(O)c(Br)c1\")"
   ]
  },
  {
   "cell_type": "code",
   "execution_count": 192,
   "metadata": {},
   "outputs": [
    {
     "output_type": "stream",
     "name": "stdout",
     "text": [
      "[11, 19, 3, 19, 21, 1, 11, 4, 11, 9, 11, 11, 1, 11, 15, 11, 1, 9, 15, 2, 11, 14, 5, 11, 11, 14, 11, 11, 5, 2, 15, 4, 2, 19, 1, 9, 15, 2, 17, 21, 13, 18, 19, 3, 9, 15]\n"
     ]
    }
   ],
   "source": [
    "print(charvocab.string2ids(\"Cc1cn(C2C=CC(COC(=O)CN3CCNCC3)O2)c(=O)[nH]c1=O\"))"
   ]
  },
  {
   "cell_type": "code",
   "execution_count": 125,
   "metadata": {},
   "outputs": [
    {
     "output_type": "execute_result",
     "data": {
      "text/plain": [
       "'Cc1cn(C2C=CC(COC(=O)CN3CCNCC3)O2)c(=O)[nH]c1=O'"
      ]
     },
     "metadata": {},
     "execution_count": 125
    }
   ],
   "source": [
    "assays_no_cx_chir[\"canonical_smiles\"][18]"
   ]
  },
  {
   "cell_type": "code",
   "execution_count": 128,
   "metadata": {},
   "outputs": [
    {
     "output_type": "execute_result",
     "data": {
      "text/plain": [
       "1932"
      ]
     },
     "metadata": {},
     "execution_count": 128
    }
   ],
   "source": []
  },
  {
   "cell_type": "code",
   "execution_count": 117,
   "metadata": {},
   "outputs": [],
   "source": [
    "from torch.utils.data import DataLoader\n",
    "from moses import CharVocab, StringDataset\n",
    "\n",
    "train = moses.get_dataset('train')"
   ]
  },
  {
   "cell_type": "code",
   "execution_count": 118,
   "metadata": {},
   "outputs": [
    {
     "output_type": "execute_result",
     "data": {
      "text/plain": [
       "array(['CCCS(=O)c1ccc2[nH]c(=NC(=O)OC)[nH]c2c1',\n",
       "       'CC(C)(C)C(=O)C(Oc1ccc(Cl)cc1)n1ccnc1',\n",
       "       'Cc1c(Cl)cccc1Nc1ncccc1C(=O)OCC(O)CO', ...,\n",
       "       'NC(=O)c1ccc2ccccc2c1Br',\n",
       "       'CC(=O)Nc1cccc(-c2nc3cc(C)ccc3[nH]c2=O)c1',\n",
       "       'CC(NC(=O)OC(C)(C)C)c1nc(CO)nn1Cc1ccccc1'], dtype=object)"
      ]
     },
     "metadata": {},
     "execution_count": 118
    }
   ],
   "source": []
  },
  {
   "cell_type": "code",
   "execution_count": null,
   "metadata": {},
   "outputs": [],
   "source": [
    "pd.read_csv(\"../../moses/da\")"
   ]
  }
 ],
 "metadata": {
  "kernelspec": {
   "display_name": "tinymolecule",
   "language": "python",
   "name": "tinymolecule"
  },
  "language_info": {
   "codemirror_mode": {
    "name": "ipython",
    "version": 3
   },
   "file_extension": ".py",
   "mimetype": "text/x-python",
   "name": "python",
   "nbconvert_exporter": "python",
   "pygments_lexer": "ipython3",
   "version": "3.6.12-final"
  }
 },
 "nbformat": 4,
 "nbformat_minor": 4
}